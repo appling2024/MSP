{
 "cells": [
  {
   "metadata": {},
   "cell_type": "markdown",
   "source": "TEXT",
   "id": "bcba720e11465901"
  },
  {
   "metadata": {
    "ExecuteTime": {
     "end_time": "2024-09-18T10:41:50.254079Z",
     "start_time": "2024-09-18T10:41:50.249926Z"
    }
   },
   "cell_type": "code",
   "source": [
    "with open('plain_text1.txt', 'r', encoding='utf-8') as f:\n",
    "  text = f.read()"
   ],
   "id": "38ed04cfc76dc774",
   "outputs": [],
   "execution_count": 37
  },
  {
   "metadata": {},
   "cell_type": "markdown",
   "source": "NLTK",
   "id": "61614d49325777fc"
  },
  {
   "metadata": {
    "ExecuteTime": {
     "end_time": "2024-09-18T10:41:50.262552Z",
     "start_time": "2024-09-18T10:41:50.255030Z"
    }
   },
   "cell_type": "code",
   "source": [
    "from nltk.tokenize import word_tokenize\n",
    "tokens = word_tokenize(text)"
   ],
   "id": "5594ddb6b1872dcc",
   "outputs": [],
   "execution_count": 38
  },
  {
   "metadata": {
    "ExecuteTime": {
     "end_time": "2024-09-18T10:41:50.281535Z",
     "start_time": "2024-09-18T10:41:50.278982Z"
    }
   },
   "cell_type": "code",
   "source": [
    "with open('token_NLTK.txt', 'w', encoding='utf-8') as out_f:\n",
    "  for token in tokens:\n",
    "    out_f.write(token + '\\n')"
   ],
   "id": "2758a5b3522a96ec",
   "outputs": [],
   "execution_count": 39
  },
  {
   "metadata": {},
   "cell_type": "markdown",
   "source": "STANZA",
   "id": "2878090685909a8d"
  },
  {
   "metadata": {
    "ExecuteTime": {
     "end_time": "2024-09-18T10:41:51.038055Z",
     "start_time": "2024-09-18T10:41:50.282586Z"
    }
   },
   "cell_type": "code",
   "source": [
    "import stanza\n",
    "nlp = stanza.Pipeline(lang='ru', processors='tokenize', tokenize_no_ssplit=True)\n",
    "doc = nlp(text)\n",
    "with open('token_STANZA.txt', 'w', encoding='utf-8') as out_f:\n",
    "    for sentence in doc.sentences:\n",
    "        for token in sentence.tokens:\n",
    "            out_f.write(token.text + '\\n')"
   ],
   "id": "d1252f7af51fe84a",
   "outputs": [
    {
     "name": "stderr",
     "output_type": "stream",
     "text": [
      "2024-09-18 13:41:50 INFO: Checking for updates to resources.json in case models have been updated.  Note: this behavior can be turned off with download_method=None or download_method=DownloadMethod.REUSE_RESOURCES\n"
     ]
    },
    {
     "data": {
      "text/plain": [
       "Downloading https://raw.githubusercontent.com/stanfordnlp/stanza-resources/main/resources_1.9.0.json:   0%|   …"
      ],
      "application/vnd.jupyter.widget-view+json": {
       "version_major": 2,
       "version_minor": 0,
       "model_id": "69e9d1d50e5c4b4591e50852850665d1"
      }
     },
     "metadata": {},
     "output_type": "display_data"
    },
    {
     "name": "stderr",
     "output_type": "stream",
     "text": [
      "2024-09-18 13:41:50 INFO: Downloaded file to /Users/sergey/stanza_resources/resources.json\n",
      "2024-09-18 13:41:50 INFO: Loading these models for language: ru (Russian):\n",
      "=========================\n",
      "| Processor | Package   |\n",
      "-------------------------\n",
      "| tokenize  | syntagrus |\n",
      "=========================\n",
      "\n",
      "2024-09-18 13:41:50 INFO: Using device: cpu\n",
      "2024-09-18 13:41:50 INFO: Loading: tokenize\n",
      "/Users/sergey/PycharmProjects/Tokenization/.venv/lib/python3.12/site-packages/stanza/models/tokenization/trainer.py:82: FutureWarning: You are using `torch.load` with `weights_only=False` (the current default value), which uses the default pickle module implicitly. It is possible to construct malicious pickle data which will execute arbitrary code during unpickling (See https://github.com/pytorch/pytorch/blob/main/SECURITY.md#untrusted-models for more details). In a future release, the default value for `weights_only` will be flipped to `True`. This limits the functions that could be executed during unpickling. Arbitrary objects will no longer be allowed to be loaded via this mode unless they are explicitly allowlisted by the user via `torch.serialization.add_safe_globals`. We recommend you start setting `weights_only=True` for any use case where you don't have full control of the loaded file. Please open an issue on GitHub for any issues related to this experimental feature.\n",
      "  checkpoint = torch.load(filename, lambda storage, loc: storage)\n",
      "2024-09-18 13:41:50 INFO: Done loading processors!\n"
     ]
    }
   ],
   "execution_count": 40
  },
  {
   "metadata": {},
   "cell_type": "markdown",
   "source": "RAZDEL",
   "id": "1806e33cc4a5234b"
  },
  {
   "metadata": {
    "ExecuteTime": {
     "end_time": "2024-09-18T10:41:51.045172Z",
     "start_time": "2024-09-18T10:41:51.038647Z"
    }
   },
   "cell_type": "code",
   "source": [
    "from razdel import tokenize\n",
    "tokens = list(tokenize(text))\n",
    "with open('token_RAZDEL.txt', 'w', encoding='utf-8') as out_f:\n",
    "  for token in tokens:\n",
    "    out_f.write(token.text + '\\n')"
   ],
   "id": "d14c5019a5c98689",
   "outputs": [],
   "execution_count": 41
  },
  {
   "metadata": {},
   "cell_type": "markdown",
   "source": "SPACY",
   "id": "9b94cb5c7aea5adc"
  },
  {
   "metadata": {
    "ExecuteTime": {
     "end_time": "2024-09-18T10:41:51.108823Z",
     "start_time": "2024-09-18T10:41:51.046244Z"
    }
   },
   "cell_type": "code",
   "source": [
    "import spacy\n",
    "nlp = spacy.blank(\"ru\")\n",
    "doc = nlp(text)\n",
    "\n",
    "with open('token_SPACY.txt', 'w', encoding='utf-8') as out_f:\n",
    "  for token in doc:\n",
    "      if token.text.strip():\n",
    "            out_f.write(token.text + '\\n')"
   ],
   "id": "5745481111f59b0f",
   "outputs": [],
   "execution_count": 42
  },
  {
   "metadata": {},
   "cell_type": "markdown",
   "source": "MOSES",
   "id": "fde12d6cfc172481"
  },
  {
   "metadata": {
    "ExecuteTime": {
     "end_time": "2024-09-18T10:41:51.148613Z",
     "start_time": "2024-09-18T10:41:51.109532Z"
    }
   },
   "cell_type": "code",
   "source": [
    "from mosestokenizer import MosesTokenizer\n",
    "tokenize = MosesTokenizer('ru')\n",
    "text = text.replace('\\n', ' ')\n",
    "tokens = tokenize(text)\n",
    "with open('token_MOSES.txt', 'w', encoding='utf-8') as out_f:\n",
    "  for token in tokens:\n",
    "    out_f.write(token + '\\n')"
   ],
   "id": "95ea1e227c5dd71",
   "outputs": [
    {
     "name": "stderr",
     "output_type": "stream",
     "text": [
      "stdbuf was not found; communication with perl may hang due to stdio buffering.\n"
     ]
    }
   ],
   "execution_count": 43
  },
  {
   "metadata": {},
   "cell_type": "markdown",
   "source": "PYMORPHY3",
   "id": "5f4f195524059234"
  },
  {
   "metadata": {
    "ExecuteTime": {
     "end_time": "2024-09-18T10:41:51.152954Z",
     "start_time": "2024-09-18T10:41:51.149564Z"
    }
   },
   "cell_type": "code",
   "source": [
    "from pymorphy3.tokenizers import simple_word_tokenize\n",
    "\n",
    "tokens = simple_word_tokenize(text)\n",
    "\n",
    "with open('token_PYMORPHY.txt', 'w', encoding='utf-8') as out_f:\n",
    "    for token in tokens:\n",
    "        out_f.write(token + '\\n')"
   ],
   "id": "5b084f0bea62e989",
   "outputs": [],
   "execution_count": 44
  },
  {
   "metadata": {},
   "cell_type": "markdown",
   "source": "SEGTOK",
   "id": "4329b7fbadcf6fc1"
  },
  {
   "metadata": {
    "ExecuteTime": {
     "end_time": "2024-09-18T10:41:51.161113Z",
     "start_time": "2024-09-18T10:41:51.153806Z"
    }
   },
   "cell_type": "code",
   "source": [
    "from segtok.tokenizer import word_tokenizer\n",
    "tokens = word_tokenizer(text)\n",
    "with open('token_SEGTOK.txt', 'w', encoding='utf-8') as out_f:\n",
    "    for token in tokens:\n",
    "        out_f.write(token + '\\n')"
   ],
   "id": "ffc41b770a9e91ff",
   "outputs": [],
   "execution_count": 45
  },
  {
   "metadata": {},
   "cell_type": "markdown",
   "source": "UDPIPE",
   "id": "c02df213a7cde1c5"
  },
  {
   "metadata": {
    "ExecuteTime": {
     "end_time": "2024-09-18T10:45:38.049654Z",
     "start_time": "2024-09-18T10:45:35.931699Z"
    }
   },
   "cell_type": "code",
   "source": [
    "import ufal\n",
    "from ufal import udpipe\n",
    "model_path = 'russian-syntagrus-ud-2.0-170801.udpipe'\n",
    "models = ufal.udpipe.Model.load(model_path)\n",
    "pipeline = ufal.udpipe.Pipeline(\n",
    "    models,\n",
    "    'tokenize',\n",
    "    ufal.udpipe.Pipeline.DEFAULT,\n",
    "    ufal.udpipe.Pipeline.DEFAULT,\n",
    "    ufal.udpipe.Pipeline.DEFAULT\n",
    ")\n",
    "processed_text = pipeline.process(text)\n",
    "array_ufal = []\n",
    "try:\n",
    "    for line in processed_text.split('\\n'):\n",
    "        parts = line.split('\\t')\n",
    "        if len(parts) > 1:\n",
    "            array_ufal.append(parts[1])\n",
    "finally:\n",
    "    with open ('token_UFAL.txt', 'w') as f_ufal:\n",
    "        for item in array_ufal:\n",
    "            f_ufal.write(item)\n",
    "            f_ufal.write('\\n')"
   ],
   "id": "6c73534503ff2265",
   "outputs": [],
   "execution_count": 49
  },
  {
   "metadata": {},
   "cell_type": "markdown",
   "source": "RESULTS",
   "id": "92ce678c980ffcbd"
  },
  {
   "metadata": {
    "ExecuteTime": {
     "end_time": "2024-09-18T10:53:36.315309Z",
     "start_time": "2024-09-18T10:53:35.959833Z"
    }
   },
   "cell_type": "code",
   "source": [
    "import pandas as pd\n",
    "import os\n",
    "from openpyxl import load_workbook\n",
    "\n",
    "def process_text_file(file_path):\n",
    "    with open(file_path, 'r', encoding='utf-8') as file:\n",
    "        lines = file.readlines()\n",
    "    \n",
    "    return [line.strip() for line in lines]\n",
    "\n",
    "def create_excel_from_txt(file_paths, column_names, output_file):\n",
    "    df = pd.DataFrame()\n",
    "\n",
    "    for i, file_path in enumerate(file_paths):\n",
    "        if os.path.exists(file_path):\n",
    "            tokens = process_text_file(file_path)\n",
    "            column_name = column_names[i]\n",
    "            df[column_name] = pd.Series(tokens)\n",
    "        else:\n",
    "            print(f\"Файл {file_path} не найден.\")\n",
    "    \n",
    "    df.to_excel(output_file, index=False)\n",
    "\n",
    "    wb = load_workbook(output_file)\n",
    "    ws = wb.active\n",
    "\n",
    "    for col in ws.columns:\n",
    "        max_length = 0\n",
    "        column = col[0].column_letter \n",
    "        for cell in col:\n",
    "            try:\n",
    "                if len(str(cell.value)) > max_length:\n",
    "                    max_length = len(cell.value)\n",
    "            except:\n",
    "                pass\n",
    "        adjusted_width = (max_length + 2) * 2 \n",
    "        ws.column_dimensions[column].width = adjusted_width\n",
    "\n",
    "    wb.save(output_file)\n",
    "    print(f\"The file is saved in the directory {output_file}\")\n",
    "\n",
    "if __name__ == \"__main__\":\n",
    "    file_paths = [\n",
    "        '/Users/sergey/PycharmProjects/Tokenization/token_NLTK.txt',\n",
    "        '/Users/sergey/PycharmProjects/Tokenization/token_MOSES.txt',\n",
    "        '/Users/sergey/PycharmProjects/Tokenization/token_PYMORPHY.txt',\n",
    "        '/Users/sergey/PycharmProjects/Tokenization/token_RAZDEL.txt',\n",
    "        '/Users/sergey/PycharmProjects/Tokenization/token_SEGTOK.txt',\n",
    "        '/Users/sergey/PycharmProjects/Tokenization/token_SPACY.txt',\n",
    "        '/Users/sergey/PycharmProjects/Tokenization/token_STANZA.txt',\n",
    "        '/Users/sergey/PycharmProjects/Tokenization/token_UFAL.txt',\n",
    "    ]\n",
    "    \n",
    "    column_names = [\n",
    "        'NLTK', \n",
    "        'MOSES', \n",
    "        'PYMORPHY', \n",
    "        'RAZDEL', \n",
    "        'SEGTOK', \n",
    "        'SPACY',\n",
    "        'STANZA',\n",
    "        'UFAL'\n",
    "    ]\n",
    "    \n",
    "    output_file = '/Tokenization/output_tokens.xlsx'\n",
    "    \n",
    "    create_excel_from_txt(file_paths, column_names, output_file)"
   ],
   "id": "454e8a555bdbddbe",
   "outputs": [
    {
     "name": "stdout",
     "output_type": "stream",
     "text": [
      "The file is saved in the directory /Users/sergey/PycharmProjects/Tokenization/output_tokens.xlsx\n"
     ]
    }
   ],
   "execution_count": 53
  },
  {
   "metadata": {},
   "cell_type": "code",
   "outputs": [],
   "execution_count": null,
   "source": "",
   "id": "c274a2a3859e60e2"
  }
 ],
 "metadata": {
  "kernelspec": {
   "display_name": "Python 3",
   "language": "python",
   "name": "python3"
  },
  "language_info": {
   "codemirror_mode": {
    "name": "ipython",
    "version": 2
   },
   "file_extension": ".py",
   "mimetype": "text/x-python",
   "name": "python",
   "nbconvert_exporter": "python",
   "pygments_lexer": "ipython2",
   "version": "2.7.6"
  }
 },
 "nbformat": 4,
 "nbformat_minor": 5
}
