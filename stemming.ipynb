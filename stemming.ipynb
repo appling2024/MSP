{
  "nbformat": 4,
  "nbformat_minor": 0,
  "metadata": {
    "colab": {
      "provenance": [],
      "authorship_tag": "ABX9TyPKhUL5pH/2TG9mEkOLnxz/",
      "include_colab_link": true
    },
    "kernelspec": {
      "name": "python3",
      "display_name": "Python 3"
    },
    "language_info": {
      "name": "python"
    }
  },
  "cells": [
    {
      "cell_type": "markdown",
      "metadata": {
        "id": "view-in-github",
        "colab_type": "text"
      },
      "source": [
        "<a href=\"https://colab.research.google.com/github/appling2024/MSP/blob/Liza_L/stemming.ipynb\" target=\"_parent\"><img src=\"https://colab.research.google.com/assets/colab-badge.svg\" alt=\"Open In Colab\"/></a>"
      ]
    },
    {
      "cell_type": "code",
      "execution_count": 2,
      "metadata": {
        "colab": {
          "base_uri": "https://localhost:8080/"
        },
        "id": "CnhaxfKjnlP-",
        "outputId": "ca47c27a-9524-4c5f-ee93-cfa1947efac6"
      },
      "outputs": [
        {
          "output_type": "stream",
          "name": "stdout",
          "text": [
            "Word                Porter Stemmer      Snowball Stemmer    Lancaster Stemmer             Regexp Stemmer                          \n",
            "умный               умный               умн                 умный                         умн                                     \n",
            "простой             простой             прост               простой                       прост                                   \n",
            "долгий              долгий              долг                долгий                        долг                                    \n",
            "книги               книги               книг                книги                         книг                                    \n",
            "фильмы              фильмы              фильм               фильмы                        фильм                                   \n",
            "сложное             сложное             сложн               сложное                       сложн                                   \n",
            "красная             красная             красн               красная                       красн                                   \n",
            "давние              давние              давн                давние                        давн                                    \n",
            "желтые              желтые              желт                желтые                        желт                                    \n",
            "энциклопедии        энциклопедии        энциклопед          энциклопедии                  энциклопеди                             \n",
            "заседание           заседание           заседан             заседание                     заседан                                 \n",
            "сны                 сны                 сны                 сны                           сн                                      \n",
            "хорошее             хорошее             хорош               хорошее                       хорош                                   \n"
          ]
        }
      ],
      "source": [
        "from nltk.stem import PorterStemmer, SnowballStemmer, LancasterStemmer, RegexpStemmer\n",
        "porter = PorterStemmer()\n",
        "lancaster = LancasterStemmer()\n",
        "snowball = SnowballStemmer(language='russian')\n",
        "regexp = RegexpStemmer('ый$|ой$|ы$|ий$|ая$|ое$|ые$|ие$|и$|ее$')\n",
        "word_list = ['умный','простой','долгий', 'книги', 'фильмы', 'сложное', 'красная', 'давние', 'желтые', 'энциклопедии', 'заседание', 'сны', 'хорошее']\n",
        "print(\"{0:20}{1:20}{2:20}{3:30}{4:40}\".format(\"Word\",\"Porter Stemmer\",\"Snowball Stemmer\",\"Lancaster Stemmer\",'Regexp Stemmer'))\n",
        "for word in word_list:\n",
        "    print(\"{0:20}{1:20}{2:20}{3:30}{4:40}\".format(word,porter.stem(word),snowball.stem(word),lancaster.stem(word),regexp.stem(word)))"
      ]
    }
  ]
}