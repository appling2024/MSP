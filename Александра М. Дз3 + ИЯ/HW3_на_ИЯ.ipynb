{
  "nbformat": 4,
  "nbformat_minor": 0,
  "metadata": {
    "colab": {
      "provenance": []
    },
    "kernelspec": {
      "name": "python3",
      "display_name": "Python 3"
    },
    "language_info": {
      "name": "python"
    }
  },
  "cells": [
    {
      "cell_type": "markdown",
      "source": [
        "Работаем с файлом brusov.txt"
      ],
      "metadata": {
        "id": "R1QM0j1qaQ7d"
      }
    },
    {
      "cell_type": "code",
      "execution_count": null,
      "metadata": {
        "id": "rE6DW9QsZl1X"
      },
      "outputs": [],
      "source": [
        "with open('brusov.txt', 'r', encoding='cp1251') as f:\n",
        "  my_file = f.read()"
      ]
    },
    {
      "cell_type": "code",
      "source": [
        "import pandas as pd"
      ],
      "metadata": {
        "id": "P6uzaP3XZul-"
      },
      "execution_count": 7,
      "outputs": []
    },
    {
      "cell_type": "markdown",
      "source": [
        "Файл на иностранном языке"
      ],
      "metadata": {
        "id": "XFDzvUr3nTfc"
      }
    },
    {
      "cell_type": "code",
      "source": [
        "with open('finnish.txt', 'r', encoding='utf-8') as f1:\n",
        "  my_fi = f1.read()"
      ],
      "metadata": {
        "id": "2aGRaF-pnWGm"
      },
      "execution_count": 1,
      "outputs": []
    },
    {
      "cell_type": "markdown",
      "source": [
        "# **Spacy**"
      ],
      "metadata": {
        "id": "wd5IqRRMcCJ1"
      }
    },
    {
      "cell_type": "markdown",
      "source": [
        "Подразумеваем работу с языковыми моделями"
      ],
      "metadata": {
        "id": "Io5v2mkrcD6F"
      }
    },
    {
      "cell_type": "code",
      "source": [
        "! python -m spacy download 'fi_core_news_sm'"
      ],
      "metadata": {
        "colab": {
          "base_uri": "https://localhost:8080/"
        },
        "collapsed": true,
        "id": "gIjZWitucGaW",
        "outputId": "b890ee9d-b4ad-4b7a-a0dd-da1c4acdb995"
      },
      "execution_count": 2,
      "outputs": [
        {
          "output_type": "stream",
          "name": "stdout",
          "text": [
            "Collecting fi-core-news-sm==3.7.0\n",
            "  Downloading https://github.com/explosion/spacy-models/releases/download/fi_core_news_sm-3.7.0/fi_core_news_sm-3.7.0-py3-none-any.whl (14.3 MB)\n",
            "\u001b[2K     \u001b[90m━━━━━━━━━━━━━━━━━━━━━━━━━━━━━━━━━━━━━━━━\u001b[0m \u001b[32m14.3/14.3 MB\u001b[0m \u001b[31m85.7 MB/s\u001b[0m eta \u001b[36m0:00:00\u001b[0m\n",
            "\u001b[?25hRequirement already satisfied: spacy<3.8.0,>=3.7.0 in /usr/local/lib/python3.10/dist-packages (from fi-core-news-sm==3.7.0) (3.7.5)\n",
            "Requirement already satisfied: spacy-legacy<3.1.0,>=3.0.11 in /usr/local/lib/python3.10/dist-packages (from spacy<3.8.0,>=3.7.0->fi-core-news-sm==3.7.0) (3.0.12)\n",
            "Requirement already satisfied: spacy-loggers<2.0.0,>=1.0.0 in /usr/local/lib/python3.10/dist-packages (from spacy<3.8.0,>=3.7.0->fi-core-news-sm==3.7.0) (1.0.5)\n",
            "Requirement already satisfied: murmurhash<1.1.0,>=0.28.0 in /usr/local/lib/python3.10/dist-packages (from spacy<3.8.0,>=3.7.0->fi-core-news-sm==3.7.0) (1.0.10)\n",
            "Requirement already satisfied: cymem<2.1.0,>=2.0.2 in /usr/local/lib/python3.10/dist-packages (from spacy<3.8.0,>=3.7.0->fi-core-news-sm==3.7.0) (2.0.8)\n",
            "Requirement already satisfied: preshed<3.1.0,>=3.0.2 in /usr/local/lib/python3.10/dist-packages (from spacy<3.8.0,>=3.7.0->fi-core-news-sm==3.7.0) (3.0.9)\n",
            "Requirement already satisfied: thinc<8.3.0,>=8.2.2 in /usr/local/lib/python3.10/dist-packages (from spacy<3.8.0,>=3.7.0->fi-core-news-sm==3.7.0) (8.2.5)\n",
            "Requirement already satisfied: wasabi<1.2.0,>=0.9.1 in /usr/local/lib/python3.10/dist-packages (from spacy<3.8.0,>=3.7.0->fi-core-news-sm==3.7.0) (1.1.3)\n",
            "Requirement already satisfied: srsly<3.0.0,>=2.4.3 in /usr/local/lib/python3.10/dist-packages (from spacy<3.8.0,>=3.7.0->fi-core-news-sm==3.7.0) (2.4.8)\n",
            "Requirement already satisfied: catalogue<2.1.0,>=2.0.6 in /usr/local/lib/python3.10/dist-packages (from spacy<3.8.0,>=3.7.0->fi-core-news-sm==3.7.0) (2.0.10)\n",
            "Requirement already satisfied: weasel<0.5.0,>=0.1.0 in /usr/local/lib/python3.10/dist-packages (from spacy<3.8.0,>=3.7.0->fi-core-news-sm==3.7.0) (0.4.1)\n",
            "Requirement already satisfied: typer<1.0.0,>=0.3.0 in /usr/local/lib/python3.10/dist-packages (from spacy<3.8.0,>=3.7.0->fi-core-news-sm==3.7.0) (0.12.5)\n",
            "Requirement already satisfied: tqdm<5.0.0,>=4.38.0 in /usr/local/lib/python3.10/dist-packages (from spacy<3.8.0,>=3.7.0->fi-core-news-sm==3.7.0) (4.66.5)\n",
            "Requirement already satisfied: requests<3.0.0,>=2.13.0 in /usr/local/lib/python3.10/dist-packages (from spacy<3.8.0,>=3.7.0->fi-core-news-sm==3.7.0) (2.32.3)\n",
            "Requirement already satisfied: pydantic!=1.8,!=1.8.1,<3.0.0,>=1.7.4 in /usr/local/lib/python3.10/dist-packages (from spacy<3.8.0,>=3.7.0->fi-core-news-sm==3.7.0) (2.9.2)\n",
            "Requirement already satisfied: jinja2 in /usr/local/lib/python3.10/dist-packages (from spacy<3.8.0,>=3.7.0->fi-core-news-sm==3.7.0) (3.1.4)\n",
            "Requirement already satisfied: setuptools in /usr/local/lib/python3.10/dist-packages (from spacy<3.8.0,>=3.7.0->fi-core-news-sm==3.7.0) (71.0.4)\n",
            "Requirement already satisfied: packaging>=20.0 in /usr/local/lib/python3.10/dist-packages (from spacy<3.8.0,>=3.7.0->fi-core-news-sm==3.7.0) (24.1)\n",
            "Requirement already satisfied: langcodes<4.0.0,>=3.2.0 in /usr/local/lib/python3.10/dist-packages (from spacy<3.8.0,>=3.7.0->fi-core-news-sm==3.7.0) (3.4.1)\n",
            "Requirement already satisfied: numpy>=1.19.0 in /usr/local/lib/python3.10/dist-packages (from spacy<3.8.0,>=3.7.0->fi-core-news-sm==3.7.0) (1.26.4)\n",
            "Requirement already satisfied: language-data>=1.2 in /usr/local/lib/python3.10/dist-packages (from langcodes<4.0.0,>=3.2.0->spacy<3.8.0,>=3.7.0->fi-core-news-sm==3.7.0) (1.2.0)\n",
            "Requirement already satisfied: annotated-types>=0.6.0 in /usr/local/lib/python3.10/dist-packages (from pydantic!=1.8,!=1.8.1,<3.0.0,>=1.7.4->spacy<3.8.0,>=3.7.0->fi-core-news-sm==3.7.0) (0.7.0)\n",
            "Requirement already satisfied: pydantic-core==2.23.4 in /usr/local/lib/python3.10/dist-packages (from pydantic!=1.8,!=1.8.1,<3.0.0,>=1.7.4->spacy<3.8.0,>=3.7.0->fi-core-news-sm==3.7.0) (2.23.4)\n",
            "Requirement already satisfied: typing-extensions>=4.6.1 in /usr/local/lib/python3.10/dist-packages (from pydantic!=1.8,!=1.8.1,<3.0.0,>=1.7.4->spacy<3.8.0,>=3.7.0->fi-core-news-sm==3.7.0) (4.12.2)\n",
            "Requirement already satisfied: charset-normalizer<4,>=2 in /usr/local/lib/python3.10/dist-packages (from requests<3.0.0,>=2.13.0->spacy<3.8.0,>=3.7.0->fi-core-news-sm==3.7.0) (3.3.2)\n",
            "Requirement already satisfied: idna<4,>=2.5 in /usr/local/lib/python3.10/dist-packages (from requests<3.0.0,>=2.13.0->spacy<3.8.0,>=3.7.0->fi-core-news-sm==3.7.0) (3.10)\n",
            "Requirement already satisfied: urllib3<3,>=1.21.1 in /usr/local/lib/python3.10/dist-packages (from requests<3.0.0,>=2.13.0->spacy<3.8.0,>=3.7.0->fi-core-news-sm==3.7.0) (2.2.3)\n",
            "Requirement already satisfied: certifi>=2017.4.17 in /usr/local/lib/python3.10/dist-packages (from requests<3.0.0,>=2.13.0->spacy<3.8.0,>=3.7.0->fi-core-news-sm==3.7.0) (2024.8.30)\n",
            "Requirement already satisfied: blis<0.8.0,>=0.7.8 in /usr/local/lib/python3.10/dist-packages (from thinc<8.3.0,>=8.2.2->spacy<3.8.0,>=3.7.0->fi-core-news-sm==3.7.0) (0.7.11)\n",
            "Requirement already satisfied: confection<1.0.0,>=0.0.1 in /usr/local/lib/python3.10/dist-packages (from thinc<8.3.0,>=8.2.2->spacy<3.8.0,>=3.7.0->fi-core-news-sm==3.7.0) (0.1.5)\n",
            "Requirement already satisfied: click>=8.0.0 in /usr/local/lib/python3.10/dist-packages (from typer<1.0.0,>=0.3.0->spacy<3.8.0,>=3.7.0->fi-core-news-sm==3.7.0) (8.1.7)\n",
            "Requirement already satisfied: shellingham>=1.3.0 in /usr/local/lib/python3.10/dist-packages (from typer<1.0.0,>=0.3.0->spacy<3.8.0,>=3.7.0->fi-core-news-sm==3.7.0) (1.5.4)\n",
            "Requirement already satisfied: rich>=10.11.0 in /usr/local/lib/python3.10/dist-packages (from typer<1.0.0,>=0.3.0->spacy<3.8.0,>=3.7.0->fi-core-news-sm==3.7.0) (13.9.2)\n",
            "Requirement already satisfied: cloudpathlib<1.0.0,>=0.7.0 in /usr/local/lib/python3.10/dist-packages (from weasel<0.5.0,>=0.1.0->spacy<3.8.0,>=3.7.0->fi-core-news-sm==3.7.0) (0.19.0)\n",
            "Requirement already satisfied: smart-open<8.0.0,>=5.2.1 in /usr/local/lib/python3.10/dist-packages (from weasel<0.5.0,>=0.1.0->spacy<3.8.0,>=3.7.0->fi-core-news-sm==3.7.0) (7.0.5)\n",
            "Requirement already satisfied: MarkupSafe>=2.0 in /usr/local/lib/python3.10/dist-packages (from jinja2->spacy<3.8.0,>=3.7.0->fi-core-news-sm==3.7.0) (2.1.5)\n",
            "Requirement already satisfied: marisa-trie>=0.7.7 in /usr/local/lib/python3.10/dist-packages (from language-data>=1.2->langcodes<4.0.0,>=3.2.0->spacy<3.8.0,>=3.7.0->fi-core-news-sm==3.7.0) (1.2.0)\n",
            "Requirement already satisfied: markdown-it-py>=2.2.0 in /usr/local/lib/python3.10/dist-packages (from rich>=10.11.0->typer<1.0.0,>=0.3.0->spacy<3.8.0,>=3.7.0->fi-core-news-sm==3.7.0) (3.0.0)\n",
            "Requirement already satisfied: pygments<3.0.0,>=2.13.0 in /usr/local/lib/python3.10/dist-packages (from rich>=10.11.0->typer<1.0.0,>=0.3.0->spacy<3.8.0,>=3.7.0->fi-core-news-sm==3.7.0) (2.18.0)\n",
            "Requirement already satisfied: wrapt in /usr/local/lib/python3.10/dist-packages (from smart-open<8.0.0,>=5.2.1->weasel<0.5.0,>=0.1.0->spacy<3.8.0,>=3.7.0->fi-core-news-sm==3.7.0) (1.16.0)\n",
            "Requirement already satisfied: mdurl~=0.1 in /usr/local/lib/python3.10/dist-packages (from markdown-it-py>=2.2.0->rich>=10.11.0->typer<1.0.0,>=0.3.0->spacy<3.8.0,>=3.7.0->fi-core-news-sm==3.7.0) (0.1.2)\n",
            "Installing collected packages: fi-core-news-sm\n",
            "Successfully installed fi-core-news-sm-3.7.0\n",
            "\u001b[38;5;2m✔ Download and installation successful\u001b[0m\n",
            "You can now load the package via spacy.load('fi_core_news_sm')\n",
            "\u001b[38;5;3m⚠ Restart to reload dependencies\u001b[0m\n",
            "If you are in a Jupyter or Colab notebook, you may need to restart Python in\n",
            "order to load all the package's dependencies. You can do this by selecting the\n",
            "'Restart kernel' or 'Restart runtime' option.\n"
          ]
        }
      ]
    },
    {
      "cell_type": "code",
      "source": [
        "import spacy"
      ],
      "metadata": {
        "id": "CzDXZDricSWJ"
      },
      "execution_count": 3,
      "outputs": []
    },
    {
      "cell_type": "code",
      "source": [
        "nlp = spacy.load('fi_core_news_sm')"
      ],
      "metadata": {
        "id": "b96F6UDMcWlD"
      },
      "execution_count": 4,
      "outputs": []
    },
    {
      "cell_type": "code",
      "source": [
        "doc = nlp(my_fi)\n",
        "my_fi_spacy = []\n",
        "for token in doc:\n",
        "  print(token.text, token.pos_, token.morph)\n",
        "  my_fi_spacy.append((token.text, token.pos_, token.morph))"
      ],
      "metadata": {
        "colab": {
          "base_uri": "https://localhost:8080/"
        },
        "collapsed": true,
        "id": "tefKbmKQcbLW",
        "outputId": "efd24e46-ee15-46db-ee1c-d9afe3b7584e"
      },
      "execution_count": 5,
      "outputs": [
        {
          "output_type": "stream",
          "name": "stdout",
          "text": [
            "Kun SCONJ \n",
            "minä PRON Case=Nom|Number=Sing|Person=1|PronType=Prs\n",
            "kotoani VERB Case=Par|Degree=Pos|Number=Sing|Number[psor]=Sing|PartForm=Past|Person[psor]=1|VerbForm=Part|Voice=Pass\n",
            "läksin ADV \n",
            "niin ADV \n",
            "pilvet NOUN Case=Nom|Number=Plur\n",
            "ne PRON Case=Nom|Number=Plur|PronType=Dem\n",
            "varjoili VERB Mood=Ind|Number=Sing|Person=3|Tense=Past|VerbForm=Fin|Voice=Act\n",
            "\n",
            " SPACE \n",
            "ja CCONJ \n",
            "kaikista PRON Case=Ela|Number=Plur|PronType=Ind\n",
            "katkerimman ADJ Case=Gen|Degree=Pos|Number=Sing\n",
            "kohtalon NOUN Case=Gen|Number=Sing\n",
            "mulle PRON Case=All|Number=Sing|PronType=Prs|Style=Coll\n",
            "maailma NOUN Case=Nom|Number=Sing\n",
            "tarjosi VERB Mood=Ind|Number=Sing|Person=3|Tense=Past|VerbForm=Fin|Voice=Act\n",
            "\n",
            " SPACE \n",
            "kylän NOUN Case=Gen|Number=Sing\n",
            "karkeloissa VERB Case=Ine|InfForm=2|Number=Sing|VerbForm=Inf|Voice=Act\n",
            "tulin VERB Mood=Ind|Number=Sing|Person=1|Tense=Past|VerbForm=Fin|Voice=Act\n",
            "tyttösen NOUN Case=Gen|Derivation=Minen|Number=Sing\n",
            "tuntemaan VERB Case=Ill|InfForm=3|Number=Sing|VerbForm=Inf|Voice=Act\n",
            "\n",
            " SPACE \n",
            "enkä AUX Clitic=Ka|Number=Sing|Person=1|Polarity=Neg|VerbForm=Fin|Voice=Act\n",
            "loistetta VERB Case=Abe|InfForm=3|Number=Sing|VerbForm=Inf|Voice=Act\n",
            "sinisistä ADJ Case=Ela|Degree=Pos|Derivation=Inen|Number=Plur\n",
            "silmistä NOUN Case=Ela|Number=Plur\n",
            "unhoita NOUN Case=Par|Number=Plur\n",
            "milloinkaan ADV \n",
            "\n",
            " SPACE \n",
            "eikä AUX Clitic=Ka|Number=Sing|Person=3|Polarity=Neg|VerbForm=Fin|Voice=Act\n",
            "mun PRON Case=Gen|Number=Sing|PronType=Prs|Style=Coll\n",
            "ikäväni NOUN Case=Ine|Number=Plur|Number[psor]=Sing|Person[psor]=1\n",
            "haihdu VERB Connegative=Yes|Mood=Ind|Tense=Pres|VerbForm=Fin\n",
            "täällä ADV \n",
            "outojen NOUN Case=Gen|Number=Plur\n",
            "seurassa NOUN Case=Ine|Number=Sing\n",
            "\n",
            " SPACE \n",
            "ennen ADV \n",
            "kuin SCONJ \n",
            "kukkii VERB Mood=Ind|Number=Sing|Person=3|Tense=Pres|VerbForm=Fin|Voice=Act\n",
            "se PRON Case=Nom|Number=Sing|PronType=Dem\n",
            "orajanruusu NOUN Case=Nom|Derivation=U|Number=Sing\n",
            "minun PRON Case=Gen|Number=Sing|Person=1|PronType=Prs\n",
            "hautani NOUN Case=Gen|Number=Sing|Number[psor]=Sing|Person[psor]=1\n",
            "reunalla NOUN Case=Ade|Number=Sing\n"
          ]
        }
      ]
    },
    {
      "cell_type": "code",
      "source": [
        "df = pd.DataFrame(my_fi_spacy, columns=['token', 'pos', 'tag'])\n",
        "df.to_excel('my_fi_spacy.xlsx', index=False)"
      ],
      "metadata": {
        "id": "NWUaZ-2nc_mI"
      },
      "execution_count": 8,
      "outputs": []
    },
    {
      "cell_type": "markdown",
      "source": [
        "# **PyMorphy**"
      ],
      "metadata": {
        "id": "I6PnYsiVhW6E"
      }
    },
    {
      "cell_type": "markdown",
      "source": [
        "Финский не получился"
      ],
      "metadata": {
        "id": "UauPGYQRrBUp"
      }
    },
    {
      "cell_type": "code",
      "source": [
        "#pip install pymorphy3"
      ],
      "metadata": {
        "collapsed": true,
        "id": "lPw0av3CZwVT"
      },
      "execution_count": null,
      "outputs": []
    },
    {
      "cell_type": "code",
      "source": [
        "from pymorphy3 import MorphAnalyzer"
      ],
      "metadata": {
        "id": "A4K7gWAkZ1Ht"
      },
      "execution_count": 9,
      "outputs": []
    },
    {
      "cell_type": "code",
      "source": [
        "morph = MorphAnalyzer()"
      ],
      "metadata": {
        "id": "BOKHGQzcZ7vV"
      },
      "execution_count": 10,
      "outputs": []
    },
    {
      "cell_type": "code",
      "source": [
        "from pymorphy3.tokenizers import simple_word_tokenize"
      ],
      "metadata": {
        "collapsed": true,
        "id": "q8kjK0ioaoSs"
      },
      "execution_count": 11,
      "outputs": []
    },
    {
      "cell_type": "code",
      "source": [
        "my_fi_tokenized_pm = simple_word_tokenize(my_fi)"
      ],
      "metadata": {
        "id": "X08vbwYCZ_eX"
      },
      "execution_count": 12,
      "outputs": []
    },
    {
      "cell_type": "code",
      "source": [
        "my_fi_tokenized_pm"
      ],
      "metadata": {
        "colab": {
          "base_uri": "https://localhost:8080/"
        },
        "collapsed": true,
        "id": "iWHVggH_cB53",
        "outputId": "d87884a1-0724-4880-989e-a64249784792"
      },
      "execution_count": 13,
      "outputs": [
        {
          "output_type": "execute_result",
          "data": {
            "text/plain": [
              "['Kun',\n",
              " 'minä',\n",
              " 'kotoani',\n",
              " 'läksin',\n",
              " 'niin',\n",
              " 'pilvet',\n",
              " 'ne',\n",
              " 'varjoili',\n",
              " 'ja',\n",
              " 'kaikista',\n",
              " 'katkerimman',\n",
              " 'kohtalon',\n",
              " 'mulle',\n",
              " 'maailma',\n",
              " 'tarjosi',\n",
              " 'kylän',\n",
              " 'karkeloissa',\n",
              " 'tulin',\n",
              " 'tyttösen',\n",
              " 'tuntemaan',\n",
              " 'enkä',\n",
              " 'loistetta',\n",
              " 'sinisistä',\n",
              " 'silmistä',\n",
              " 'unhoita',\n",
              " 'milloinkaan',\n",
              " 'eikä',\n",
              " 'mun',\n",
              " 'ikäväni',\n",
              " 'haihdu',\n",
              " 'täällä',\n",
              " 'outojen',\n",
              " 'seurassa',\n",
              " 'ennen',\n",
              " 'kuin',\n",
              " 'kukkii',\n",
              " 'se',\n",
              " 'orajanruusu',\n",
              " 'minun',\n",
              " 'hautani',\n",
              " 'reunalla']"
            ]
          },
          "metadata": {},
          "execution_count": 13
        }
      ]
    },
    {
      "cell_type": "code",
      "source": [
        "my_fi_tokenized_pm = simple_word_tokenize(my_fi)\n",
        "for token in my_fi_tokenized_pm:\n",
        "    parsed_token = morph.parse(token)\n",
        "    print('{:3}\\t{:10}\\t{:50}'.format(len(parsed_token), parsed_token[0].word, parsed_token[0].tag._str))"
      ],
      "metadata": {
        "colab": {
          "base_uri": "https://localhost:8080/"
        },
        "collapsed": true,
        "id": "lFBq8hdS6UHp",
        "outputId": "69475d88-83e2-4eba-b83f-fefea1946d3b"
      },
      "execution_count": 15,
      "outputs": [
        {
          "output_type": "stream",
          "name": "stdout",
          "text": [
            "  1\tkun       \tLATN                                              \n",
            "  1\tminä      \tLATN                                              \n",
            "  1\tkotoani   \tLATN                                              \n",
            "  1\tläksin    \tLATN                                              \n",
            "  1\tniin      \tLATN                                              \n",
            "  1\tpilvet    \tLATN                                              \n",
            "  1\tne        \tLATN                                              \n",
            "  1\tvarjoili  \tLATN                                              \n",
            "  1\tja        \tLATN                                              \n",
            "  1\tkaikista  \tLATN                                              \n",
            "  1\tkatkerimman\tLATN                                              \n",
            "  1\tkohtalon  \tLATN                                              \n",
            "  1\tmulle     \tLATN                                              \n",
            "  1\tmaailma   \tLATN                                              \n",
            "  1\ttarjosi   \tLATN                                              \n",
            "  1\tkylän     \tLATN                                              \n",
            "  1\tkarkeloissa\tLATN                                              \n",
            "  1\ttulin     \tLATN                                              \n",
            "  1\ttyttösen  \tLATN                                              \n",
            "  1\ttuntemaan \tLATN                                              \n",
            "  1\tenkä      \tLATN                                              \n",
            "  1\tloistetta \tLATN                                              \n",
            "  1\tsinisistä \tLATN                                              \n",
            "  1\tsilmistä  \tLATN                                              \n",
            "  1\tunhoita   \tLATN                                              \n",
            "  1\tmilloinkaan\tLATN                                              \n",
            "  1\teikä      \tLATN                                              \n",
            "  1\tmun       \tLATN                                              \n",
            "  1\tikäväni   \tLATN                                              \n",
            "  1\thaihdu    \tLATN                                              \n",
            "  1\ttäällä    \tLATN                                              \n",
            "  1\toutojen   \tLATN                                              \n",
            "  1\tseurassa  \tLATN                                              \n",
            "  1\tennen     \tLATN                                              \n",
            "  1\tkuin      \tLATN                                              \n",
            "  1\tkukkii    \tLATN                                              \n",
            "  1\tse        \tLATN                                              \n",
            "  1\torajanruusu\tLATN                                              \n",
            "  1\tminun     \tLATN                                              \n",
            "  1\thautani   \tLATN                                              \n",
            "  1\treunalla  \tLATN                                              \n"
          ]
        }
      ]
    },
    {
      "cell_type": "code",
      "source": [
        "my_fi_tokenized_pm = simple_word_tokenize(my_fi)\n",
        "my_fi_pymorphy = []\n",
        "for token in my_fi_tokenized_pm:\n",
        "    parsed_token = morph.parse(token)\n",
        "    my_fi_pymorphy.append((parsed_token[0].word, parsed_token[0].tag._str))"
      ],
      "metadata": {
        "id": "awO6B8vvR4VM"
      },
      "execution_count": 18,
      "outputs": []
    },
    {
      "cell_type": "code",
      "source": [
        "my_fi_pymorphy"
      ],
      "metadata": {
        "colab": {
          "base_uri": "https://localhost:8080/"
        },
        "id": "m6ZuDPwwUXWg",
        "outputId": "d960602d-91e1-4a72-a7b5-93cad1f40060",
        "collapsed": true
      },
      "execution_count": 19,
      "outputs": [
        {
          "output_type": "execute_result",
          "data": {
            "text/plain": [
              "[('kun', 'LATN'),\n",
              " ('minä', 'LATN'),\n",
              " ('kotoani', 'LATN'),\n",
              " ('läksin', 'LATN'),\n",
              " ('niin', 'LATN'),\n",
              " ('pilvet', 'LATN'),\n",
              " ('ne', 'LATN'),\n",
              " ('varjoili', 'LATN'),\n",
              " ('ja', 'LATN'),\n",
              " ('kaikista', 'LATN'),\n",
              " ('katkerimman', 'LATN'),\n",
              " ('kohtalon', 'LATN'),\n",
              " ('mulle', 'LATN'),\n",
              " ('maailma', 'LATN'),\n",
              " ('tarjosi', 'LATN'),\n",
              " ('kylän', 'LATN'),\n",
              " ('karkeloissa', 'LATN'),\n",
              " ('tulin', 'LATN'),\n",
              " ('tyttösen', 'LATN'),\n",
              " ('tuntemaan', 'LATN'),\n",
              " ('enkä', 'LATN'),\n",
              " ('loistetta', 'LATN'),\n",
              " ('sinisistä', 'LATN'),\n",
              " ('silmistä', 'LATN'),\n",
              " ('unhoita', 'LATN'),\n",
              " ('milloinkaan', 'LATN'),\n",
              " ('eikä', 'LATN'),\n",
              " ('mun', 'LATN'),\n",
              " ('ikäväni', 'LATN'),\n",
              " ('haihdu', 'LATN'),\n",
              " ('täällä', 'LATN'),\n",
              " ('outojen', 'LATN'),\n",
              " ('seurassa', 'LATN'),\n",
              " ('ennen', 'LATN'),\n",
              " ('kuin', 'LATN'),\n",
              " ('kukkii', 'LATN'),\n",
              " ('se', 'LATN'),\n",
              " ('orajanruusu', 'LATN'),\n",
              " ('minun', 'LATN'),\n",
              " ('hautani', 'LATN'),\n",
              " ('reunalla', 'LATN')]"
            ]
          },
          "metadata": {},
          "execution_count": 19
        }
      ]
    },
    {
      "cell_type": "code",
      "source": [
        "df = pd.DataFrame(my_fi_pymorphy, columns=['token', 'tag'])\n",
        "df.to_excel('my_fi_pymorphy.xlsx', index=False)"
      ],
      "metadata": {
        "id": "LYSxJliuShXN"
      },
      "execution_count": 20,
      "outputs": []
    },
    {
      "cell_type": "code",
      "source": [
        "df"
      ],
      "metadata": {
        "colab": {
          "base_uri": "https://localhost:8080/",
          "height": 1000
        },
        "id": "lbccrtT4SrWB",
        "outputId": "0bcd8e65-2ef0-440d-e8f1-ae9d6f51cb28",
        "collapsed": true
      },
      "execution_count": 21,
      "outputs": [
        {
          "output_type": "execute_result",
          "data": {
            "text/plain": [
              "          token   tag\n",
              "0           kun  LATN\n",
              "1          minä  LATN\n",
              "2       kotoani  LATN\n",
              "3        läksin  LATN\n",
              "4          niin  LATN\n",
              "5        pilvet  LATN\n",
              "6            ne  LATN\n",
              "7      varjoili  LATN\n",
              "8            ja  LATN\n",
              "9      kaikista  LATN\n",
              "10  katkerimman  LATN\n",
              "11     kohtalon  LATN\n",
              "12        mulle  LATN\n",
              "13      maailma  LATN\n",
              "14      tarjosi  LATN\n",
              "15        kylän  LATN\n",
              "16  karkeloissa  LATN\n",
              "17        tulin  LATN\n",
              "18     tyttösen  LATN\n",
              "19    tuntemaan  LATN\n",
              "20         enkä  LATN\n",
              "21    loistetta  LATN\n",
              "22    sinisistä  LATN\n",
              "23     silmistä  LATN\n",
              "24      unhoita  LATN\n",
              "25  milloinkaan  LATN\n",
              "26         eikä  LATN\n",
              "27          mun  LATN\n",
              "28      ikäväni  LATN\n",
              "29       haihdu  LATN\n",
              "30       täällä  LATN\n",
              "31      outojen  LATN\n",
              "32     seurassa  LATN\n",
              "33        ennen  LATN\n",
              "34         kuin  LATN\n",
              "35       kukkii  LATN\n",
              "36           se  LATN\n",
              "37  orajanruusu  LATN\n",
              "38        minun  LATN\n",
              "39      hautani  LATN\n",
              "40     reunalla  LATN"
            ],
            "text/html": [
              "\n",
              "  <div id=\"df-e8d351c5-d928-4066-be18-beadd035ccc3\" class=\"colab-df-container\">\n",
              "    <div>\n",
              "<style scoped>\n",
              "    .dataframe tbody tr th:only-of-type {\n",
              "        vertical-align: middle;\n",
              "    }\n",
              "\n",
              "    .dataframe tbody tr th {\n",
              "        vertical-align: top;\n",
              "    }\n",
              "\n",
              "    .dataframe thead th {\n",
              "        text-align: right;\n",
              "    }\n",
              "</style>\n",
              "<table border=\"1\" class=\"dataframe\">\n",
              "  <thead>\n",
              "    <tr style=\"text-align: right;\">\n",
              "      <th></th>\n",
              "      <th>token</th>\n",
              "      <th>tag</th>\n",
              "    </tr>\n",
              "  </thead>\n",
              "  <tbody>\n",
              "    <tr>\n",
              "      <th>0</th>\n",
              "      <td>kun</td>\n",
              "      <td>LATN</td>\n",
              "    </tr>\n",
              "    <tr>\n",
              "      <th>1</th>\n",
              "      <td>minä</td>\n",
              "      <td>LATN</td>\n",
              "    </tr>\n",
              "    <tr>\n",
              "      <th>2</th>\n",
              "      <td>kotoani</td>\n",
              "      <td>LATN</td>\n",
              "    </tr>\n",
              "    <tr>\n",
              "      <th>3</th>\n",
              "      <td>läksin</td>\n",
              "      <td>LATN</td>\n",
              "    </tr>\n",
              "    <tr>\n",
              "      <th>4</th>\n",
              "      <td>niin</td>\n",
              "      <td>LATN</td>\n",
              "    </tr>\n",
              "    <tr>\n",
              "      <th>5</th>\n",
              "      <td>pilvet</td>\n",
              "      <td>LATN</td>\n",
              "    </tr>\n",
              "    <tr>\n",
              "      <th>6</th>\n",
              "      <td>ne</td>\n",
              "      <td>LATN</td>\n",
              "    </tr>\n",
              "    <tr>\n",
              "      <th>7</th>\n",
              "      <td>varjoili</td>\n",
              "      <td>LATN</td>\n",
              "    </tr>\n",
              "    <tr>\n",
              "      <th>8</th>\n",
              "      <td>ja</td>\n",
              "      <td>LATN</td>\n",
              "    </tr>\n",
              "    <tr>\n",
              "      <th>9</th>\n",
              "      <td>kaikista</td>\n",
              "      <td>LATN</td>\n",
              "    </tr>\n",
              "    <tr>\n",
              "      <th>10</th>\n",
              "      <td>katkerimman</td>\n",
              "      <td>LATN</td>\n",
              "    </tr>\n",
              "    <tr>\n",
              "      <th>11</th>\n",
              "      <td>kohtalon</td>\n",
              "      <td>LATN</td>\n",
              "    </tr>\n",
              "    <tr>\n",
              "      <th>12</th>\n",
              "      <td>mulle</td>\n",
              "      <td>LATN</td>\n",
              "    </tr>\n",
              "    <tr>\n",
              "      <th>13</th>\n",
              "      <td>maailma</td>\n",
              "      <td>LATN</td>\n",
              "    </tr>\n",
              "    <tr>\n",
              "      <th>14</th>\n",
              "      <td>tarjosi</td>\n",
              "      <td>LATN</td>\n",
              "    </tr>\n",
              "    <tr>\n",
              "      <th>15</th>\n",
              "      <td>kylän</td>\n",
              "      <td>LATN</td>\n",
              "    </tr>\n",
              "    <tr>\n",
              "      <th>16</th>\n",
              "      <td>karkeloissa</td>\n",
              "      <td>LATN</td>\n",
              "    </tr>\n",
              "    <tr>\n",
              "      <th>17</th>\n",
              "      <td>tulin</td>\n",
              "      <td>LATN</td>\n",
              "    </tr>\n",
              "    <tr>\n",
              "      <th>18</th>\n",
              "      <td>tyttösen</td>\n",
              "      <td>LATN</td>\n",
              "    </tr>\n",
              "    <tr>\n",
              "      <th>19</th>\n",
              "      <td>tuntemaan</td>\n",
              "      <td>LATN</td>\n",
              "    </tr>\n",
              "    <tr>\n",
              "      <th>20</th>\n",
              "      <td>enkä</td>\n",
              "      <td>LATN</td>\n",
              "    </tr>\n",
              "    <tr>\n",
              "      <th>21</th>\n",
              "      <td>loistetta</td>\n",
              "      <td>LATN</td>\n",
              "    </tr>\n",
              "    <tr>\n",
              "      <th>22</th>\n",
              "      <td>sinisistä</td>\n",
              "      <td>LATN</td>\n",
              "    </tr>\n",
              "    <tr>\n",
              "      <th>23</th>\n",
              "      <td>silmistä</td>\n",
              "      <td>LATN</td>\n",
              "    </tr>\n",
              "    <tr>\n",
              "      <th>24</th>\n",
              "      <td>unhoita</td>\n",
              "      <td>LATN</td>\n",
              "    </tr>\n",
              "    <tr>\n",
              "      <th>25</th>\n",
              "      <td>milloinkaan</td>\n",
              "      <td>LATN</td>\n",
              "    </tr>\n",
              "    <tr>\n",
              "      <th>26</th>\n",
              "      <td>eikä</td>\n",
              "      <td>LATN</td>\n",
              "    </tr>\n",
              "    <tr>\n",
              "      <th>27</th>\n",
              "      <td>mun</td>\n",
              "      <td>LATN</td>\n",
              "    </tr>\n",
              "    <tr>\n",
              "      <th>28</th>\n",
              "      <td>ikäväni</td>\n",
              "      <td>LATN</td>\n",
              "    </tr>\n",
              "    <tr>\n",
              "      <th>29</th>\n",
              "      <td>haihdu</td>\n",
              "      <td>LATN</td>\n",
              "    </tr>\n",
              "    <tr>\n",
              "      <th>30</th>\n",
              "      <td>täällä</td>\n",
              "      <td>LATN</td>\n",
              "    </tr>\n",
              "    <tr>\n",
              "      <th>31</th>\n",
              "      <td>outojen</td>\n",
              "      <td>LATN</td>\n",
              "    </tr>\n",
              "    <tr>\n",
              "      <th>32</th>\n",
              "      <td>seurassa</td>\n",
              "      <td>LATN</td>\n",
              "    </tr>\n",
              "    <tr>\n",
              "      <th>33</th>\n",
              "      <td>ennen</td>\n",
              "      <td>LATN</td>\n",
              "    </tr>\n",
              "    <tr>\n",
              "      <th>34</th>\n",
              "      <td>kuin</td>\n",
              "      <td>LATN</td>\n",
              "    </tr>\n",
              "    <tr>\n",
              "      <th>35</th>\n",
              "      <td>kukkii</td>\n",
              "      <td>LATN</td>\n",
              "    </tr>\n",
              "    <tr>\n",
              "      <th>36</th>\n",
              "      <td>se</td>\n",
              "      <td>LATN</td>\n",
              "    </tr>\n",
              "    <tr>\n",
              "      <th>37</th>\n",
              "      <td>orajanruusu</td>\n",
              "      <td>LATN</td>\n",
              "    </tr>\n",
              "    <tr>\n",
              "      <th>38</th>\n",
              "      <td>minun</td>\n",
              "      <td>LATN</td>\n",
              "    </tr>\n",
              "    <tr>\n",
              "      <th>39</th>\n",
              "      <td>hautani</td>\n",
              "      <td>LATN</td>\n",
              "    </tr>\n",
              "    <tr>\n",
              "      <th>40</th>\n",
              "      <td>reunalla</td>\n",
              "      <td>LATN</td>\n",
              "    </tr>\n",
              "  </tbody>\n",
              "</table>\n",
              "</div>\n",
              "    <div class=\"colab-df-buttons\">\n",
              "\n",
              "  <div class=\"colab-df-container\">\n",
              "    <button class=\"colab-df-convert\" onclick=\"convertToInteractive('df-e8d351c5-d928-4066-be18-beadd035ccc3')\"\n",
              "            title=\"Convert this dataframe to an interactive table.\"\n",
              "            style=\"display:none;\">\n",
              "\n",
              "  <svg xmlns=\"http://www.w3.org/2000/svg\" height=\"24px\" viewBox=\"0 -960 960 960\">\n",
              "    <path d=\"M120-120v-720h720v720H120Zm60-500h600v-160H180v160Zm220 220h160v-160H400v160Zm0 220h160v-160H400v160ZM180-400h160v-160H180v160Zm440 0h160v-160H620v160ZM180-180h160v-160H180v160Zm440 0h160v-160H620v160Z\"/>\n",
              "  </svg>\n",
              "    </button>\n",
              "\n",
              "  <style>\n",
              "    .colab-df-container {\n",
              "      display:flex;\n",
              "      gap: 12px;\n",
              "    }\n",
              "\n",
              "    .colab-df-convert {\n",
              "      background-color: #E8F0FE;\n",
              "      border: none;\n",
              "      border-radius: 50%;\n",
              "      cursor: pointer;\n",
              "      display: none;\n",
              "      fill: #1967D2;\n",
              "      height: 32px;\n",
              "      padding: 0 0 0 0;\n",
              "      width: 32px;\n",
              "    }\n",
              "\n",
              "    .colab-df-convert:hover {\n",
              "      background-color: #E2EBFA;\n",
              "      box-shadow: 0px 1px 2px rgba(60, 64, 67, 0.3), 0px 1px 3px 1px rgba(60, 64, 67, 0.15);\n",
              "      fill: #174EA6;\n",
              "    }\n",
              "\n",
              "    .colab-df-buttons div {\n",
              "      margin-bottom: 4px;\n",
              "    }\n",
              "\n",
              "    [theme=dark] .colab-df-convert {\n",
              "      background-color: #3B4455;\n",
              "      fill: #D2E3FC;\n",
              "    }\n",
              "\n",
              "    [theme=dark] .colab-df-convert:hover {\n",
              "      background-color: #434B5C;\n",
              "      box-shadow: 0px 1px 3px 1px rgba(0, 0, 0, 0.15);\n",
              "      filter: drop-shadow(0px 1px 2px rgba(0, 0, 0, 0.3));\n",
              "      fill: #FFFFFF;\n",
              "    }\n",
              "  </style>\n",
              "\n",
              "    <script>\n",
              "      const buttonEl =\n",
              "        document.querySelector('#df-e8d351c5-d928-4066-be18-beadd035ccc3 button.colab-df-convert');\n",
              "      buttonEl.style.display =\n",
              "        google.colab.kernel.accessAllowed ? 'block' : 'none';\n",
              "\n",
              "      async function convertToInteractive(key) {\n",
              "        const element = document.querySelector('#df-e8d351c5-d928-4066-be18-beadd035ccc3');\n",
              "        const dataTable =\n",
              "          await google.colab.kernel.invokeFunction('convertToInteractive',\n",
              "                                                    [key], {});\n",
              "        if (!dataTable) return;\n",
              "\n",
              "        const docLinkHtml = 'Like what you see? Visit the ' +\n",
              "          '<a target=\"_blank\" href=https://colab.research.google.com/notebooks/data_table.ipynb>data table notebook</a>'\n",
              "          + ' to learn more about interactive tables.';\n",
              "        element.innerHTML = '';\n",
              "        dataTable['output_type'] = 'display_data';\n",
              "        await google.colab.output.renderOutput(dataTable, element);\n",
              "        const docLink = document.createElement('div');\n",
              "        docLink.innerHTML = docLinkHtml;\n",
              "        element.appendChild(docLink);\n",
              "      }\n",
              "    </script>\n",
              "  </div>\n",
              "\n",
              "\n",
              "<div id=\"df-51b00b40-e391-4374-9ef7-6c2ef5d0f3f5\">\n",
              "  <button class=\"colab-df-quickchart\" onclick=\"quickchart('df-51b00b40-e391-4374-9ef7-6c2ef5d0f3f5')\"\n",
              "            title=\"Suggest charts\"\n",
              "            style=\"display:none;\">\n",
              "\n",
              "<svg xmlns=\"http://www.w3.org/2000/svg\" height=\"24px\"viewBox=\"0 0 24 24\"\n",
              "     width=\"24px\">\n",
              "    <g>\n",
              "        <path d=\"M19 3H5c-1.1 0-2 .9-2 2v14c0 1.1.9 2 2 2h14c1.1 0 2-.9 2-2V5c0-1.1-.9-2-2-2zM9 17H7v-7h2v7zm4 0h-2V7h2v10zm4 0h-2v-4h2v4z\"/>\n",
              "    </g>\n",
              "</svg>\n",
              "  </button>\n",
              "\n",
              "<style>\n",
              "  .colab-df-quickchart {\n",
              "      --bg-color: #E8F0FE;\n",
              "      --fill-color: #1967D2;\n",
              "      --hover-bg-color: #E2EBFA;\n",
              "      --hover-fill-color: #174EA6;\n",
              "      --disabled-fill-color: #AAA;\n",
              "      --disabled-bg-color: #DDD;\n",
              "  }\n",
              "\n",
              "  [theme=dark] .colab-df-quickchart {\n",
              "      --bg-color: #3B4455;\n",
              "      --fill-color: #D2E3FC;\n",
              "      --hover-bg-color: #434B5C;\n",
              "      --hover-fill-color: #FFFFFF;\n",
              "      --disabled-bg-color: #3B4455;\n",
              "      --disabled-fill-color: #666;\n",
              "  }\n",
              "\n",
              "  .colab-df-quickchart {\n",
              "    background-color: var(--bg-color);\n",
              "    border: none;\n",
              "    border-radius: 50%;\n",
              "    cursor: pointer;\n",
              "    display: none;\n",
              "    fill: var(--fill-color);\n",
              "    height: 32px;\n",
              "    padding: 0;\n",
              "    width: 32px;\n",
              "  }\n",
              "\n",
              "  .colab-df-quickchart:hover {\n",
              "    background-color: var(--hover-bg-color);\n",
              "    box-shadow: 0 1px 2px rgba(60, 64, 67, 0.3), 0 1px 3px 1px rgba(60, 64, 67, 0.15);\n",
              "    fill: var(--button-hover-fill-color);\n",
              "  }\n",
              "\n",
              "  .colab-df-quickchart-complete:disabled,\n",
              "  .colab-df-quickchart-complete:disabled:hover {\n",
              "    background-color: var(--disabled-bg-color);\n",
              "    fill: var(--disabled-fill-color);\n",
              "    box-shadow: none;\n",
              "  }\n",
              "\n",
              "  .colab-df-spinner {\n",
              "    border: 2px solid var(--fill-color);\n",
              "    border-color: transparent;\n",
              "    border-bottom-color: var(--fill-color);\n",
              "    animation:\n",
              "      spin 1s steps(1) infinite;\n",
              "  }\n",
              "\n",
              "  @keyframes spin {\n",
              "    0% {\n",
              "      border-color: transparent;\n",
              "      border-bottom-color: var(--fill-color);\n",
              "      border-left-color: var(--fill-color);\n",
              "    }\n",
              "    20% {\n",
              "      border-color: transparent;\n",
              "      border-left-color: var(--fill-color);\n",
              "      border-top-color: var(--fill-color);\n",
              "    }\n",
              "    30% {\n",
              "      border-color: transparent;\n",
              "      border-left-color: var(--fill-color);\n",
              "      border-top-color: var(--fill-color);\n",
              "      border-right-color: var(--fill-color);\n",
              "    }\n",
              "    40% {\n",
              "      border-color: transparent;\n",
              "      border-right-color: var(--fill-color);\n",
              "      border-top-color: var(--fill-color);\n",
              "    }\n",
              "    60% {\n",
              "      border-color: transparent;\n",
              "      border-right-color: var(--fill-color);\n",
              "    }\n",
              "    80% {\n",
              "      border-color: transparent;\n",
              "      border-right-color: var(--fill-color);\n",
              "      border-bottom-color: var(--fill-color);\n",
              "    }\n",
              "    90% {\n",
              "      border-color: transparent;\n",
              "      border-bottom-color: var(--fill-color);\n",
              "    }\n",
              "  }\n",
              "</style>\n",
              "\n",
              "  <script>\n",
              "    async function quickchart(key) {\n",
              "      const quickchartButtonEl =\n",
              "        document.querySelector('#' + key + ' button');\n",
              "      quickchartButtonEl.disabled = true;  // To prevent multiple clicks.\n",
              "      quickchartButtonEl.classList.add('colab-df-spinner');\n",
              "      try {\n",
              "        const charts = await google.colab.kernel.invokeFunction(\n",
              "            'suggestCharts', [key], {});\n",
              "      } catch (error) {\n",
              "        console.error('Error during call to suggestCharts:', error);\n",
              "      }\n",
              "      quickchartButtonEl.classList.remove('colab-df-spinner');\n",
              "      quickchartButtonEl.classList.add('colab-df-quickchart-complete');\n",
              "    }\n",
              "    (() => {\n",
              "      let quickchartButtonEl =\n",
              "        document.querySelector('#df-51b00b40-e391-4374-9ef7-6c2ef5d0f3f5 button');\n",
              "      quickchartButtonEl.style.display =\n",
              "        google.colab.kernel.accessAllowed ? 'block' : 'none';\n",
              "    })();\n",
              "  </script>\n",
              "</div>\n",
              "    </div>\n",
              "  </div>\n"
            ],
            "application/vnd.google.colaboratory.intrinsic+json": {
              "type": "dataframe",
              "variable_name": "df",
              "summary": "{\n  \"name\": \"df\",\n  \"rows\": 41,\n  \"fields\": [\n    {\n      \"column\": \"token\",\n      \"properties\": {\n        \"dtype\": \"string\",\n        \"num_unique_values\": 41,\n        \"samples\": [\n          \"unhoita\",\n          \"maailma\",\n          \"ja\"\n        ],\n        \"semantic_type\": \"\",\n        \"description\": \"\"\n      }\n    },\n    {\n      \"column\": \"tag\",\n      \"properties\": {\n        \"dtype\": \"category\",\n        \"num_unique_values\": 1,\n        \"samples\": [\n          \"LATN\"\n        ],\n        \"semantic_type\": \"\",\n        \"description\": \"\"\n      }\n    }\n  ]\n}"
            }
          },
          "metadata": {},
          "execution_count": 21
        }
      ]
    },
    {
      "cell_type": "markdown",
      "source": [
        "# **Pymystem**"
      ],
      "metadata": {
        "id": "cSCx5ZntdXlR"
      }
    },
    {
      "cell_type": "markdown",
      "source": [
        "Финский здесь не получился"
      ],
      "metadata": {
        "id": "eIR9W-aAqyYX"
      }
    },
    {
      "cell_type": "code",
      "source": [
        "#! pip install pymystem3"
      ],
      "metadata": {
        "id": "05bXeojVdWVP"
      },
      "execution_count": null,
      "outputs": []
    },
    {
      "cell_type": "code",
      "source": [
        "from pymystem3 import Mystem\n",
        "analyzer_no_disamb = Mystem()\n",
        "analyzer_with_disamb = Mystem(disambiguation=True)"
      ],
      "metadata": {
        "id": "2Cyvpr76UwpL"
      },
      "execution_count": 22,
      "outputs": []
    },
    {
      "cell_type": "code",
      "source": [
        "my_fi_mystem = []\n",
        "doc_no_disamb = analyzer_no_disamb.analyze(my_fi)\n",
        "doc_with_disamb = analyzer_with_disamb.analyze(my_fi)"
      ],
      "metadata": {
        "id": "Hzd2PsgwU1iX"
      },
      "execution_count": 23,
      "outputs": []
    },
    {
      "cell_type": "code",
      "source": [
        "doc_no_disamb[3:10]"
      ],
      "metadata": {
        "colab": {
          "base_uri": "https://localhost:8080/"
        },
        "id": "_L99TIa9VDM8",
        "outputId": "88c9c5ae-c714-4346-8de5-38a0f2c3c19c"
      },
      "execution_count": 24,
      "outputs": [
        {
          "output_type": "execute_result",
          "data": {
            "text/plain": [
              "[{'text': ' '},\n",
              " {'analysis': [], 'text': 'kotoani'},\n",
              " {'text': ' '},\n",
              " {'analysis': [], 'text': 'läksin'},\n",
              " {'text': ' '},\n",
              " {'analysis': [], 'text': 'niin'},\n",
              " {'text': ' '}]"
            ]
          },
          "metadata": {},
          "execution_count": 24
        }
      ]
    },
    {
      "cell_type": "code",
      "source": [
        "my_fi_pymystem = []\n",
        "for i in range(len(doc_no_disamb)):\n",
        "    has_ana = doc_no_disamb[i].get('analysis') #без снятия лексической неоднозначности\n",
        "    if has_ana:\n",
        "        text = doc_no_disamb[i].get('text')\n",
        "        ana_no_disamb = doc_no_disamb[i].get('analysis')[0]\n",
        "        gr_no_disamb = ana_no_disamb.get('gr')\n",
        "\n",
        "        ana_with_disamb = doc_with_disamb[i].get('analysis')[0] #со снятием лексической неоднозначностью\n",
        "        gr_with_disamb = ana_with_disamb.get('gr')\n",
        "        my_fi_pymystem.append((text, gr_no_disamb, gr_with_disamb))"
      ],
      "metadata": {
        "id": "YQw2FuRFVMKg"
      },
      "execution_count": 27,
      "outputs": []
    },
    {
      "cell_type": "code",
      "source": [
        "df = pd.DataFrame(my_fi_pymystem, columns=['token', 'gr_no_disamb', 'gr_with_disamb'])\n",
        "df.to_excel('my_fi_pymystem.xlsx', index=False)"
      ],
      "metadata": {
        "id": "MP78oWBgVWZx"
      },
      "execution_count": 28,
      "outputs": []
    },
    {
      "cell_type": "code",
      "source": [
        "my_fi_pymystem"
      ],
      "metadata": {
        "collapsed": true,
        "colab": {
          "base_uri": "https://localhost:8080/"
        },
        "id": "IkUVHujPqHoB",
        "outputId": "aeec8bdf-ba84-4a60-c962-0bfaaee31f40"
      },
      "execution_count": 29,
      "outputs": [
        {
          "output_type": "execute_result",
          "data": {
            "text/plain": [
              "[]"
            ]
          },
          "metadata": {},
          "execution_count": 29
        }
      ]
    },
    {
      "cell_type": "markdown",
      "source": [
        "# **Stanza**"
      ],
      "metadata": {
        "id": "phc38aQtd8fU"
      }
    },
    {
      "cell_type": "code",
      "source": [
        "#pip install stanza"
      ],
      "metadata": {
        "collapsed": true,
        "id": "lzEuFSxBWDt0"
      },
      "execution_count": null,
      "outputs": []
    },
    {
      "cell_type": "code",
      "source": [
        "import stanza\n",
        "nlp = stanza.Pipeline(lang='fi', processors='tokenize,pos', verbose=False)"
      ],
      "metadata": {
        "id": "rhM_VWBSeA1H",
        "colab": {
          "base_uri": "https://localhost:8080/"
        },
        "outputId": "c06b7d33-d6e5-4f07-e2d8-eb270b96f07a"
      },
      "execution_count": 30,
      "outputs": [
        {
          "output_type": "stream",
          "name": "stderr",
          "text": [
            "/usr/local/lib/python3.10/dist-packages/stanza/models/tokenization/trainer.py:82: FutureWarning: You are using `torch.load` with `weights_only=False` (the current default value), which uses the default pickle module implicitly. It is possible to construct malicious pickle data which will execute arbitrary code during unpickling (See https://github.com/pytorch/pytorch/blob/main/SECURITY.md#untrusted-models for more details). In a future release, the default value for `weights_only` will be flipped to `True`. This limits the functions that could be executed during unpickling. Arbitrary objects will no longer be allowed to be loaded via this mode unless they are explicitly allowlisted by the user via `torch.serialization.add_safe_globals`. We recommend you start setting `weights_only=True` for any use case where you don't have full control of the loaded file. Please open an issue on GitHub for any issues related to this experimental feature.\n",
            "  checkpoint = torch.load(filename, lambda storage, loc: storage)\n",
            "/usr/local/lib/python3.10/dist-packages/stanza/models/mwt/trainer.py:201: FutureWarning: You are using `torch.load` with `weights_only=False` (the current default value), which uses the default pickle module implicitly. It is possible to construct malicious pickle data which will execute arbitrary code during unpickling (See https://github.com/pytorch/pytorch/blob/main/SECURITY.md#untrusted-models for more details). In a future release, the default value for `weights_only` will be flipped to `True`. This limits the functions that could be executed during unpickling. Arbitrary objects will no longer be allowed to be loaded via this mode unless they are explicitly allowlisted by the user via `torch.serialization.add_safe_globals`. We recommend you start setting `weights_only=True` for any use case where you don't have full control of the loaded file. Please open an issue on GitHub for any issues related to this experimental feature.\n",
            "  checkpoint = torch.load(filename, lambda storage, loc: storage)\n",
            "/usr/local/lib/python3.10/dist-packages/stanza/models/pos/trainer.py:139: FutureWarning: You are using `torch.load` with `weights_only=False` (the current default value), which uses the default pickle module implicitly. It is possible to construct malicious pickle data which will execute arbitrary code during unpickling (See https://github.com/pytorch/pytorch/blob/main/SECURITY.md#untrusted-models for more details). In a future release, the default value for `weights_only` will be flipped to `True`. This limits the functions that could be executed during unpickling. Arbitrary objects will no longer be allowed to be loaded via this mode unless they are explicitly allowlisted by the user via `torch.serialization.add_safe_globals`. We recommend you start setting `weights_only=True` for any use case where you don't have full control of the loaded file. Please open an issue on GitHub for any issues related to this experimental feature.\n",
            "  checkpoint = torch.load(filename, lambda storage, loc: storage)\n",
            "/usr/local/lib/python3.10/dist-packages/stanza/models/common/pretrain.py:56: FutureWarning: You are using `torch.load` with `weights_only=False` (the current default value), which uses the default pickle module implicitly. It is possible to construct malicious pickle data which will execute arbitrary code during unpickling (See https://github.com/pytorch/pytorch/blob/main/SECURITY.md#untrusted-models for more details). In a future release, the default value for `weights_only` will be flipped to `True`. This limits the functions that could be executed during unpickling. Arbitrary objects will no longer be allowed to be loaded via this mode unless they are explicitly allowlisted by the user via `torch.serialization.add_safe_globals`. We recommend you start setting `weights_only=True` for any use case where you don't have full control of the loaded file. Please open an issue on GitHub for any issues related to this experimental feature.\n",
            "  data = torch.load(self.filename, lambda storage, loc: storage)\n",
            "/usr/local/lib/python3.10/dist-packages/stanza/models/common/char_model.py:271: FutureWarning: You are using `torch.load` with `weights_only=False` (the current default value), which uses the default pickle module implicitly. It is possible to construct malicious pickle data which will execute arbitrary code during unpickling (See https://github.com/pytorch/pytorch/blob/main/SECURITY.md#untrusted-models for more details). In a future release, the default value for `weights_only` will be flipped to `True`. This limits the functions that could be executed during unpickling. Arbitrary objects will no longer be allowed to be loaded via this mode unless they are explicitly allowlisted by the user via `torch.serialization.add_safe_globals`. We recommend you start setting `weights_only=True` for any use case where you don't have full control of the loaded file. Please open an issue on GitHub for any issues related to this experimental feature.\n",
            "  state = torch.load(filename, lambda storage, loc: storage)\n"
          ]
        }
      ]
    },
    {
      "cell_type": "code",
      "source": [
        "my_fi_stanza = []\n",
        "doc = nlp(my_fi)\n",
        "for sentence in doc.sentences:\n",
        "    for word in sentence.words:\n",
        "        my_fi_stanza.append((word.text, word.upos, word.feats))"
      ],
      "metadata": {
        "id": "hSoQDGWGWIDS"
      },
      "execution_count": 31,
      "outputs": []
    },
    {
      "cell_type": "code",
      "source": [
        "df = pd.DataFrame(my_fi_stanza, columns=['text', 'upos', 'feats'])\n",
        "df.to_excel('my_fi_stanza.xlsx', index=False)"
      ],
      "metadata": {
        "id": "iL4cQLPHWpm7"
      },
      "execution_count": 32,
      "outputs": []
    },
    {
      "cell_type": "markdown",
      "source": [
        "# **UDpipe**"
      ],
      "metadata": {
        "id": "sdFds6Q7Wwke"
      }
    },
    {
      "cell_type": "markdown",
      "source": [
        "UDpipe у меня по-прежнему не работает, просто выдаёт ошибку \"сеанс прекращён по неизвестной причине\""
      ],
      "metadata": {
        "id": "_JEB7CxOXqT_"
      }
    },
    {
      "cell_type": "code",
      "source": [
        "#pip install ufal.udpipe"
      ],
      "metadata": {
        "collapsed": true,
        "id": "tcGKtsKPWu9v"
      },
      "execution_count": null,
      "outputs": []
    },
    {
      "cell_type": "code",
      "source": [
        "from ufal.udpipe import Model, Pipeline\n",
        "model = Model.load('russian-ud-2.0-170801.udpipe')\n",
        "pipeline = Pipeline(model, 'tokenize', Pipeline.DEFAULT, Pipeline.DEFAULT, 'conllu')"
      ],
      "metadata": {
        "id": "DLhKRcm9XEBl"
      },
      "execution_count": null,
      "outputs": []
    },
    {
      "cell_type": "code",
      "source": [
        "'''tokenized = pipeline.process(my_file)\n",
        "my_file_ud = []\n",
        "for i, sent in enumerate(tokenized.split('\\n\\n')):\n",
        "    for j, token in enumerate(sent.split('\\n')):\n",
        "        if (not token.startswith('#')) and token:\n",
        "            my_file_ud.append(token.split('\\t')[1:6])'''"
      ],
      "metadata": {
        "colab": {
          "base_uri": "https://localhost:8080/",
          "height": 70
        },
        "id": "rJ83IovbXJ3D",
        "outputId": "89e16f3d-9c14-4740-a466-ad94ca24448a"
      },
      "execution_count": null,
      "outputs": [
        {
          "output_type": "execute_result",
          "data": {
            "text/plain": [
              "\"tokenized = pipeline.process(my_file)\\nmy_file_ud = []\\nfor i, sent in enumerate(tokenized.split('\\n\\n')):\\n    for j, token in enumerate(sent.split('\\n')):\\n        if (not token.startswith('#')) and token:\\n            my_file_ud.append(token.split('\\t')[1:6])\""
            ],
            "application/vnd.google.colaboratory.intrinsic+json": {
              "type": "string"
            }
          },
          "metadata": {},
          "execution_count": 31
        }
      ]
    },
    {
      "cell_type": "code",
      "source": [
        "#my_file_ud[12]"
      ],
      "metadata": {
        "collapsed": true,
        "id": "Y31pnQsnXYQ8"
      },
      "execution_count": null,
      "outputs": []
    }
  ]
}