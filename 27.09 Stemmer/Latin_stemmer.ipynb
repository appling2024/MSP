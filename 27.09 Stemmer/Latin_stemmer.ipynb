{
  "nbformat": 4,
  "nbformat_minor": 0,
  "metadata": {
    "colab": {
      "provenance": []
    },
    "kernelspec": {
      "name": "python3",
      "display_name": "Python 3"
    },
    "language_info": {
      "name": "python"
    }
  },
  "cells": [
    {
      "cell_type": "code",
      "execution_count": null,
      "metadata": {
        "id": "pvquu6tW3LPW"
      },
      "outputs": [],
      "source": []
    },
    {
      "cell_type": "code",
      "source": [],
      "metadata": {
        "colab": {
          "base_uri": "https://localhost:8080/"
        },
        "collapsed": true,
        "id": "kZt1FsWWsc8t",
        "outputId": "224136ac-2653-4ef2-aefa-bf94aa092366"
      },
      "execution_count": null,
      "outputs": [
        {
          "output_type": "execute_result",
          "data": {
            "text/plain": [
              "['Lorem',\n",
              " 'ipsum',\n",
              " 'dolor',\n",
              " 'sit',\n",
              " 'amet',\n",
              " 'consectetur',\n",
              " 'adipiscing',\n",
              " 'elit',\n",
              " 'Nullam',\n",
              " 'eleifend',\n",
              " 'semper',\n",
              " 'lacus',\n",
              " 'at',\n",
              " 'euismod',\n",
              " 'arcu',\n",
              " 'hendrerit',\n",
              " 'aliquet',\n",
              " 'Curabitur',\n",
              " 'a',\n",
              " 'sapien',\n",
              " 'at',\n",
              " 'mauris',\n",
              " 'dictum',\n",
              " 'pellentesque',\n",
              " 'Quisque',\n",
              " 'congue',\n",
              " 'blandit',\n",
              " 'nulla',\n",
              " 'quis',\n",
              " 'pretium',\n",
              " 'tellus',\n",
              " 'tristique',\n",
              " 'ut',\n",
              " 'Donec',\n",
              " 'a',\n",
              " 'massa',\n",
              " 'eu',\n",
              " 'nibh',\n",
              " 'lobortis',\n",
              " 'efficitur',\n",
              " 'vitae',\n",
              " 'nec',\n",
              " 'eros',\n",
              " 'Nunc',\n",
              " 'ac',\n",
              " 'porta',\n",
              " 'diam',\n",
              " 'nec',\n",
              " 'imperdiet',\n",
              " 'ex',\n",
              " 'Phasellus',\n",
              " 'luctus',\n",
              " 'felis',\n",
              " 'neque',\n",
              " 'eu',\n",
              " 'mattis',\n",
              " 'ex',\n",
              " 'fringilla',\n",
              " 'sit',\n",
              " 'amet',\n",
              " 'Praesent',\n",
              " 'eu',\n",
              " 'condimentum',\n",
              " 'ex']"
            ]
          },
          "metadata": {},
          "execution_count": 26
        }
      ]
    },
    {
      "cell_type": "code",
      "source": [
        "cat1 = ' quo usque tandem abutere, Catilina, patientia nostra? quam diu etiam furor iste tuus nos1 eludet? quem ad finem sese effrenata iactabit audacia? nihilne te nocturnum praesidium Palati, nihil urbis vigiliae, nihil timor populi, nihil concursus bonorum omnium, nihil hic munitissimus habendi senatus locus, nihil horum ora voltusque moverunt? patere tua consilia non sentis, constrictam iam horum omnium scientia teneri coniurationem tuam2 non vides? quid proxima, quid superiore nocte egeris, ubi fueris, quos convocaveris, quid consili ceperis quem nostrum ignorare arbitraris?'"
      ],
      "metadata": {
        "id": "FE0uqkojwNFG"
      },
      "execution_count": null,
      "outputs": []
    },
    {
      "cell_type": "code",
      "source": [
        "cat1_raw = re.sub('[^a-zA-z ]+','', cat1)"
      ],
      "metadata": {
        "id": "dPBuNHp0wP8K"
      },
      "execution_count": null,
      "outputs": []
    },
    {
      "cell_type": "code",
      "source": [
        "cat1_raw"
      ],
      "metadata": {
        "colab": {
          "base_uri": "https://localhost:8080/",
          "height": 106
        },
        "id": "P-Shg_Lmwc60",
        "outputId": "891a6184-b211-4b5d-bfaa-3cb3a0373ae7"
      },
      "execution_count": null,
      "outputs": [
        {
          "output_type": "execute_result",
          "data": {
            "text/plain": [
              "' quo usque tandem abutere Catilina patientia nostra quam diu etiam furor iste tuus nos eludet quem ad finem sese effrenata iactabit audacia nihilne te nocturnum praesidium Palati nihil urbis vigiliae nihil timor populi nihil concursus bonorum omnium nihil hic munitissimus habendi senatus locus nihil horum ora voltusque moverunt patere tua consilia non sentis constrictam iam horum omnium scientia teneri coniurationem tuam non vides quid proxima quid superiore nocte egeris ubi fueris quos convocaveris quid consili ceperis quem nostrum ignorare arbitraris'"
            ],
            "application/vnd.google.colaboratory.intrinsic+json": {
              "type": "string"
            }
          },
          "metadata": {},
          "execution_count": 33
        }
      ]
    },
    {
      "cell_type": "code",
      "source": [
        "cat_list = cat1_raw.split()"
      ],
      "metadata": {
        "id": "HtTp4WtpwYzU"
      },
      "execution_count": null,
      "outputs": []
    },
    {
      "cell_type": "code",
      "source": [
        "from nltk.stem import RegexpStemmer\n",
        "regexp = RegexpStemmer('em$|um$|orum$|et$|etur$|ing$|it$|am$|erit$|bitur$|is$|que$|esque$|a$|itur$|ae$|us$|ent$|re$|bit$|i$', min=2)\n",
        "for word in cat_list:\n",
        "    print(word,\"--->\",regexp.stem(word))"
      ],
      "metadata": {
        "colab": {
          "base_uri": "https://localhost:8080/"
        },
        "id": "Z7jNOtIuo2BU",
        "outputId": "79ac37ef-57d6-4a8a-a5fb-43c6d16285d7"
      },
      "execution_count": null,
      "outputs": [
        {
          "output_type": "stream",
          "name": "stdout",
          "text": [
            "quo ---> quo\n",
            "usque ---> us\n",
            "tandem ---> tand\n",
            "abutere ---> abute\n",
            "Catilina ---> Catilin\n",
            "patientia ---> patienti\n",
            "nostra ---> nostr\n",
            "quam ---> qu\n",
            "diu ---> diu\n",
            "etiam ---> eti\n",
            "furor ---> furor\n",
            "iste ---> iste\n",
            "tuus ---> tu\n",
            "nos ---> nos\n",
            "eludet ---> elud\n",
            "quem ---> qu\n",
            "ad ---> ad\n",
            "finem ---> fin\n",
            "sese ---> sese\n",
            "effrenata ---> effrenat\n",
            "iactabit ---> iacta\n",
            "audacia ---> audaci\n",
            "nihilne ---> nihilne\n",
            "te ---> te\n",
            "nocturnum ---> nocturn\n",
            "praesidium ---> praesidi\n",
            "Palati ---> Palat\n",
            "nihil ---> nihil\n",
            "urbis ---> urb\n",
            "vigiliae ---> vigili\n",
            "nihil ---> nihil\n",
            "timor ---> timor\n",
            "populi ---> popul\n",
            "nihil ---> nihil\n",
            "concursus ---> concurs\n",
            "bonorum ---> bon\n",
            "omnium ---> omni\n",
            "nihil ---> nihil\n",
            "hic ---> hic\n",
            "munitissimus ---> munitissim\n",
            "habendi ---> habend\n",
            "senatus ---> senat\n",
            "locus ---> loc\n",
            "nihil ---> nihil\n",
            "horum ---> h\n",
            "ora ---> or\n",
            "voltusque ---> voltus\n",
            "moverunt ---> moverunt\n",
            "patere ---> pate\n",
            "tua ---> tu\n",
            "consilia ---> consili\n",
            "non ---> non\n",
            "sentis ---> sent\n",
            "constrictam ---> constrict\n",
            "iam ---> i\n",
            "horum ---> h\n",
            "omnium ---> omni\n",
            "scientia ---> scienti\n",
            "teneri ---> tener\n",
            "coniurationem ---> coniuration\n",
            "tuam ---> tu\n",
            "non ---> non\n",
            "vides ---> vides\n",
            "quid ---> quid\n",
            "proxima ---> proxim\n",
            "quid ---> quid\n",
            "superiore ---> superio\n",
            "nocte ---> nocte\n",
            "egeris ---> eger\n",
            "ubi ---> ub\n",
            "fueris ---> fuer\n",
            "quos ---> quos\n",
            "convocaveris ---> convocaver\n",
            "quid ---> quid\n",
            "consili ---> consil\n",
            "ceperis ---> ceper\n",
            "quem ---> qu\n",
            "nostrum ---> nostr\n",
            "ignorare ---> ignora\n",
            "arbitraris ---> arbitrar\n"
          ]
        }
      ]
    },
    {
      "cell_type": "code",
      "execution_count": null,
      "metadata": {
        "id": "R7PQa1CT94in",
        "outputId": "8eb4d2c8-bc20-4a85-ac1d-8a2587865d30",
        "colab": {
          "base_uri": "https://localhost:8080/"
        }
      },
      "outputs": [
        {
          "output_type": "stream",
          "name": "stdout",
          "text": [
            "Word                Porter Stemmer      Snowball Stemmer    Lancaster Stemmer             Regexp Stemmer                          \n",
            "Lorem               lorem               lorem               lorem                         Lor                                     \n",
            "ipsum               ipsum               ipsum               ips                           ips                                     \n",
            "dolor               dolor               dolor               dol                           dolor                                   \n",
            "sit                 sit                 sit                 sit                           s                                       \n",
            "amet                amet                amet                amet                          am                                      \n",
            "consectetur         consectetur         consectetur         consectet                     consect                                 \n",
            "adipiscing          adipisc             adipisc             adipisc                       adipisc                                 \n",
            "elit                elit                elit                elit                          el                                      \n",
            "Nullam              nullam              nullam              nullam                        Null                                    \n",
            "eleifend            eleifend            eleifend            eleifend                      eleifend                                \n",
            "semper              semper              semper              semp                          semper                                  \n",
            "lacus               lacu                lacus               lac                           lac                                     \n",
            "at                  at                  at                  at                            at                                      \n",
            "euismod             euismod             euismod             euismod                       euismod                                 \n",
            "arcu                arcu                arcu                arcu                          arcu                                    \n",
            "hendrerit           hendrerit           hendrerit           hendrerit                     hendr                                   \n",
            "aliquet             aliquet             aliquet             aliquet                       aliqu                                   \n",
            "Curabitur           curabitur           curabitur           curabit                       Cura                                    \n",
            "a                   a                   a                   a                             a                                       \n",
            "sapien              sapien              sapien              sapy                          sapien                                  \n",
            "at                  at                  at                  at                            at                                      \n",
            "mauris              mauri               mauri               maur                          maur                                    \n",
            "dictum              dictum              dictum              dict                          dict                                    \n",
            "pellentesque        pellentesqu         pellentesqu         pellentesqu                   pellent                                 \n",
            "Quisque             quisqu              quisqu              quisqu                        Quis                                    \n",
            "congue              congu               congu               congu                         congue                                  \n",
            "blandit             blandit             blandit             blandit                       bland                                   \n",
            "nulla               nulla               nulla               null                          null                                    \n",
            "quis                qui                 qui                 qui                           qu                                      \n",
            "pretium             pretium             pretium             pret                          preti                                   \n",
            "tellus              tellu               tellus              tell                          tell                                    \n",
            "tristique           tristiqu            tristiqu            trist                         tristi                                  \n",
            "ut                  ut                  ut                  ut                            ut                                      \n",
            "Donec               donec               donec               donec                         Donec                                   \n",
            "a                   a                   a                   a                             a                                       \n",
            "massa               massa               massa               mass                          mass                                    \n",
            "eu                  eu                  eu                  eu                            eu                                      \n",
            "nibh                nibh                nibh                nibh                          nibh                                    \n",
            "lobortis            loborti             loborti             lobort                        lobort                                  \n",
            "efficitur           efficitur           efficitur           efficit                       effic                                   \n",
            "vitae               vita                vita                vita                          vit                                     \n",
            "nec                 nec                 nec                 nec                           nec                                     \n",
            "eros                ero                 ero                 ero                           eros                                    \n",
            "Nunc                nunc                nunc                nunt                          Nunc                                    \n",
            "ac                  ac                  ac                  ac                            ac                                      \n",
            "porta               porta               porta               port                          port                                    \n",
            "diam                diam                diam                diam                          di                                      \n",
            "nec                 nec                 nec                 nec                           nec                                     \n",
            "imperdiet           imperdiet           imperdiet           imperdiet                     imperdi                                 \n",
            "ex                  ex                  ex                  ex                            ex                                      \n",
            "Phasellus           phasellu            phasellus           phasell                       Phasell                                 \n",
            "luctus              luctu               luctus              luct                          luct                                    \n",
            "felis               feli                feli                fel                           fel                                     \n",
            "neque               nequ                nequ                nequ                          ne                                      \n",
            "eu                  eu                  eu                  eu                            eu                                      \n",
            "mattis              matti               matti               mat                           matt                                    \n",
            "ex                  ex                  ex                  ex                            ex                                      \n",
            "fringilla           fringilla           fringilla           fringill                      fringill                                \n",
            "sit                 sit                 sit                 sit                           s                                       \n",
            "amet                amet                amet                amet                          am                                      \n",
            "Praesent            praesent            praesent            praes                         Praes                                   \n",
            "eu                  eu                  eu                  eu                            eu                                      \n",
            "condimentum         condimentum         condimentum         condiment                     condiment                               \n",
            "ex                  ex                  ex                  ex                            ex                                      \n"
          ]
        }
      ],
      "source": [
        "from nltk.stem import PorterStemmer, SnowballStemmer, LancasterStemmer, RegexpStemmer\n",
        "porter = PorterStemmer()\n",
        "lancaster = LancasterStemmer()\n",
        "snowball = SnowballStemmer(language='english')\n",
        "regexp = RegexpStemmer('em$|um$|et$|etur$|ing$|it$|am$|erit$|bitur$|is$|que$|esque$|a$|itur$|ae$|us$|ent$', min=2)\n",
        "word_list = cat_list\n",
        "print(\"{0:20}{1:20}{2:20}{3:30}{4:40}\".format(\"Word\",\"Porter Stemmer\",\"Snowball Stemmer\",\"Lancaster Stemmer\",'Regexp Stemmer'))\n",
        "for word in word_list:\n",
        "    print(\"{0:20}{1:20}{2:20}{3:30}{4:40}\".format(word,porter.stem(word),snowball.stem(word),lancaster.stem(word),regexp.stem(word)))\n",
        "\n"
      ]
    }
  ]
}