{
  "nbformat": 4,
  "nbformat_minor": 0,
  "metadata": {
    "colab": {
      "provenance": []
    },
    "kernelspec": {
      "name": "python3",
      "display_name": "Python 3"
    },
    "language_info": {
      "name": "python"
    }
  },
  "cells": [
    {
      "cell_type": "code",
      "source": [
        "cat1 = ' quo usque tandem abutere, Catilina, patientia nostra? quam diu etiam furor iste tuus nos1 eludet? quem ad finem sese effrenata iactabit audacia? nihilne te nocturnum praesidium Palati, nihil urbis vigiliae, nihil timor populi, nihil concursus bonorum omnium, nihil hic munitissimus habendi senatus locus, nihil horum ora voltusque moverunt? patere tua consilia non sentis, constrictam iam horum omnium scientia teneri coniurationem tuam2 non vides? quid proxima, quid superiore nocte egeris, ubi fueris, quos convocaveris, quid consili ceperis quem nostrum ignorare arbitraris?'"
      ],
      "metadata": {
        "id": "FE0uqkojwNFG"
      },
      "execution_count": 1,
      "outputs": []
    },
    {
      "cell_type": "code",
      "source": [
        "import re\n",
        "cat1_raw = re.sub('[^a-zA-z ]+','', cat1)"
      ],
      "metadata": {
        "id": "dPBuNHp0wP8K"
      },
      "execution_count": 3,
      "outputs": []
    },
    {
      "cell_type": "code",
      "source": [
        "cat1_raw"
      ],
      "metadata": {
        "colab": {
          "base_uri": "https://localhost:8080/",
          "height": 106
        },
        "id": "P-Shg_Lmwc60",
        "outputId": "40d2959b-28db-474a-d293-12a1957e0eb7"
      },
      "execution_count": 4,
      "outputs": [
        {
          "output_type": "execute_result",
          "data": {
            "text/plain": [
              "' quo usque tandem abutere Catilina patientia nostra quam diu etiam furor iste tuus nos eludet quem ad finem sese effrenata iactabit audacia nihilne te nocturnum praesidium Palati nihil urbis vigiliae nihil timor populi nihil concursus bonorum omnium nihil hic munitissimus habendi senatus locus nihil horum ora voltusque moverunt patere tua consilia non sentis constrictam iam horum omnium scientia teneri coniurationem tuam non vides quid proxima quid superiore nocte egeris ubi fueris quos convocaveris quid consili ceperis quem nostrum ignorare arbitraris'"
            ],
            "application/vnd.google.colaboratory.intrinsic+json": {
              "type": "string"
            }
          },
          "metadata": {},
          "execution_count": 4
        }
      ]
    },
    {
      "cell_type": "code",
      "source": [
        "cat_list = cat1_raw.split()"
      ],
      "metadata": {
        "id": "HtTp4WtpwYzU"
      },
      "execution_count": 5,
      "outputs": []
    },
    {
      "cell_type": "code",
      "source": [
        "from nltk.stem import RegexpStemmer\n",
        "regexp = RegexpStemmer('em$|um$|orum$|et$|etur$|ing$|it$|am$|erit$|bitur$|s$|is$|que$|esque$|a$|itur$|ae$|us$|ent$|re$|bit$|i$|ata$|atum$|atus$', min=2)\n",
        "for word in cat_list:\n",
        "    print(word,\"--->\",regexp.stem(word))"
      ],
      "metadata": {
        "colab": {
          "base_uri": "https://localhost:8080/"
        },
        "id": "Z7jNOtIuo2BU",
        "outputId": "51368ab5-ef3c-430a-ce4a-db30c7a3f866"
      },
      "execution_count": 9,
      "outputs": [
        {
          "output_type": "stream",
          "name": "stdout",
          "text": [
            "quo ---> quo\n",
            "usque ---> us\n",
            "tandem ---> tand\n",
            "abutere ---> abute\n",
            "Catilina ---> Catilin\n",
            "patientia ---> patienti\n",
            "nostra ---> nostr\n",
            "quam ---> qu\n",
            "diu ---> diu\n",
            "etiam ---> eti\n",
            "furor ---> furor\n",
            "iste ---> iste\n",
            "tuus ---> tu\n",
            "nos ---> no\n",
            "eludet ---> elud\n",
            "quem ---> qu\n",
            "ad ---> ad\n",
            "finem ---> fin\n",
            "sese ---> sese\n",
            "effrenata ---> effren\n",
            "iactabit ---> iacta\n",
            "audacia ---> audaci\n",
            "nihilne ---> nihilne\n",
            "te ---> te\n",
            "nocturnum ---> nocturn\n",
            "praesidium ---> praesidi\n",
            "Palati ---> Palat\n",
            "nihil ---> nihil\n",
            "urbis ---> urb\n",
            "vigiliae ---> vigili\n",
            "nihil ---> nihil\n",
            "timor ---> timor\n",
            "populi ---> popul\n",
            "nihil ---> nihil\n",
            "concursus ---> concurs\n",
            "bonorum ---> bon\n",
            "omnium ---> omni\n",
            "nihil ---> nihil\n",
            "hic ---> hic\n",
            "munitissimus ---> munitissim\n",
            "habendi ---> habend\n",
            "senatus ---> sen\n",
            "locus ---> loc\n",
            "nihil ---> nihil\n",
            "horum ---> h\n",
            "ora ---> or\n",
            "voltusque ---> voltus\n",
            "moverunt ---> moverunt\n",
            "patere ---> pate\n",
            "tua ---> tu\n",
            "consilia ---> consili\n",
            "non ---> non\n",
            "sentis ---> sent\n",
            "constrictam ---> constrict\n",
            "iam ---> i\n",
            "horum ---> h\n",
            "omnium ---> omni\n",
            "scientia ---> scienti\n",
            "teneri ---> tener\n",
            "coniurationem ---> coniuration\n",
            "tuam ---> tu\n",
            "non ---> non\n",
            "vides ---> vide\n",
            "quid ---> quid\n",
            "proxima ---> proxim\n",
            "quid ---> quid\n",
            "superiore ---> superio\n",
            "nocte ---> nocte\n",
            "egeris ---> eger\n",
            "ubi ---> ub\n",
            "fueris ---> fuer\n",
            "quos ---> quo\n",
            "convocaveris ---> convocaver\n",
            "quid ---> quid\n",
            "consili ---> consil\n",
            "ceperis ---> ceper\n",
            "quem ---> qu\n",
            "nostrum ---> nostr\n",
            "ignorare ---> ignora\n",
            "arbitraris ---> arbitrar\n"
          ]
        }
      ]
    },
    {
      "cell_type": "code",
      "execution_count": 8,
      "metadata": {
        "id": "R7PQa1CT94in",
        "outputId": "f75a56b4-d3b0-40aa-a3b3-225ec43c827e",
        "colab": {
          "base_uri": "https://localhost:8080/"
        }
      },
      "outputs": [
        {
          "output_type": "stream",
          "name": "stdout",
          "text": [
            "Word                Porter Stemmer      Snowball Stemmer    Lancaster Stemmer             Regexp Stemmer                          \n",
            "quo                 quo                 quo                 quo                           quo                                     \n",
            "usque               usqu                usqu                usqu                          us                                      \n",
            "tandem              tandem              tandem              tandem                        tand                                    \n",
            "abutere             abuter              abuter              abut                          abutere                                 \n",
            "Catilina            catilina            catilina            catilin                       Catilin                                 \n",
            "patientia           patientia           patientia           patient                       patienti                                \n",
            "nostra              nostra              nostra              nostr                         nostr                                   \n",
            "quam                quam                quam                quam                          qu                                      \n",
            "diu                 diu                 diu                 diu                           diu                                     \n",
            "etiam               etiam               etiam               etiam                         eti                                     \n",
            "furor               furor               furor               fur                           furor                                   \n",
            "iste                ist                 ist                 ist                           iste                                    \n",
            "tuus                tuu                 tuus                tuu                           tu                                      \n",
            "nos                 no                  nos                 nos                           nos                                     \n",
            "eludet              eludet              eludet              eludet                        elud                                    \n",
            "quem                quem                quem                quem                          qu                                      \n",
            "ad                  ad                  ad                  ad                            ad                                      \n",
            "finem               finem               finem               finem                         fin                                     \n",
            "sese                sese                sese                ses                           sese                                    \n",
            "effrenata           effrenata           effrenata           effrenat                      effrenat                                \n",
            "iactabit            iactabit            iactabit            iactabit                      iactab                                  \n",
            "audacia             audacia             audacia             audac                         audaci                                  \n",
            "nihilne             nihiln              nihiln              nihiln                        nihilne                                 \n",
            "te                  te                  te                  te                            te                                      \n",
            "nocturnum           nocturnum           nocturnum           nocturn                       nocturn                                 \n",
            "praesidium          praesidium          praesidium          praesid                       praesidi                                \n",
            "Palati              palati              palati              palat                         Palati                                  \n",
            "nihil               nihil               nihil               nihil                         nihil                                   \n",
            "urbis               urbi                urbi                urb                           urb                                     \n",
            "vigiliae            vigilia             vigilia             vigilia                       vigili                                  \n",
            "nihil               nihil               nihil               nihil                         nihil                                   \n",
            "timor               timor               timor               tim                           timor                                   \n",
            "populi              populi              populi              popul                         populi                                  \n",
            "nihil               nihil               nihil               nihil                         nihil                                   \n",
            "concursus           concursu            concursus           concurs                       concurs                                 \n",
            "bonorum             bonorum             bonorum             bonor                         bonor                                   \n",
            "omnium              omnium              omnium              omn                           omni                                    \n",
            "nihil               nihil               nihil               nihil                         nihil                                   \n",
            "hic                 hic                 hic                 hic                           hic                                     \n",
            "munitissimus        munitissimu         munitissimus        munitissim                    munitissim                              \n",
            "habendi             habendi             habendi             habend                        habendi                                 \n",
            "senatus             senatu              senatus             senat                         senat                                   \n",
            "locus               locu                locus               loc                           loc                                     \n",
            "nihil               nihil               nihil               nihil                         nihil                                   \n",
            "horum               horum               horum               hor                           hor                                     \n",
            "ora                 ora                 ora                 or                            or                                      \n",
            "voltusque           voltusqu            voltusqu            voltusqu                      voltus                                  \n",
            "moverunt            moverunt            moverunt            moverunt                      moverunt                                \n",
            "patere              pater               pater               pat                           patere                                  \n",
            "tua                 tua                 tua                 tua                           tu                                      \n",
            "consilia            consilia            consilia            consil                        consili                                 \n",
            "non                 non                 non                 non                           non                                     \n",
            "sentis              senti               senti               sent                          sent                                    \n",
            "constrictam         constrictam         constrictam         constrictam                   constrict                               \n",
            "iam                 iam                 iam                 iam                           i                                       \n",
            "horum               horum               horum               hor                           hor                                     \n",
            "omnium              omnium              omnium              omn                           omni                                    \n",
            "scientia            scientia            scientia            scient                        scienti                                 \n",
            "teneri              teneri              teneri              tener                         teneri                                  \n",
            "coniurationem       coniurationem       coniurationem       coniurationem                 coniuration                             \n",
            "tuam                tuam                tuam                tuam                          tu                                      \n",
            "non                 non                 non                 non                           non                                     \n",
            "vides               vide                vide                vid                           vides                                   \n",
            "quid                quid                quid                quid                          quid                                    \n",
            "proxima             proxima             proxima             proxim                        proxim                                  \n",
            "quid                quid                quid                quid                          quid                                    \n",
            "superiore           superior            superior            supery                        superiore                               \n",
            "nocte               noct                noct                noct                          nocte                                   \n",
            "egeris              egeri               egeri               eg                            eger                                    \n",
            "ubi                 ubi                 ubi                 ub                            ubi                                     \n",
            "fueris              fueri               fueri               fuer                          fuer                                    \n",
            "quos                quo                 quo                 quo                           quos                                    \n",
            "convocaveris        convocaveri         convocaveri         convocav                      convocaver                              \n",
            "quid                quid                quid                quid                          quid                                    \n",
            "consili             consili             consili             consil                        consili                                 \n",
            "ceperis             ceperi              ceperi              cep                           ceper                                   \n",
            "quem                quem                quem                quem                          qu                                      \n",
            "nostrum             nostrum             nostrum             nostr                         nostr                                   \n",
            "ignorare            ignorar             ignorar             ignor                         ignorare                                \n",
            "arbitraris          arbitrari           arbitrari           arbitr                        arbitrar                                \n"
          ]
        }
      ],
      "source": [
        "from nltk.stem import PorterStemmer, SnowballStemmer, LancasterStemmer, RegexpStemmer\n",
        "porter = PorterStemmer()\n",
        "lancaster = LancasterStemmer()\n",
        "snowball = SnowballStemmer(language='english')\n",
        "regexp = RegexpStemmer('em$|um$|et$|etur$|ing$|it$|am$|erit$|bitur$|is$|que$|esque$|a$|itur$|ae$|us$|ent$', min=2)\n",
        "word_list = cat_list\n",
        "print(\"{0:20}{1:20}{2:20}{3:30}{4:40}\".format(\"Word\",\"Porter Stemmer\",\"Snowball Stemmer\",\"Lancaster Stemmer\",'Regexp Stemmer'))\n",
        "for word in word_list:\n",
        "    print(\"{0:20}{1:20}{2:20}{3:30}{4:40}\".format(word,porter.stem(word),snowball.stem(word),lancaster.stem(word),regexp.stem(word)))\n",
        "\n"
      ]
    }
  ]
}