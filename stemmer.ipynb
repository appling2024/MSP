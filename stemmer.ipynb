{
 "cells": [
  {
   "cell_type": "code",
   "execution_count": 2,
   "metadata": {},
   "outputs": [],
   "source": [
    "from nltk.stem import PorterStemmer, SnowballStemmer, LancasterStemmer, RegexpStemmer"
   ]
  },
  {
   "cell_type": "code",
   "execution_count": 3,
   "metadata": {},
   "outputs": [],
   "source": [
    "porter = PorterStemmer()\n",
    "lancaster = LancasterStemmer()\n",
    "snowball = SnowballStemmer(language='spanish')\n",
    "regexp = RegexpStemmer('ar$|er$|ir$|o$|as$|a$|amos$|áis|an$|es$|e$|emos$|éis$|en$|imos$|ís$|idad$|ión', min=4)"
   ]
  },
  {
   "cell_type": "code",
   "execution_count": 4,
   "metadata": {},
   "outputs": [
    {
     "name": "stdout",
     "output_type": "stream",
     "text": [
      "Word                Porter Stemmer      Snowball Stemmer    Lancaster Stemmer             Regexp Stemmer                          \n",
      "hablar              hablar              habl                habl                          habl                                    \n",
      "hablo               hablo               habl                hablo                         habl                                    \n",
      "hablas              habla               habl                habla                         habl                                    \n",
      "habla               habla               habl                habl                          habl                                    \n",
      "hablamos            hablamo             habl                hablamo                       habl                                    \n",
      "habláis             hablái              habl                hablá                         habl                                    \n",
      "hablan              hablan              habl                habl                          habl                                    \n",
      "correr              correr              corr                cor                           corr                                    \n",
      "corro               corro               corr                corro                         corr                                    \n",
      "corres              corr                corr                cor                           corr                                    \n",
      "corre               corr                corr                cor                           corr                                    \n",
      "corremos            corremo             corr                corremo                       corr                                    \n",
      "corréis             corréi              corr                corré                         corr                                    \n",
      "corren              corren              corr                cor                           corr                                    \n",
      "escribir            escribir            escrib              escribir                      escrib                                  \n",
      "escribo             escribo             escrib              escribo                       escrib                                  \n",
      "escribes            escrib              escrib              escrib                        escrib                                  \n",
      "escribe             escrib              escrib              escrib                        escrib                                  \n",
      "escribimos          escribimo           escrib              escribimo                     escrib                                  \n",
      "escribís            escribí             escrib              escribí                       escrib                                  \n",
      "escriben            escriben            escrib              escrib                        escrib                                  \n",
      "-                   -                   -                   -                             -                                       \n",
      "como                como                com                 como                          com                                     \n",
      "otoño               otoño               otoñ                otoño                         otoñ                                    \n",
      "personalidad        personalidad        personal            personalidad                  personal                                \n",
      "qualidad            qualidad            qualid              qualidad                      qual                                    \n",
      "desayuno            desayuno            desayun             desayuno                      desayun                                 \n"
     ]
    }
   ],
   "source": [
    "word_list = 'hablar hablo hablas habla hablamos habláis hablan correr corro corres corre corremos corréis corren escribir escribo escribes escribe escribimos escribís escriben - como otoño personalidad qualidad desayuno'.split()\n",
    "print(\"{0:20}{1:20}{2:20}{3:30}{4:40}\".format(\"Word\",\"Porter Stemmer\",\"Snowball Stemmer\",\"Lancaster Stemmer\",'Regexp Stemmer'))\n",
    "for word in word_list:\n",
    "    print(\"{0:20}{1:20}{2:20}{3:30}{4:40}\".format(word,porter.stem(word),snowball.stem(word),lancaster.stem(word),regexp.stem(word)))"
   ]
  },
  {
   "cell_type": "code",
   "execution_count": null,
   "metadata": {},
   "outputs": [],
   "source": []
  }
 ],
 "metadata": {
  "kernelspec": {
   "display_name": "Python 3",
   "language": "python",
   "name": "python3"
  },
  "language_info": {
   "codemirror_mode": {
    "name": "ipython",
    "version": 3
   },
   "file_extension": ".py",
   "mimetype": "text/x-python",
   "name": "python",
   "nbconvert_exporter": "python",
   "pygments_lexer": "ipython3",
   "version": "3.10.5"
  }
 },
 "nbformat": 4,
 "nbformat_minor": 2
}
