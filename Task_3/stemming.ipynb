{
  "nbformat": 4,
  "nbformat_minor": 0,
  "metadata": {
    "colab": {
      "provenance": []
    },
    "kernelspec": {
      "name": "python3",
      "display_name": "Python 3"
    },
    "language_info": {
      "name": "python"
    }
  },
  "cells": [
    {
      "cell_type": "code",
      "execution_count": 1,
      "metadata": {
        "colab": {
          "base_uri": "https://localhost:8080/"
        },
        "id": "3ujk-F9Guf1O",
        "outputId": "b55f373e-01ec-4e0e-e0b7-0c2f22517411"
      },
      "outputs": [
        {
          "output_type": "stream",
          "name": "stdout",
          "text": [
            "Word                Porter Stemmer      Snowball Stemmer    Lancaster Stemmer             Regexp Stemmer                          \n",
            "anxiety             anxieti             anxieti             anxy                          anxi                                    \n",
            "anxious             anxiou              anxious             anxy                          anxi                                    \n",
            "anger               anger               anger               ang                           anger                                   \n",
            "angrily             angrili             angrili             angry                         angrily                                 \n"
          ]
        }
      ],
      "source": [
        "from nltk.stem import PorterStemmer, SnowballStemmer, LancasterStemmer, RegexpStemmer\n",
        "porter = PorterStemmer()\n",
        "lancaster = LancasterStemmer()\n",
        "snowball = SnowballStemmer(language='english')\n",
        "regexp = RegexpStemmer('ing$|s$|e$|able$|ety$|ous$', min=4)\n",
        "word_list = [\"anxiety\", \"anxious\", \"anger\", \"angrily\"]\n",
        "print(\"{0:20}{1:20}{2:20}{3:30}{4:40}\".format(\"Word\",\"Porter Stemmer\",\"Snowball Stemmer\",\"Lancaster Stemmer\",'Regexp Stemmer'))\n",
        "for word in word_list:\n",
        "    print(\"{0:20}{1:20}{2:20}{3:30}{4:40}\".format(word,porter.stem(word),snowball.stem(word),lancaster.stem(word),regexp.stem(word)))\n"
      ]
    },
    {
      "cell_type": "code",
      "source": [
        "from nltk.stem import PorterStemmer, SnowballStemmer, LancasterStemmer, RegexpStemmer\n",
        "porter = PorterStemmer()\n",
        "lancaster = LancasterStemmer()\n",
        "snowball = SnowballStemmer(language='hungarian')\n",
        "regexp = RegexpStemmer('t$|em$|ek$|am$|ok$|om$|ból$|ből$|ért$|tak$|tak$|kor$|ba$|nék$|nél$|ül$|en$|es$', min=3)\n",
        "word_list = ['almát', 'eszem', 'ropog', 'fogam', 'alatt', 'szeretem', 'amikor', 'haza', 'érek', 'munkából', 'almáért', 'szaladtak', 'boltba', 'négykor', 'pedig', 'hétig', 'ügyesen', 'szerencsésen', 'szépséges', 'egészséges']\n",
        "print(\"{0:20}{1:20}{2:20}{3:30}{4:40}\".format(\"Word\",\"Porter Stemmer\",\"Snowball Stemmer\",\"Lancaster Stemmer\",'Regexp Stemmer'))\n",
        "for word in word_list:\n",
        "    print(\"{0:20}{1:20}{2:20}{3:30}{4:40}\".format(word,porter.stem(word),snowball.stem(word),lancaster.stem(word),regexp.stem(word)))"
      ],
      "metadata": {
        "colab": {
          "base_uri": "https://localhost:8080/"
        },
        "id": "UqShewpUui4_",
        "outputId": "19280813-1e31-4b33-bb42-25495ddb6225"
      },
      "execution_count": 3,
      "outputs": [
        {
          "output_type": "stream",
          "name": "stdout",
          "text": [
            "Word                Porter Stemmer      Snowball Stemmer    Lancaster Stemmer             Regexp Stemmer                          \n",
            "almát               almát               alm                 almát                         almá                                    \n",
            "eszem               eszem               esz                 eszem                         esz                                     \n",
            "ropog               ropog               ropog               ropog                         ropog                                   \n",
            "fogam               fogam               fog                 fogam                         fog                                     \n",
            "alatt               alatt               alat                alat                          alat                                    \n",
            "szeretem            szeretem            szeret              szeretem                      szeret                                  \n",
            "amikor              amikor              am                  amik                          ami                                     \n",
            "haza                haza                haz                 haz                           haza                                    \n",
            "érek                érek                ér                  érek                          ér                                      \n",
            "munkából            munkából            mun                 munkából                      munká                                   \n",
            "almáért             almáért             alm                 almáért                       almá                                    \n",
            "szaladtak           szaladtak           szaladt             szaladtak                     szalad                                  \n",
            "boltba              boltba              bolt                boltb                         bolt                                    \n",
            "négykor             négykor             négy                négykor                       négy                                    \n",
            "pedig               pedig               ped                 pedig                         pedig                                   \n",
            "hétig               hétig               hét                 hétig                         hétig                                   \n",
            "ügyesen             ügyesen             ügyes               ügyes                         ügyes                                   \n",
            "szerencsésen        szerencsésen        szerencsés          szerencsés                    szerencsés                              \n",
            "szépséges           szépsége            szépséges           szépséges                     szépség                                 \n",
            "egészséges          egészség            egészséges          egészség                      egészség                                \n"
          ]
        }
      ]
    },
    {
      "cell_type": "code",
      "source": [],
      "metadata": {
        "id": "yxH8TUMpu2ls"
      },
      "execution_count": null,
      "outputs": []
    }
  ]
}