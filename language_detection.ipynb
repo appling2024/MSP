{
 "cells": [
  {
   "cell_type": "code",
   "execution_count": 1,
   "metadata": {},
   "outputs": [],
   "source": [
    "from langid import classify\n",
    "from langdetect import detect_langs"
   ]
  },
  {
   "cell_type": "code",
   "execution_count": 4,
   "metadata": {},
   "outputs": [],
   "source": [
    "text_en = '''\n",
    "Oh, East is East, and West is West, and never the twain shall meet,\n",
    "Till Earth and Sky stand presently at God's great Judgment Seat;\n",
    "But there is neither East nor West, Border, nor Breed, nor Birth,\n",
    "When two strong men stand face to face, though they come from the ends of the earth! \n",
    "'''\n",
    "text_es = '''\n",
    "La sangre de mi espiritu es mi lengua\n",
    "y mi patria es alli donde resuene\n",
    "soberano su verbo, que no amengua\n",
    "su voz por mucho que ambos mundos llene.\n",
    "Ya Seneca la preludio aun no nacida\n",
    "y en su austero latin ella se encierra.\n",
    "Alfonso en Europa dio con ella vida.\n",
    "Colon con ella redoblo la tierra.\n",
    "Y esta mi lengua flota como el arca\n",
    "de cien Pueblos contrarios y distantes,\n",
    "que las flores en ella hallaron brote.\n",
    "De Juarez y Rival pues ella abarca\n",
    "la legion: lengua en que a Cervantes\n",
    "Dios le dio el Evangelio del Quijote.\n",
    "'''\n",
    "\n",
    "text_de_1 = \"\"\"\n",
    "Das Princeton WordNet (im Folgenden nur WordNet) wird seit 1985 vom Cognitive\n",
    "Science Laboratory der Universit¨at Princeton unter der Leitung von George\n",
    "A. Miller entwickelt [WordNet 2006].\n",
    "\"\"\"\n",
    "\n",
    "text_de_2 = '''\n",
    "Yo, check it out! Die neue Season von Game of Thrones ist endlich da! \n",
    "Ich habe den ersten Episode gebinged und bin total hyped! Die Storyline ist mega-epic, die Charaktere sind super relatable und die Action ist next level. \n",
    "Ich bin so happy, dass die Show endlich wieder läuft, man kann es gar nicht glauben, wie lange ich darauf gewartet habe. \n",
    "Das Finale war echt ein cliffhanger, ich kann es kaum erwarten, zu sehen, was in den nächsten Episoden passiert. \n",
    "Ich habe so viele Fragen!\n",
    "''' # Deutch + English\n",
    "\n",
    "text_gpt_1 = \"\"\"\n",
    "أنا كاتب! ويمكنني كتابة نصوص عربية مصرية. \n",
    "ما هو النص الذي تريدني أن أكتبه؟ \n",
    "أخبرني عن الموضوع، وكم عدد الكلمات التي تريدها، و أي نوع من الأسلوب تريدني أن أستخدمه (مثلاً: رسمي، غير رسمي، شعري، كوميدي).\n",
    "\"\"\" # Arabic\n",
    "\n",
    "text_gpt_2 = \"\"\"\n",
    "Jina langu ni Amani. Mimi ni mwanafunzi wa chuo kikuu cha Nairobi. \n",
    "Ninapenda kusoma vitabu na kujifunza lugha mbalimbali. \n",
    "Kila siku, baada ya masomo, mimi huenda maktaba kusoma na kufanya utafiti. \n",
    "Rafiki zangu pia wanapenda kujifunza, na mara nyingi tunakutana ili kujadiliana kuhusu masomo yetu. \n",
    "Ninapenda sana utamaduni wa Kiswahili na ninajivunia kuwa sehemu ya jamii hii.\n",
    "\"\"\" # Swahili\n",
    "\n",
    "text_gpt_3 = \"\"\"\n",
    "Oh là là, what a journée! \n",
    "I woke up feeling ennuyé, the soleil was hiding behind the clouds and my café au lait tasted fade. \n",
    "But then, voilà, a coup de foudre! \n",
    "I met the most charmant man at the boulangerie, he had eyes like the ciel and a smile that could melt glace. \n",
    "We chatted sans cesse about art and literature, and he even quoted Baudelaire. \n",
    "C'est incroyable how a simple encounter can brighten your jour. I can't wait to see him again, mon chéri. \n",
    "Bonne soirée to all!\n",
    "\"\"\" # English + French \n",
    "\n",
    "text_gpt_4 = \"\"\"\n",
    "\"Guten Tag, amigos!  \n",
    "Как дела, queridos?  \n",
    "This fantastisch weather ist making mich querer to танцевать in die plaza!  \n",
    "Ich möchte einen Kaffee zu drinken and отдохнуть for un момент? Was für ein Vergnügen! \n",
    "We can schprechen sobre alles and ни о чем, y мечтать about aventuras in der Zukunft. \n",
    "I'm feeling super glücklich today, and I хочу to share it with todo el mundo! Hasta скорого!\"\n",
    "\"\"\" # RU + DE + ES + EN\n",
    "\n",
    "texts_to_classify = [text_en, text_es, text_de_1, text_de_2, text_gpt_1, text_gpt_2, text_gpt_3, text_gpt_4]"
   ]
  },
  {
   "cell_type": "code",
   "execution_count": 5,
   "metadata": {},
   "outputs": [
    {
     "name": "stdout",
     "output_type": "stream",
     "text": [
      "langid: ('en', -655.3545405864716)\tlangdetect: [en:0.99999766616966]\n",
      "langid: ('es', -1713.2513003349304)\tlangdetect: [es:0.9999952098901038]\n",
      "langid: ('de', -397.7379517555237)\tlangdetect: [de:0.9999959936413841]\n",
      "langid: ('de', -1644.675859451294)\tlangdetect: [de:0.9999963493625759]\n",
      "langid: ('ar', -1380.242758512497)\tlangdetect: [ar:0.9999990218293952]\n",
      "langid: ('sw', -610.8520829677582)\tlangdetect: [sw:0.9999993045810357]\n",
      "langid: ('en', -1541.3558866977692)\tlangdetect: [en:0.9999939019444808]\n",
      "langid: ('ky', -3023.6112521886826)\tlangdetect: [en:0.7142828776391547, de:0.2857163674513662]\n"
     ]
    }
   ],
   "source": [
    "for text in texts_to_classify:\n",
    "    langid_res = classify(text)\n",
    "    langdetect_res = detect_langs(text)\n",
    "    print(f'langid: {langid_res}\\tlangdetect: {langdetect_res}')"
   ]
  },
  {
   "cell_type": "code",
   "execution_count": null,
   "metadata": {},
   "outputs": [],
   "source": [
    "sw - Суахили\n",
    "ky - Киргизский "
   ]
  }
 ],
 "metadata": {
  "kernelspec": {
   "display_name": "Python 3",
   "language": "python",
   "name": "python3"
  },
  "language_info": {
   "codemirror_mode": {
    "name": "ipython",
    "version": 3
   },
   "file_extension": ".py",
   "mimetype": "text/x-python",
   "name": "python",
   "nbconvert_exporter": "python",
   "pygments_lexer": "ipython3",
   "version": "3.10.5"
  }
 },
 "nbformat": 4,
 "nbformat_minor": 2
}
