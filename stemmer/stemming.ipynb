{
  "nbformat": 4,
  "nbformat_minor": 0,
  "metadata": {
    "colab": {
      "provenance": []
    },
    "kernelspec": {
      "name": "python3",
      "display_name": "Python 3"
    },
    "language_info": {
      "name": "python"
    }
  },
  "cells": [
    {
      "cell_type": "code",
      "source": [
        "#rules for stemming"
      ],
      "metadata": {
        "id": "E56NtBVxo_E0"
      },
      "execution_count": null,
      "outputs": []
    },
    {
      "cell_type": "code",
      "source": [
        "chats ---> chat\n",
        "petites ---> petite\n",
        "maisons ---> maison\n",
        "arbres ---> arbre\n",
        "belles ---> belle"
      ],
      "metadata": {
        "id": "nKtdeM2Wp5YX"
      },
      "execution_count": null,
      "outputs": []
    },
    {
      "cell_type": "code",
      "source": [
        "manger ---> mang\n",
        "mange ---> mang\n",
        "manges ---> mang\n",
        "mangeons ---> mang\n",
        "mangez ---> mang\n",
        "mangent ---> mang\n",
        "\n",
        "pêcher ---> pêch\n",
        "pêche ---> pêch\n",
        "pêches ---> pêch\n",
        "pêchons ---> pêch\n",
        "pêchez ---> pêch\n",
        "pêchent ---> pêch\n",
        "\n",
        "ranger ---> rang\n",
        "range ---> rang\n",
        "ranges ---> rang\n",
        "rangeons ---> rang\n",
        "rangez ---> rang\n",
        "rangent ---> rang"
      ],
      "metadata": {
        "id": "27_8HzXDqeH8"
      },
      "execution_count": null,
      "outputs": []
    },
    {
      "cell_type": "code",
      "source": [
        "finir ---> fin\n",
        "finis ---> fin\n",
        "finit ---> fin\n",
        "finissons ---> fin\n",
        "finissez ---> fin\n",
        "finissent ---> fin\n",
        "\n",
        "choisir ---> chois\n",
        "choisis ---> chois\n",
        "choisit ---> chois\n",
        "choisissons ---> chois\n",
        "choisissez ---> chois\n",
        "choisissent ---> chois"
      ],
      "metadata": {
        "id": "09vA3UcssOYJ"
      },
      "execution_count": null,
      "outputs": []
    },
    {
      "cell_type": "code",
      "source": [
        "from nltk.stem import SnowballStemmer"
      ],
      "metadata": {
        "id": "gYvBbSsQ37V6"
      },
      "execution_count": 4,
      "outputs": []
    },
    {
      "cell_type": "code",
      "source": [
        "regexp = RegexpStemmer('er$|e$|es$|ons$|eons$|ez$|ent$')\n",
        "word_list = ['manger', 'mange', 'manges', 'mangeons', 'mangez', 'mangent', 'pêcher', 'pêche', 'pêches', 'pêchons', 'pêchez', 'pêchent', 'ranger', 'range', 'ranges', 'rangeons', 'rangez', 'rangent']"
      ],
      "metadata": {
        "id": "8rYxwFogtiQi"
      },
      "execution_count": null,
      "outputs": []
    },
    {
      "cell_type": "code",
      "source": [
        "from nltk.stem import PorterStemmer, SnowballStemmer, LancasterStemmer, RegexpStemmer\n",
        "porter = PorterStemmer()\n",
        "lancaster = LancasterStemmer()\n",
        "snowball = SnowballStemmer(language='french')\n",
        "regexp = RegexpStemmer('er$|e$|es$|ons$|eons$|ez$|ent$|ir$|is$|it$|issons$|issez$|issent$', min=4)\n",
        "word_list = ['manger', 'mange', 'manges', 'mangeons', 'mangez', 'mangent', 'pêcher', 'pêche', 'pêches', 'pêchons', 'pêchez', 'pêchent', 'ranger', 'range', 'ranges', 'rangeons', 'rangez', 'rangent', 'finir', 'finis', 'finit', 'finissons', 'finissez', 'finissent', 'choisir', 'choisis', 'choisit', 'choisissons', 'choisissez', 'choisissent']\n",
        "print(\"{0:20}{1:20}{2:20}{3:30}\".format(\"Word\",\"Snowball Stemmer\",\"Lancaster Stemmer\",'Regexp Stemmer'))\n",
        "for word in word_list:\n",
        "    print(\"{0:20}{1:20}{2:20}{3:30}\".format(word,snowball.stem(word),lancaster.stem(word),regexp.stem(word)))"
      ],
      "metadata": {
        "colab": {
          "base_uri": "https://localhost:8080/"
        },
        "id": "bmxfnzHEvrXa",
        "outputId": "5d65ac16-9550-4182-bd1f-871162feb7f3"
      },
      "execution_count": 15,
      "outputs": [
        {
          "output_type": "stream",
          "name": "stdout",
          "text": [
            "Word                Snowball Stemmer    Lancaster Stemmer   Regexp Stemmer                \n",
            "manger              mang                mang                mang                          \n",
            "mange               mang                mang                mang                          \n",
            "manges              mang                mang                mang                          \n",
            "mangeons            mangeon             mangeon             mang                          \n",
            "mangez              mang                mangez              mang                          \n",
            "mangent             mangent             mang                mang                          \n",
            "pêcher              pêch                pêcher              pêch                          \n",
            "pêche               pêch                pêche               pêch                          \n",
            "pêches              pêch                pêches              pêch                          \n",
            "pêchons             pêchon              pêchons             pêch                          \n",
            "pêchez              pêch                pêchez              pêch                          \n",
            "pêchent             pêchent             pêchent             pêch                          \n",
            "ranger              rang                rang                rang                          \n",
            "range               rang                rang                rang                          \n",
            "ranges              rang                rang                rang                          \n",
            "rangeons            rangeon             rangeon             rang                          \n",
            "rangez              rang                rangez              rang                          \n",
            "rangent             rangent             rang                rang                          \n",
            "finir               fin                 finir               fin                           \n",
            "finis               fin                 fin                 fin                           \n",
            "finit               fin                 finit               fin                           \n",
            "finissons           fin                 finisson            fin                           \n",
            "finissez            fin                 finissez            fin                           \n",
            "finissent           fin                 finiss              fin                           \n",
            "choisir             chois               choisir             chois                         \n",
            "choisis             chois               chois               chois                         \n",
            "choisit             chois               choisit             chois                         \n",
            "choisissons         chois               choisisson          chois                         \n",
            "choisissez          chois               choisissez          chois                         \n",
            "choisissent         chois               choisiss            chois                         \n"
          ]
        }
      ]
    }
  ]
}