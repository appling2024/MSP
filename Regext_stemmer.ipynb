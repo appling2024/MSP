{
 "cells": [
  {
   "cell_type": "markdown",
   "metadata": {},
   "source": [
    "Стемминг "
   ]
  },
  {
   "cell_type": "code",
   "execution_count": 2,
   "metadata": {},
   "outputs": [],
   "source": [
    "import nltk"
   ]
  },
  {
   "cell_type": "code",
   "execution_count": 3,
   "metadata": {},
   "outputs": [],
   "source": [
    "from nltk.stem import RegexpStemmer"
   ]
  },
  {
   "cell_type": "code",
   "execution_count": 4,
   "metadata": {},
   "outputs": [
    {
     "name": "stdout",
     "output_type": "stream",
     "text": [
      "strenge ---> streng\n",
      "Trainerin ---> Trainer\n",
      "entladen ---> entlad\n",
      "gehest ---> geh\n",
      "entladest ---> entlad\n",
      "Hotelzimmer ---> Hotelzimm\n",
      "steckt ---> steck\n",
      "amerikanischer ---> amerikanisch\n",
      "merere ---> mere\n",
      "trainierte ---> trainier\n"
     ]
    }
   ],
   "source": [
    "regexp = RegexpStemmer('en$|e$|er$|in$|t$|st$|est$|er$|re$|te$', min=4)\n",
    "words = ['strenge', 'Trainerin', 'entladen', 'gehest', 'entladest', 'Hotelzimmer',  'steckt', 'amerikanischer', 'merere', 'trainierte', ]\n",
    "for word in words:\n",
    "    print(word,\"--->\",regexp.stem(word))"
   ]
  }
 ],
 "metadata": {
  "kernelspec": {
   "display_name": "Python 3",
   "language": "python",
   "name": "python3"
  },
  "language_info": {
   "codemirror_mode": {
    "name": "ipython",
    "version": 3
   },
   "file_extension": ".py",
   "mimetype": "text/x-python",
   "name": "python",
   "nbconvert_exporter": "python",
   "pygments_lexer": "ipython3",
   "version": "3.10.5"
  }
 },
 "nbformat": 4,
 "nbformat_minor": 2
}
