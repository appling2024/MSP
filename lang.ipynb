{
 "cells": [
  {
   "cell_type": "code",
   "execution_count": 2,
   "metadata": {},
   "outputs": [
    {
     "name": "stdout",
     "output_type": "stream",
     "text": [
      "Requirement already satisfied: langid in c:\\users\\user\\appdata\\local\\programs\\python\\python312\\lib\\site-packages (1.1.6)Note: you may need to restart the kernel to use updated packages.\n",
      "\n",
      "Requirement already satisfied: numpy in c:\\users\\user\\appdata\\local\\programs\\python\\python312\\lib\\site-packages (from langid) (1.26.4)\n"
     ]
    }
   ],
   "source": [
    "pip install langid\n"
   ]
  },
  {
   "cell_type": "code",
   "execution_count": 3,
   "metadata": {},
   "outputs": [],
   "source": [
    "import langid"
   ]
  },
  {
   "cell_type": "code",
   "execution_count": 4,
   "metadata": {},
   "outputs": [],
   "source": [
    "text = 'Dnes je krásný den! Je půl osmé ráno, hezké počasí a nám začínají prázdniny! S bratrem jedeme k babičce na venkov. Vlak odjíždí v deset hodin a cesta trvá přes dvě hodiny. Koupíme si něco k jídlu a k pití a můžeme jít! Kufr jsme si zabalili už včera: máme svetry, kraťasy, trička i plavky! U babičky je vždycky spousta legrace! Známe am pár dětí, jezdíme na koni, na kole, chodíme do lesa, sbíráme houby a borůvky, koupeme se v řece a hrajeme si s babiččiným psem, Alíkem. K babičce už se moc těšíme! '"
   ]
  },
  {
   "cell_type": "code",
   "execution_count": 5,
   "metadata": {},
   "outputs": [],
   "source": [
    "language, confidence = langid.classify(text)"
   ]
  },
  {
   "cell_type": "code",
   "execution_count": 12,
   "metadata": {},
   "outputs": [
    {
     "name": "stdout",
     "output_type": "stream",
     "text": [
      "Язык: cs\n",
      "Уверенность: -1776.57\n"
     ]
    }
   ],
   "source": [
    "print(f\"Язык: {language}\")\n",
    "print(f\"Уверенность: {confidence:.2f}\")"
   ]
  },
  {
   "cell_type": "code",
   "execution_count": 13,
   "metadata": {},
   "outputs": [
    {
     "name": "stdout",
     "output_type": "stream",
     "text": [
      "Язык:  cs\n"
     ]
    }
   ],
   "source": [
    "import langdetect\n",
    "from langdetect import detect\n",
    "text = 'Dnes je krásný den! Je půl osmé ráno, hezké počasí a nám začínají prázdniny! S bratrem jedeme k babičce na venkov. Vlak odjíždí v deset hodin a cesta trvá přes dvě hodiny. Koupíme si něco k jídlu a k pití a můžeme jít! Kufr jsme si zabalili už včera: máme svetry, kraťasy, trička i plavky! U babičky je vždycky spousta legrace! Známe am pár dětí, jezdíme na koni, na kole, chodíme do lesa, sbíráme houby a borůvky, koupeme se v řece a hrajeme si s babiččiným psem, Alíkem. K babičce už se moc těšíme! '\n",
    "n = detect(text)\n",
    "print('Язык: ', n)"
   ]
  }
 ],
 "metadata": {
  "kernelspec": {
   "display_name": "Python 3",
   "language": "python",
   "name": "python3"
  },
  "language_info": {
   "codemirror_mode": {
    "name": "ipython",
    "version": 3
   },
   "file_extension": ".py",
   "mimetype": "text/x-python",
   "name": "python",
   "nbconvert_exporter": "python",
   "pygments_lexer": "ipython3",
   "version": "3.12.6"
  }
 },
 "nbformat": 4,
 "nbformat_minor": 2
}
