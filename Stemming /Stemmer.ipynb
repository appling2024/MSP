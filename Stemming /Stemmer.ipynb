{
 "cells": [
  {
   "cell_type": "code",
   "id": "initial_id",
   "metadata": {
    "collapsed": true,
    "ExecuteTime": {
     "end_time": "2024-09-27T09:13:37.149555Z",
     "start_time": "2024-09-27T09:13:36.518687Z"
    }
   },
   "source": [
    "from nltk.stem import PorterStemmer, SnowballStemmer, LancasterStemmer, RegexpStemmer\n",
    "porter = PorterStemmer()\n",
    "lancaster = LancasterStemmer()\n",
    "snowball = SnowballStemmer(language='german')\n",
    "regexp = RegexpStemmer('e$|n$|er$|s$|st$|t$|en$|et$|est$|in$|erin$|', min=3)\n",
    "\n",
    "words = ['Fische','Blumen','Kinder', 'Parks', 'höre', 'badest','arbeitet', 'reisen', 'gefahren', 'Lehrerin', 'Schüler']\n",
    "print(\"{0:20}{1:20}{2:20}{3:30}{4:40}\".format(\"Word\",\"Porter Stemmer\",\"Snowball Stemmer\",\"Lancaster Stemmer\",'Regexp Stemmer'))\n",
    "for word in words:\n",
    "    print(\"{0:20}{1:20}{2:20}{3:30}{4:40}\".format(word,porter.stem(word),snowball.stem(word),lancaster.stem(word),regexp.stem(word)))"
   ],
   "outputs": [
    {
     "name": "stdout",
     "output_type": "stream",
     "text": [
      "Word                Porter Stemmer      Snowball Stemmer    Lancaster Stemmer             Regexp Stemmer                          \n",
      "Fische              fisch               Fische              fisch                         Fisch                                   \n",
      "Blumen              blumen              Blumen              blum                          Blum                                    \n",
      "Kinder              kinder              Kinder              kind                          Kind                                    \n",
      "Parks               park                Parks               park                          Park                                    \n",
      "höre                höre                höre                höre                          hör                                     \n",
      "badest              badest              badest              badest                        bad                                     \n",
      "arbeitet            arbeitet            arbeitet            arbeitet                      arbeit                                  \n",
      "reisen              reisen              reisen              reis                          reis                                    \n",
      "gefahren            gefahren            gefahren            gefahr                        gefahr                                  \n",
      "Lehrerin            lehrerin            Lehrerin            lehrerin                      Lehr                                    \n",
      "Schüler             schüler             Schüler             schüler                       Schül                                   \n"
     ]
    }
   ],
   "execution_count": 1
  }
 ],
 "metadata": {
  "kernelspec": {
   "display_name": "Python 3",
   "language": "python",
   "name": "python3"
  },
  "language_info": {
   "codemirror_mode": {
    "name": "ipython",
    "version": 2
   },
   "file_extension": ".py",
   "mimetype": "text/x-python",
   "name": "python",
   "nbconvert_exporter": "python",
   "pygments_lexer": "ipython2",
   "version": "2.7.6"
  }
 },
 "nbformat": 4,
 "nbformat_minor": 5
}
