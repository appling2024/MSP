{
 "cells": [
  {
   "cell_type": "code",
   "execution_count": 14,
   "metadata": {},
   "outputs": [],
   "source": [
    "with open('brusov.txt', \"r\") as file:\n",
    "    text=file.read()\n",
    "import spacy\n",
    "nlp = spacy.load(\"ru_core_news_sm\")\n",
    "doc = nlp(text)\n",
    "import pandas as pd\n",
    "\n",
    "cols = (\"text\", \"lemma\", \"POS\", \"explain\", \"tense\")\n",
    "rows = []\n",
    "\n",
    "for t in doc:\n",
    "    row = [t.text, t.lemma_, t.pos_, spacy.explain(t.pos_), t.morph]\n",
    "    rows.append(row)\n",
    "\n",
    "df = pd.DataFrame(rows, columns=cols)\n",
    "    \n",
    "df_str = df.to_string(index=False)\n",
    "with open('brusov_spacy.txt', 'w', encoding='utf-8') as f:\n",
    "    f.write(df_str)"
   ]
  },
  {
   "cell_type": "code",
   "execution_count": 13,
   "metadata": {},
   "outputs": [
    {
     "name": "stdout",
     "output_type": "stream",
     "text": [
      "        word normal_form                                 tag\n",
      "0          В           в                                PREP\n",
      "1          .           .                                PNCT\n",
      "2          Я           я                 NPRO,1per sing,nomn\n",
      "3          .           .                                PNCT\n",
      "4     БРЮСОВ      брюсов  NOUN,anim,masc,Sgtm,Surn sing,nomn\n",
      "..       ...         ...                                 ...\n",
      "152     плат       плата            NOUN,inan,femn plur,gent\n",
      "153        !           !                                PNCT\n",
      "154       12          12                           NUMB,intg\n",
      "155  декабря     декабрь            NOUN,inan,masc sing,gent\n",
      "156     1914        1914                           NUMB,intg\n",
      "\n",
      "[157 rows x 3 columns]\n"
     ]
    }
   ],
   "source": [
    "import pymorphy3\n",
    "from pymorphy3.tokenizers import simple_word_tokenize\n",
    "morph = pymorphy3.MorphAnalyzer()\n",
    "tokens = simple_word_tokenize(text)\n",
    "cols = (\"word\", \"normal_form\", \"tag\")\n",
    "rows = []\n",
    "for i in tokens:\n",
    "    parsed=morph.parse(i)\n",
    "    if parsed:\n",
    "        p = parsed[0]\n",
    "        row=[i, p.normal_form, p.tag]\n",
    "        rows.append(row)\n",
    "df = pd.DataFrame(rows, columns=cols)\n",
    "print(df)\n",
    "\n",
    "df_str = df.to_string(index=False)\n",
    "with open('brusov_pymorphy.txt', 'w', encoding='utf-8') as f:\n",
    "    f.write(df_str)"
   ]
  },
  {
   "cell_type": "code",
   "execution_count": 11,
   "metadata": {},
   "outputs": [
    {
     "name": "stdout",
     "output_type": "stream",
     "text": [
      "        text      lex    weight  \\\n",
      "0          В        в  0.000008   \n",
      "1         .      None       NaN   \n",
      "2          Я        я  0.000028   \n",
      "3         .      None       NaN   \n",
      "4     БРЮСОВ   брюсов  0.999879   \n",
      "..       ...      ...       ...   \n",
      "254              None       NaN   \n",
      "255  декабря  декабрь  1.000000   \n",
      "256              None       NaN   \n",
      "257     1914     None       NaN   \n",
      "258       \\n     None       NaN   \n",
      "\n",
      "                                               grammar  \n",
      "0    S,сокр=(пр,мн|пр,ед|вин,мн|вин,ед|дат,мн|дат,е...  \n",
      "1                                                 None  \n",
      "2    S,сокр=(пр,мн|пр,ед|вин,мн|вин,ед|дат,мн|дат,е...  \n",
      "3                                                 None  \n",
      "4                                   S,фам,муж,од=им,ед  \n",
      "..                                                 ...  \n",
      "254                                               None  \n",
      "255                                  S,муж,неод=род,ед  \n",
      "256                                               None  \n",
      "257                                               None  \n",
      "258                                               None  \n",
      "\n",
      "[259 rows x 4 columns]\n"
     ]
    }
   ],
   "source": [
    "import json\n",
    "import pandas as pd\n",
    "from pymystem3 import Mystem\n",
    "\n",
    "m = Mystem()\n",
    "analysis_result = m.analyze(text)\n",
    "\n",
    "data = []\n",
    "\n",
    "for item in analysis_result:\n",
    "    if 'analysis' in item:\n",
    "        for analysis in item['analysis']:\n",
    "            data.append({\n",
    "                'text': item['text'],\n",
    "                'lex': analysis['lex'],\n",
    "                'weight': analysis['wt'],\n",
    "                'grammar': analysis['gr']\n",
    "            })\n",
    "    else:\n",
    "        data.append({\n",
    "            'text': item['text'],\n",
    "            'lex': None,\n",
    "            'weight': None,\n",
    "            'grammar': None\n",
    "        })\n",
    "\n",
    "df = pd.DataFrame(data)\n",
    "\n",
    "print(df)\n",
    "df_str = df.to_string(index=False)\n",
    "with open('brusov_pymystem.txt', 'w', encoding='utf-8') as f:\n",
    "    f.write(df_str)"
   ]
  }
 ],
 "metadata": {
  "kernelspec": {
   "display_name": "Python 3",
   "language": "python",
   "name": "python3"
  },
  "language_info": {
   "codemirror_mode": {
    "name": "ipython",
    "version": 3
   },
   "file_extension": ".py",
   "mimetype": "text/x-python",
   "name": "python",
   "nbconvert_exporter": "python",
   "pygments_lexer": "ipython3",
   "version": "3.12.5"
  }
 },
 "nbformat": 4,
 "nbformat_minor": 2
}
