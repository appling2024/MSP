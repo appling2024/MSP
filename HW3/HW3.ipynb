{
 "cells": [
  {
   "cell_type": "code",
   "execution_count": null,
   "metadata": {},
   "outputs": [],
   "source": [
    "#spaCy\n",
    "with open('статья.txt' , 'r', encoding='utf-8') as f:\n",
    "  my_file = f.read()\n",
    "\n",
    "import spacy\n",
    "nlp = spacy.load(\"ru_core_news_sm\")\n",
    "tokens = nlp(my_file)\n",
    "print(tokens)\n",
    "print(len(tokens))\n",
    "\n",
    "with open('tokens_spaCy.txt' , 'w', encoding='utf-8') as f2:\n",
    "  for item in tokens:\n",
    "    f2.write(item.text)\n",
    "    f2.write('\\n')"
   ]
  },
  {
   "cell_type": "code",
   "execution_count": null,
   "metadata": {},
   "outputs": [],
   "source": [
    "#pymorhy3\n",
    "with open('статья.txt' , 'r', encoding='utf-8') as f:\n",
    "  my_file = f.read()\n",
    "\n",
    "import pymorphy3\n",
    "from pymorphy3 import tokenizers\n",
    "tokens = pymorphy3.tokenizers.simple_word_tokenize(my_file)\n",
    "print(tokens)\n",
    "print(len(tokens))\n",
    "\n",
    "# for token in tokens:\n",
    "#      parsed = morph.parse(token)\n",
    "#      print(f\"Word: {token}, Parsed: {parsed[0].normal_form}, Tag: {parsed[0].tag}\")\n",
    "\n",
    "with open('tokens_pymorphy.txt' , 'w' , encoding='utf-8') as f2:\n",
    "   for item in tokens:\n",
    "    f2.write(item)\n",
    "    f2.write('\\n')"
   ]
  }
 ],
 "metadata": {
  "kernelspec": {
   "display_name": "Python 3",
   "language": "python",
   "name": "python3"
  },
  "language_info": {
   "name": "python",
   "version": "3.12.5"
  }
 },
 "nbformat": 4,
 "nbformat_minor": 2
}
