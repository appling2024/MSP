{
 "cells": [
  {
   "cell_type": "code",
   "execution_count": 1,
   "metadata": {},
   "outputs": [
    {
     "name": "stdout",
     "output_type": "stream",
     "text": [
      "Word                Snowball Stemmer    Lancaster Stemmer   Regexp Stemmer                \n",
      "mangerais           mang                mangera             mangerai                      \n",
      "mangions            mangion             mang                mangion                       \n",
      "mangeaient          mang                mangeay             mangeaient                    \n",
      "chanteurs           chanteur            chant               chanteur                      \n",
      "chanteuses          chanteux            chanteus            chanteuse                     \n",
      "nationalités        national            nationalité         nationalité                   \n",
      "nationalisation     nationalis          nat                 national                      \n",
      "relativement        relat               rel                 relative                      \n",
      "actrice             actric              act                 actrice                       \n",
      "réalisation         réalis              réal                réal                          \n",
      "programmation       programm            program             programma                     \n",
      "présentation        présent             présentation        présenta                      \n",
      "modification        modif               mod                 modifica                      \n",
      "interprétation      interpret           interprét           interpréta                    \n",
      "agressive           agress              agress              agressive                     \n"
     ]
    }
   ],
   "source": [
    "import nltk\n",
    "from nltk.stem import SnowballStemmer, LancasterStemmer, RegexpStemmer\n",
    "\n",
    "snowball_stemmer = SnowballStemmer(\"french\")   \n",
    "lancaster_stemmer = LancasterStemmer()         \n",
    "regexp_stemmer = RegexpStemmer('s$|ment$|tion$|atrice$|euse$|isation$|ité$|logie$|ences$|ance$|able$|isme$|iste$', min=4)  \n",
    "\n",
    "words = [\n",
    "    \"mangerais\", \"mangions\", \"mangeaient\", \"chanteurs\", \"chanteuses\", \"nationalités\", \n",
    "    \"nationalisation\", \"relativement\", \"actrice\", \"réalisation\", \"programmation\", \n",
    "    \"présentation\", \"modification\", \"interprétation\", \"agressive\"\n",
    "]\n",
    "\n",
    "print(\"{0:20}{1:20}{2:20}{3:30}\".format(\"Word\",\"Snowball Stemmer\",\"Lancaster Stemmer\",'Regexp Stemmer'))\n",
    "for word in words:\n",
    "    print(\"{0:20}{1:20}{2:20}{3:30}\".format(word,snowball_stemmer.stem(word),lancaster_stemmer.stem(word),regexp_stemmer.stem(word)))\n"
   ]
  }
 ],
 "metadata": {
  "kernelspec": {
   "display_name": "Python 3",
   "language": "python",
   "name": "python3"
  },
  "language_info": {
   "codemirror_mode": {
    "name": "ipython",
    "version": 3
   },
   "file_extension": ".py",
   "mimetype": "text/x-python",
   "name": "python",
   "nbconvert_exporter": "python",
   "pygments_lexer": "ipython3",
   "version": "3.12.5"
  }
 },
 "nbformat": 4,
 "nbformat_minor": 2
}
