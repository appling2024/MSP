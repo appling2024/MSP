{
  "nbformat": 4,
  "nbformat_minor": 0,
  "metadata": {
    "colab": {
      "provenance": []
    },
    "kernelspec": {
      "name": "python3",
      "display_name": "Python 3"
    },
    "language_info": {
      "name": "python"
    }
  },
  "cells": [
    {
      "cell_type": "code",
      "execution_count": null,
      "metadata": {
        "id": "lMKHqJFXgaoy"
      },
      "outputs": [],
      "source": [
        "! pip install langid\n",
        "import langid"
      ]
    },
    {
      "cell_type": "code",
      "source": [
        "! pip install langdetect\n",
        "import langdetect\n",
        "from langdetect import detect_langs"
      ],
      "metadata": {
        "id": "5s8jV0iTi4CB"
      },
      "execution_count": null,
      "outputs": []
    },
    {
      "cell_type": "code",
      "source": [
        "text_pushkin = ('''Я помню чудное мгновенье:\n",
        "Передо мной явилась ты,\n",
        "Как мимолетное виденье,\n",
        "Как гений чистой красоты.''')\n",
        "\n",
        "lang_pushkin_langid = langid.classify(text_pushkin)\n",
        "lang_pushkin_langdetect = detect_langs(text_pushkin)\n",
        "print(lang_pushkin_langid)\n",
        "print(lang_pushkin_langdetect)"
      ],
      "metadata": {
        "colab": {
          "base_uri": "https://localhost:8080/"
        },
        "id": "nCP9yUrXmI8m",
        "outputId": "1a328e8e-1522-4ccd-a290-e0bf680b3745"
      },
      "execution_count": 26,
      "outputs": [
        {
          "output_type": "stream",
          "name": "stdout",
          "text": [
            "('ru', -1674.8082304000854)\n",
            "[ru:0.9999970352344592]\n"
          ]
        }
      ]
    },
    {
      "cell_type": "code",
      "source": [
        "text_heine = ('''Ich weiß nicht, was soll es bedeuten,\n",
        "Daß ich so traurig bin,\n",
        "Ein Märchen aus uralten Zeiten,\n",
        "Das kommt mir nicht aus dem Sinn.\n",
        "Die Luft ist kühl und es dunkelt,\n",
        "Und ruhig fließt der Rhein;\n",
        "Der Gipfel des Berges funkelt,\n",
        "Im Abendsonnenschein.''')\n",
        "\n",
        "lang_heine_langid = langid.classify(text_heine)\n",
        "lang_heine_langdetect = detect_langs(text_heine)\n",
        "print(lang_heine_langid)\n",
        "print(lang_heine_langdetect)"
      ],
      "metadata": {
        "colab": {
          "base_uri": "https://localhost:8080/"
        },
        "id": "GZVlMNBzkUyp",
        "outputId": "38ac0f37-2994-49d7-ef82-c07b1f9ac15e"
      },
      "execution_count": 27,
      "outputs": [
        {
          "output_type": "stream",
          "name": "stdout",
          "text": [
            "('de', -893.5035161972046)\n",
            "[de:0.9999976410387192]\n"
          ]
        }
      ]
    },
    {
      "cell_type": "code",
      "source": [
        "text_verlaine = ('''Le coouchant dardait ses rayons suprêmes\n",
        "Et le vent berçait les nénuphars blêmes;\n",
        "Les garnds nénuphars entre les roseaux\n",
        "Tristement luisaient sur les calmes eaux.''')\n",
        "\n",
        "lang_verlaine_langid = langid.classify(text_verlaine)\n",
        "lang_verlaine_langdetect = detect_langs(text_verlaine)\n",
        "print(lang_verlaine_langid)\n",
        "print(lang_verlaine_langdetect)"
      ],
      "metadata": {
        "colab": {
          "base_uri": "https://localhost:8080/"
        },
        "id": "HvJRS4o2lA8O",
        "outputId": "5b4cb2b0-d8cc-4ab2-b3db-e43861b8e346"
      },
      "execution_count": 28,
      "outputs": [
        {
          "output_type": "stream",
          "name": "stdout",
          "text": [
            "('fr', -469.2340569496155)\n",
            "[fr:0.9999945988600338]\n"
          ]
        }
      ]
    },
    {
      "cell_type": "code",
      "source": [
        "text_tolstoi = ('''— Avant tout dites-moi, comment vous allez, chère amie? Успокойте меня, — сказал он, не изменяя голоса и тоном, в котором из-за приличия и участия просвечивало равнодушие и даже насмешка.\n",
        "— Как можно быть здоровой... когда нравственно страдаешь? Разве можно, имея чувство, оставаться спокойною в наше время? — сказала Анна Павловна. — Вы весь вечер у меня, надеюсь?\n",
        "— А праздник английского посланника? Нынче середа. Мне надо показаться там, — сказал князь. — Дочь заедет за мной и повезет меня.\n",
        "— Я думала, что нынешний праздник отменен, Je vous avoue que toutes ces fêtes et tous ces feux d'artifice commencent à devenir insipides.''')\n",
        "\n",
        "lang_tolstoi_langid = langid.classify(text_tolstoi)\n",
        "lang_tolstoi_langdetect = detect_langs(text_tolstoi)\n",
        "print(lang_tolstoi_langid)\n",
        "print(lang_tolstoi_langdetect)"
      ],
      "metadata": {
        "colab": {
          "base_uri": "https://localhost:8080/"
        },
        "id": "0ZihC20HlLwu",
        "outputId": "94f6012d-d215-40ca-8c2e-dcdbf51b4605"
      },
      "execution_count": 30,
      "outputs": [
        {
          "output_type": "stream",
          "name": "stdout",
          "text": [
            "('ru', -9242.510234594345)\n",
            "[ru:0.9999953187008824]\n"
          ]
        }
      ]
    },
    {
      "cell_type": "code",
      "source": [
        "text_wiki = ('Britisches Englisch (British English; kurz BE oder BrE) ist die Bezeichnung für die Varietät der englischen Sprache, wie sie auf den britischen Inseln gesprochen und unter der Bezeichnung British Standard English als Schriftsprache Verwendung findet.')\n",
        "\n",
        "lang_wiki_langid = langid.classify(text_wiki)\n",
        "lang_wiki_langdetect = detect_langs(text_wiki)\n",
        "print(lang_wiki_langid)\n",
        "print(lang_wiki_langdetect)"
      ],
      "metadata": {
        "colab": {
          "base_uri": "https://localhost:8080/"
        },
        "id": "RFnmEV3MnKt8",
        "outputId": "367f0e6a-7c45-4462-f6b4-86ab82413ba8"
      },
      "execution_count": 31,
      "outputs": [
        {
          "output_type": "stream",
          "name": "stdout",
          "text": [
            "('de', -879.8259754180908)\n",
            "[de:0.9999955032946238]\n"
          ]
        }
      ]
    },
    {
      "cell_type": "code",
      "source": [
        "text_bts = ('''첫눈에 널 알아보게 됐어\n",
        "서롤 불러왔던 것처럼\n",
        "내 혈관 속 DNA 가 말해줘\n",
        "내가 찾아 헤매던 너라는 걸\n",
        "우리 만남은 수학의 공식\n",
        "종교의 율법 우주의 섭리\n",
        "내게 주어진 운명의 증거\n",
        "너는 내 꿈의 출처\n",
        "Take it take it\n",
        "너에게 내민 내 손은 정해진 숙명''')\n",
        "\n",
        "lang_bts_langid = langid.classify(text_bts)\n",
        "lang_bts_langdetect = detect_langs(text_bts)\n",
        "print(lang_bts_langid)\n",
        "print(lang_bts_langdetect)"
      ],
      "metadata": {
        "colab": {
          "base_uri": "https://localhost:8080/"
        },
        "id": "LIpa_7c6nNOG",
        "outputId": "9119b88e-69c9-41a3-9683-6fff1cdc5590"
      },
      "execution_count": 33,
      "outputs": [
        {
          "output_type": "stream",
          "name": "stdout",
          "text": [
            "('ko', -1772.9961326122284)\n",
            "[ko:0.9999981446257344]\n"
          ]
        }
      ]
    }
  ]
}