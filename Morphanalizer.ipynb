{
 "cells": [
  {
   "cell_type": "markdown",
   "metadata": {},
   "source": [
    "Установка Библиотек"
   ]
  },
  {
   "cell_type": "code",
   "execution_count": null,
   "metadata": {},
   "outputs": [],
   "source": [
    "pip install ufal.udpipe"
   ]
  },
  {
   "cell_type": "code",
   "execution_count": null,
   "metadata": {},
   "outputs": [],
   "source": [
    "pip install pymorphy2"
   ]
  },
  {
   "cell_type": "code",
   "execution_count": null,
   "metadata": {},
   "outputs": [],
   "source": [
    "pip install -U spacy"
   ]
  },
  {
   "cell_type": "markdown",
   "metadata": {},
   "source": [
    "Морфологический анализ Pymorphy2 (Брюсов)"
   ]
  },
  {
   "cell_type": "code",
   "execution_count": 19,
   "metadata": {},
   "outputs": [],
   "source": [
    "import pymorphy3"
   ]
  },
  {
   "cell_type": "code",
   "execution_count": 20,
   "metadata": {},
   "outputs": [],
   "source": [
    "with open('brusov.txt','r') as f:\n",
    "    poem = f.read()\n"
   ]
  },
  {
   "cell_type": "code",
   "execution_count": 24,
   "metadata": {},
   "outputs": [
    {
     "ename": "NameError",
     "evalue": "name 'MorphAnalyzer' is not defined",
     "output_type": "error",
     "traceback": [
      "\u001b[1;31m---------------------------------------------------------------------------\u001b[0m",
      "\u001b[1;31mNameError\u001b[0m                                 Traceback (most recent call last)",
      "Cell \u001b[1;32mIn[24], line 2\u001b[0m\n\u001b[0;32m      1\u001b[0m \u001b[38;5;28;01mfrom\u001b[39;00m \u001b[38;5;21;01mpymorphy3\u001b[39;00m\u001b[38;5;21;01m.\u001b[39;00m\u001b[38;5;21;01mtokenizers\u001b[39;00m \u001b[38;5;28;01mimport\u001b[39;00m simple_word_tokenize\n\u001b[1;32m----> 2\u001b[0m morph \u001b[38;5;241m=\u001b[39m \u001b[43mMorphAnalyzer\u001b[49m()\n\u001b[0;32m      6\u001b[0m brusov_pymorphy[:\u001b[38;5;241m10\u001b[39m]\n",
      "\u001b[1;31mNameError\u001b[0m: name 'MorphAnalyzer' is not defined"
     ]
    }
   ],
   "source": [
    "\n",
    "from pymorphy3.tokenizers import simple_word_tokenize\n",
    "morph = MorphAnalyzer()\n",
    "\n",
    "\n",
    "\n",
    "brusov_pymorphy[:10]"
   ]
  },
  {
   "cell_type": "code",
   "execution_count": null,
   "metadata": {},
   "outputs": [],
   "source": [
    "tokenized_poem = simple_word_tokenize(poem.lower())\n",
    "brusov_pymorphy = []\n",
    "for token in tokenized_poem:\n",
    "    parsed_token = morph.parse(token)\n",
    "    brusov_pymorphy.append((parsed_token[0].word, parsed_token[0].tag._str))"
   ]
  },
  {
   "cell_type": "markdown",
   "metadata": {},
   "source": [
    "Морфологичексий анализ Spacy (Брюсов)"
   ]
  },
  {
   "cell_type": "code",
   "execution_count": 11,
   "metadata": {},
   "outputs": [],
   "source": [
    "with open('brusov.txt','r') as f:\n",
    "    poem = f.read()"
   ]
  },
  {
   "cell_type": "code",
   "execution_count": 12,
   "metadata": {},
   "outputs": [
    {
     "name": "stderr",
     "output_type": "stream",
     "text": [
      "[nltk_data] Downloading package punkt to\n",
      "[nltk_data]     C:\\Users\\alena\\AppData\\Roaming\\nltk_data...\n",
      "[nltk_data]   Package punkt is already up-to-date!\n"
     ]
    },
    {
     "data": {
      "text/plain": [
       "True"
      ]
     },
     "execution_count": 12,
     "metadata": {},
     "output_type": "execute_result"
    }
   ],
   "source": [
    "import nltk\n",
    "nltk.download('punkt')"
   ]
  },
  {
   "cell_type": "code",
   "execution_count": 13,
   "metadata": {},
   "outputs": [],
   "source": [
    "tokenized_nltk = nltk.word_tokenize(poem.lower())"
   ]
  },
  {
   "cell_type": "code",
   "execution_count": 14,
   "metadata": {},
   "outputs": [],
   "source": [
    "import spacy"
   ]
  },
  {
   "cell_type": "code",
   "execution_count": 16,
   "metadata": {},
   "outputs": [
    {
     "name": "stdout",
     "output_type": "stream",
     "text": [
      "Defaulting to user installation because normal site-packages is not writeable\n",
      "Collecting ru-core-news-sm==3.8.0\n",
      "  Downloading https://github.com/explosion/spacy-models/releases/download/ru_core_news_sm-3.8.0/ru_core_news_sm-3.8.0-py3-none-any.whl (15.3 MB)\n",
      "     ---------------------------------------- 0.0/15.3 MB ? eta -:--:--\n",
      "     ---------------------------------------- 0.0/15.3 MB ? eta -:--:--\n",
      "     ---------------------------------------- 0.0/15.3 MB ? eta -:--:--\n",
      "      --------------------------------------- 0.3/15.3 MB ? eta -:--:--\n",
      "      --------------------------------------- 0.3/15.3 MB ? eta -:--:--\n",
      "     - ------------------------------------- 0.5/15.3 MB 492.8 kB/s eta 0:00:30\n",
      "     - ------------------------------------- 0.5/15.3 MB 492.8 kB/s eta 0:00:30\n",
      "     - ------------------------------------- 0.5/15.3 MB 492.8 kB/s eta 0:00:30\n",
      "     -- ------------------------------------ 1.0/15.3 MB 699.0 kB/s eta 0:00:21\n",
      "     --- ----------------------------------- 1.3/15.3 MB 808.5 kB/s eta 0:00:18\n",
      "     ---- ---------------------------------- 1.6/15.3 MB 901.5 kB/s eta 0:00:16\n",
      "     ----- ---------------------------------- 2.1/15.3 MB 1.0 MB/s eta 0:00:13\n",
      "     ------ --------------------------------- 2.4/15.3 MB 1.1 MB/s eta 0:00:12\n",
      "     ------- -------------------------------- 2.9/15.3 MB 1.2 MB/s eta 0:00:11\n",
      "     -------- ------------------------------- 3.4/15.3 MB 1.3 MB/s eta 0:00:10\n",
      "     --------- ------------------------------ 3.7/15.3 MB 1.3 MB/s eta 0:00:09\n",
      "     ---------- ----------------------------- 4.2/15.3 MB 1.4 MB/s eta 0:00:09\n",
      "     ------------ --------------------------- 4.7/15.3 MB 1.4 MB/s eta 0:00:08\n",
      "     ------------- -------------------------- 5.0/15.3 MB 1.5 MB/s eta 0:00:08\n",
      "     -------------- ------------------------- 5.5/15.3 MB 1.5 MB/s eta 0:00:07\n",
      "     --------------- ------------------------ 6.0/15.3 MB 1.6 MB/s eta 0:00:06\n",
      "     ----------------- ---------------------- 6.6/15.3 MB 1.6 MB/s eta 0:00:06\n",
      "     ------------------ --------------------- 7.1/15.3 MB 1.7 MB/s eta 0:00:05\n",
      "     ------------------- -------------------- 7.6/15.3 MB 1.7 MB/s eta 0:00:05\n",
      "     --------------------- ------------------ 8.4/15.3 MB 1.8 MB/s eta 0:00:04\n",
      "     ----------------------- ---------------- 8.9/15.3 MB 1.8 MB/s eta 0:00:04\n",
      "     ------------------------ --------------- 9.4/15.3 MB 1.8 MB/s eta 0:00:04\n",
      "     -------------------------- ------------- 10.0/15.3 MB 1.9 MB/s eta 0:00:03\n",
      "     ---------------------------- ----------- 10.7/15.3 MB 1.9 MB/s eta 0:00:03\n",
      "     ----------------------------- ---------- 11.3/15.3 MB 1.9 MB/s eta 0:00:03\n",
      "     ------------------------------ --------- 11.8/15.3 MB 2.0 MB/s eta 0:00:02\n",
      "     -------------------------------- ------- 12.6/15.3 MB 2.0 MB/s eta 0:00:02\n",
      "     ---------------------------------- ----- 13.1/15.3 MB 2.0 MB/s eta 0:00:02\n",
      "     ------------------------------------ --- 13.9/15.3 MB 2.1 MB/s eta 0:00:01\n",
      "     -------------------------------------- - 14.7/15.3 MB 2.1 MB/s eta 0:00:01\n",
      "     ---------------------------------------  15.2/15.3 MB 2.2 MB/s eta 0:00:01\n",
      "     ---------------------------------------- 15.3/15.3 MB 2.1 MB/s eta 0:00:00\n",
      "Collecting pymorphy3>=1.0.0 (from ru-core-news-sm==3.8.0)\n",
      "  Using cached pymorphy3-2.0.2-py3-none-any.whl.metadata (1.8 kB)\n",
      "Requirement already satisfied: dawg-python>=0.7.1 in c:\\users\\alena\\appdata\\roaming\\python\\python310\\site-packages (from pymorphy3>=1.0.0->ru-core-news-sm==3.8.0) (0.7.2)\n",
      "Requirement already satisfied: pymorphy3-dicts-ru in c:\\users\\alena\\appdata\\roaming\\python\\python310\\site-packages (from pymorphy3>=1.0.0->ru-core-news-sm==3.8.0) (2.4.417150.4580142)\n",
      "Using cached pymorphy3-2.0.2-py3-none-any.whl (53 kB)\n",
      "Installing collected packages: pymorphy3, ru-core-news-sm\n",
      "  Attempting uninstall: ru-core-news-sm\n",
      "    Found existing installation: ru-core-news-sm 3.7.0\n",
      "    Uninstalling ru-core-news-sm-3.7.0:\n",
      "      Successfully uninstalled ru-core-news-sm-3.7.0\n",
      "Successfully installed pymorphy3-2.0.2 ru-core-news-sm-3.8.0\n",
      "\u001b[38;5;2m✔ Download and installation successful\u001b[0m\n",
      "You can now load the package via spacy.load('ru_core_news_sm')\n"
     ]
    }
   ],
   "source": [
    "! python -m spacy download ru_core_news_sm"
   ]
  },
  {
   "cell_type": "code",
   "execution_count": 26,
   "metadata": {},
   "outputs": [],
   "source": [
    "nlp = spacy.load('ru_core_news_sm')"
   ]
  },
  {
   "cell_type": "code",
   "execution_count": 28,
   "metadata": {},
   "outputs": [
    {
     "name": "stdout",
     "output_type": "stream",
     "text": [
      "в ADV \n",
      ". PUNCT \n",
      "я PRON Case=Nom|Number=Sing|Person=First\n",
      ". PUNCT \n",
      "брюсов NOUN Animacy=Inan|Case=Gen|Gender=Masc|Number=Plur\n",
      "\n",
      "\n",
      " SPACE \n",
      "на ADP \n",
      "пруду NOUN Animacy=Inan|Case=Loc|Gender=Masc|Number=Sing\n",
      "\n",
      " SPACE \n",
      "ты PRON Case=Nom|Number=Sing|Person=Second\n",
      "белых ADJ Case=Gen|Degree=Pos|Number=Plur\n",
      "лебедей NOUN Animacy=Anim|Case=Acc|Gender=Masc|Number=Plur\n",
      "кормила VERB Aspect=Imp|Gender=Fem|Mood=Ind|Number=Sing|Tense=Past|VerbForm=Fin|Voice=Act\n",
      ", PUNCT \n",
      "\n",
      " SPACE \n",
      "откинув VERB Aspect=Perf|Tense=Past|VerbForm=Conv|Voice=Act\n",
      "тяжесть NOUN Animacy=Inan|Case=Acc|Gender=Fem|Number=Sing\n",
      "черных ADJ Case=Gen|Degree=Pos|Number=Plur\n",
      "кос NOUN Animacy=Inan|Case=Gen|Gender=Fem|Number=Plur\n",
      "… PUNCT \n",
      "\n",
      " SPACE \n",
      "я PRON Case=Nom|Number=Sing|Person=First\n",
      "рядом ADV Degree=Pos\n",
      "плыл VERB Aspect=Imp|Gender=Masc|Mood=Ind|Number=Sing|Tense=Past|VerbForm=Fin|Voice=Act\n",
      "; PUNCT \n",
      "сошлись VERB Aspect=Perf|Mood=Ind|Number=Plur|Tense=Past|VerbForm=Fin|Voice=Mid\n",
      "кормила VERB Aspect=Imp|Gender=Fem|Mood=Ind|Number=Sing|Tense=Past|VerbForm=Fin|Voice=Act\n",
      "; PUNCT \n",
      "\n",
      " SPACE \n",
      "закатный ADJ Case=Nom|Degree=Pos|Gender=Masc|Number=Sing\n",
      "луч NOUN Animacy=Inan|Case=Nom|Gender=Masc|Number=Sing\n",
      "был AUX Aspect=Imp|Gender=Masc|Mood=Ind|Number=Sing|Tense=Past|VerbForm=Fin|Voice=Act\n",
      "странно ADJ Degree=Pos\n",
      "- ADJ Degree=Pos\n",
      "кос NOUN Animacy=Inan|Case=Nom|Gender=Masc|Number=Sing\n",
      ". PUNCT \n",
      "\n",
      " SPACE \n",
      "по ADP \n",
      "небу NOUN Animacy=Inan|Case=Dat|Gender=Neut|Number=Sing\n",
      "полосы NOUN Animacy=Inan|Case=Gen|Gender=Fem|Number=Sing\n",
      "синели VERB Aspect=Perf|Mood=Ind|Number=Plur|Tense=Past|VerbForm=Fin|Voice=Act\n",
      ", PUNCT \n",
      "\n",
      " SPACE \n",
      "вечеровой ADJ Case=Nom|Degree=Pos|Gender=Masc|Number=Sing\n",
      "багрец NOUN Animacy=Anim|Case=Nom|Gender=Masc|Number=Sing\n",
      "кроя NOUN Animacy=Inan|Case=Gen|Gender=Masc|Number=Sing\n",
      "; PUNCT \n",
      "\n",
      " SPACE \n",
      "в ADP \n",
      "цветах NOUN Animacy=Inan|Case=Loc|Gender=Masc|Number=Plur\n",
      "черемух NOUN Animacy=Inan|Case=Dat|Gender=Fem|Number=Plur\n",
      "и CCONJ \n",
      "синели VERB Aspect=Perf|Mood=Ind|Number=Plur|Tense=Past|VerbForm=Fin|Voice=Act\n",
      "\n",
      " SPACE \n",
      "скрывались VERB Aspect=Imp|Mood=Ind|Number=Plur|Tense=Past|VerbForm=Fin|Voice=Mid\n",
      "водные ADJ Case=Nom|Degree=Pos|Number=Plur\n",
      "края NOUN Animacy=Inan|Case=Nom|Gender=Masc|Number=Plur\n",
      ". PUNCT \n",
      "\n",
      " SPACE \n",
      "все DET Case=Nom|Number=Plur\n",
      "формы NOUN Animacy=Inan|Case=Nom|Gender=Fem|Number=Plur\n",
      "были AUX Aspect=Imp|Mood=Ind|Number=Plur|Tense=Past|VerbForm=Fin|Voice=Act\n",
      "строго ADV Degree=Pos\n",
      "- ADV Degree=Pos\n",
      "четки NOUN Animacy=Anim|Case=Gen|Gender=Fem|Number=Sing\n",
      ", PUNCT \n",
      "\n",
      " SPACE \n",
      "миг NOUN Animacy=Inan|Case=Nom|Gender=Masc|Number=Sing\n",
      "ранил VERB Aspect=Perf|Gender=Masc|Mood=Ind|Number=Sing|Tense=Past|VerbForm=Fin|Voice=Act\n",
      "сердце NOUN Animacy=Inan|Case=Acc|Gender=Neut|Number=Sing\n",
      "сотней NOUN Animacy=Inan|Case=Ins|Gender=Fem|Number=Sing\n",
      "жал VERB Aspect=Imp|Gender=Masc|Mood=Ind|Number=Sing|Tense=Past|VerbForm=Fin|Voice=Act\n",
      "… PUNCT \n",
      "\n",
      " SPACE \n",
      "я PRON Case=Nom|Number=Sing|Person=First\n",
      ", PUNCT \n",
      "как SCONJ \n",
      "аскет NOUN Animacy=Inan|Case=Nom|Gender=Masc|Number=Sing\n",
      "сжимает VERB Aspect=Imp|Mood=Ind|Number=Sing|Person=Third|Tense=Pres|VerbForm=Fin|Voice=Act\n",
      "четки NOUN Animacy=Inan|Case=Acc|Gender=Fem|Number=Plur\n",
      ", PUNCT \n",
      "\n",
      " SPACE \n",
      "в ADP \n",
      "руке NOUN Animacy=Inan|Case=Loc|Gender=Fem|Number=Sing\n",
      "весло VERB Aspect=Perf|Gender=Neut|Mood=Ind|Number=Sing|Tense=Past|VerbForm=Fin|Voice=Act\n",
      "невольно ADV Degree=Pos\n",
      "жал VERB Aspect=Imp|Gender=Masc|Mood=Ind|Number=Sing|Tense=Past|VerbForm=Fin|Voice=Act\n",
      ". PUNCT \n",
      "\n",
      " SPACE \n",
      "вдруг ADV Degree=Pos\n",
      "лебедей PROPN Animacy=Anim|Case=Nom|Gender=Fem|Number=Sing\n",
      "метнулась VERB Aspect=Perf|Gender=Fem|Mood=Ind|Number=Sing|Tense=Past|VerbForm=Fin|Voice=Mid\n",
      "пара NOUN Animacy=Inan|Case=Nom|Gender=Fem|Number=Sing\n",
      "… PUNCT \n",
      "\n",
      " SPACE \n",
      "не PART Polarity=Neg\n",
      "знаю VERB Aspect=Imp|Mood=Ind|Number=Sing|Person=First|Tense=Pres|VerbForm=Fin|Voice=Act\n",
      ", PUNCT \n",
      "чья DET Case=Nom|Gender=Fem|Number=Sing\n",
      "была AUX Aspect=Imp|Gender=Fem|Mood=Ind|Number=Sing|Tense=Past|VerbForm=Fin|Voice=Act\n",
      "вина NOUN Animacy=Inan|Case=Nom|Gender=Fem|Number=Sing\n",
      "… PUNCT \n",
      "\n",
      " SPACE \n",
      "закат NOUN Animacy=Inan|Case=Nom|Gender=Masc|Number=Sing\n",
      "замлел VERB Aspect=Perf|Gender=Masc|Mood=Ind|Number=Sing|Tense=Past|VerbForm=Fin|Voice=Act\n",
      "за ADP \n",
      "дымкой NOUN Animacy=Anim|Case=Ins|Gender=Fem|Number=Sing\n",
      "пара NOUN Animacy=Inan|Case=Gen|Gender=Masc|Number=Sing\n",
      ", PUNCT \n",
      "\n",
      " SPACE \n",
      "алея NOUN Animacy=Inan|Case=Gen|Gender=Masc|Number=Sing\n",
      ", PUNCT \n",
      "как SCONJ \n",
      "поток NOUN Animacy=Inan|Case=Nom|Gender=Masc|Number=Sing\n",
      "вина NOUN Animacy=Inan|Case=Gen|Gender=Neut|Number=Sing\n",
      ". PUNCT \n",
      "\n",
      " SPACE \n",
      "была AUX Aspect=Imp|Gender=Fem|Mood=Ind|Number=Sing|Tense=Past|VerbForm=Fin|Voice=Act\n",
      "то PRON Animacy=Inan|Case=Nom|Gender=Neut|Number=Sing\n",
      "правда NOUN Animacy=Inan|Case=Nom|Gender=Fem|Number=Sing\n",
      "ли PART \n",
      ", PUNCT \n",
      "мечта NOUN Animacy=Inan|Case=Nom|Gender=Fem|Number=Sing\n",
      "ли PART \n",
      ", PUNCT \n",
      "— PUNCT \n",
      "\n",
      " SPACE \n",
      "уста NOUN Animacy=Inan|Case=Nom|Gender=Fem|Number=Sing\n",
      "двоих NUM Case=Gen\n",
      "слились VERB Aspect=Perf|Mood=Ind|Number=Plur|Tense=Past|VerbForm=Fin|Voice=Mid\n",
      "в ADP \n",
      "одно NUM Case=Acc|Gender=Neut|Number=Sing\n",
      ". PUNCT \n",
      "\n",
      " SPACE \n",
      "две NUM Case=Nom|Gender=Fem\n",
      "лодки NOUN Animacy=Inan|Case=Gen|Gender=Fem|Number=Sing\n",
      ", PUNCT \n",
      "как SCONJ \n",
      "и PART \n",
      "мы PRON Case=Nom|Number=Plur|Person=First\n",
      ", PUNCT \n",
      "мечтали VERB Aspect=Imp|Mood=Ind|Number=Plur|Tense=Past|VerbForm=Fin|Voice=Act\n",
      ", PUNCT \n",
      "\n",
      " SPACE \n",
      "как ADV Degree=Pos\n",
      "будто PART \n",
      "вонзены VERB Aspect=Perf|Number=Plur|StyleVariant=Short|Tense=Past|VerbForm=Part|Voice=Pass\n",
      "во ADP \n",
      "дно NOUN Animacy=Inan|Case=Acc|Gender=Neut|Number=Sing\n",
      ". PUNCT \n",
      "\n",
      " SPACE \n",
      "я PRON Case=Nom|Number=Sing|Person=First\n",
      "свято ADV Degree=Pos\n",
      "помню VERB Aspect=Imp|Mood=Ind|Number=Sing|Person=First|Tense=Pres|VerbForm=Fin|Voice=Act\n",
      "эту DET Case=Acc|Gender=Fem|Number=Sing\n",
      "встречу NOUN Animacy=Inan|Case=Acc|Gender=Fem|Number=Sing\n",
      ": PUNCT \n",
      "\n",
      " SPACE \n",
      "пруд NOUN Animacy=Inan|Case=Nom|Gender=Masc|Number=Sing\n",
      ", PUNCT \n",
      "берег NOUN Animacy=Inan|Case=Nom|Gender=Masc|Number=Sing\n",
      ", PUNCT \n",
      "неба NOUN Animacy=Inan|Case=Gen|Gender=Neut|Number=Sing\n",
      "яркий ADJ Animacy=Inan|Case=Acc|Degree=Pos|Gender=Masc|Number=Sing\n",
      "плат NOUN Animacy=Inan|Case=Acc|Gender=Masc|Number=Sing\n",
      "… PUNCT \n",
      "\n",
      " SPACE \n",
      "миг NOUN Animacy=Inan|Case=Nom|Gender=Masc|Number=Sing\n",
      "тот DET Case=Nom|Gender=Masc|Number=Sing\n",
      "же PART \n",
      "если SCONJ \n",
      "вновь ADV Degree=Pos\n",
      "я PRON Case=Nom|Number=Sing|Person=First\n",
      "встречу VERB Aspect=Perf|Mood=Ind|Number=Sing|Person=First|Tense=Fut|VerbForm=Fin|Voice=Act\n",
      ", PUNCT \n",
      "— PUNCT \n",
      "\n",
      " SPACE \n",
      "и CCONJ \n",
      "жизнь NOUN Animacy=Inan|Case=Nom|Gender=Fem|Number=Sing\n",
      "ничтожная ADJ Case=Nom|Degree=Pos|Gender=Fem|Number=Sing\n",
      "из ADP \n",
      "плат NOUN Animacy=Inan|Case=Gen|Gender=Fem|Number=Plur\n",
      "! PUNCT \n",
      "\n",
      " SPACE \n",
      "12 ADJ \n",
      "декабря NOUN Animacy=Inan|Case=Gen|Gender=Masc|Number=Sing\n",
      "1914 ADJ \n",
      "\n",
      " SPACE \n"
     ]
    }
   ],
   "source": [
    "doc = nlp(poem.lower())\n",
    "brusov_spacy = []\n",
    "for token in doc:\n",
    "    print(token.text, token.pos_, token.morph)\n",
    "    brusov_spacy.append((token.text, token.pos_, token.morph))"
   ]
  },
  {
   "cell_type": "code",
   "execution_count": 30,
   "metadata": {},
   "outputs": [
    {
     "ename": "ModuleNotFoundError",
     "evalue": "No module named 'pandas'",
     "output_type": "error",
     "traceback": [
      "\u001b[1;31m---------------------------------------------------------------------------\u001b[0m",
      "\u001b[1;31mModuleNotFoundError\u001b[0m                       Traceback (most recent call last)",
      "Cell \u001b[1;32mIn[30], line 1\u001b[0m\n\u001b[1;32m----> 1\u001b[0m \u001b[38;5;28;01mimport\u001b[39;00m \u001b[38;5;21;01mpandas\u001b[39;00m \u001b[38;5;28;01mas\u001b[39;00m \u001b[38;5;21;01mpd\u001b[39;00m\n",
      "\u001b[1;31mModuleNotFoundError\u001b[0m: No module named 'pandas'"
     ]
    }
   ],
   "source": [
    "import pandas as pd"
   ]
  },
  {
   "cell_type": "code",
   "execution_count": 29,
   "metadata": {},
   "outputs": [
    {
     "ename": "NameError",
     "evalue": "name 'pd' is not defined",
     "output_type": "error",
     "traceback": [
      "\u001b[1;31m---------------------------------------------------------------------------\u001b[0m",
      "\u001b[1;31mNameError\u001b[0m                                 Traceback (most recent call last)",
      "Cell \u001b[1;32mIn[29], line 1\u001b[0m\n\u001b[1;32m----> 1\u001b[0m df \u001b[38;5;241m=\u001b[39m \u001b[43mpd\u001b[49m\u001b[38;5;241m.\u001b[39mDataFrame(brusov_spacy, columns\u001b[38;5;241m=\u001b[39m[\u001b[38;5;124m'\u001b[39m\u001b[38;5;124mtoken\u001b[39m\u001b[38;5;124m'\u001b[39m, \u001b[38;5;124m'\u001b[39m\u001b[38;5;124mpos\u001b[39m\u001b[38;5;124m'\u001b[39m,  \u001b[38;5;124m'\u001b[39m\u001b[38;5;124mtag\u001b[39m\u001b[38;5;124m'\u001b[39m])\n\u001b[0;32m      2\u001b[0m df\u001b[38;5;241m.\u001b[39mto_excel(\u001b[38;5;124m'\u001b[39m\u001b[38;5;124mbrusov_spacy.xlsx\u001b[39m\u001b[38;5;124m'\u001b[39m, index\u001b[38;5;241m=\u001b[39m\u001b[38;5;28;01mFalse\u001b[39;00m)\n",
      "\u001b[1;31mNameError\u001b[0m: name 'pd' is not defined"
     ]
    }
   ],
   "source": [
    "df = pd.DataFrame(brusov_spacy, columns=['token', 'pos',  'tag'])\n",
    "df.to_excel('brusov_spacy.xlsx', index=False)"
   ]
  }
 ],
 "metadata": {
  "kernelspec": {
   "display_name": "Python 3",
   "language": "python",
   "name": "python3"
  },
  "language_info": {
   "codemirror_mode": {
    "name": "ipython",
    "version": 3
   },
   "file_extension": ".py",
   "mimetype": "text/x-python",
   "name": "python",
   "nbconvert_exporter": "python",
   "pygments_lexer": "ipython3",
   "version": "3.10.5"
  }
 },
 "nbformat": 4,
 "nbformat_minor": 2
}
