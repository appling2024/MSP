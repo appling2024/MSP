{
  "cells": [
    {
      "cell_type": "code",
      "source": [
        "# Стемминг https://www.nltk.org/howto/stem.html"
      ],
      "metadata": {
        "id": "e9wIQLZlpoA_"
      },
      "execution_count": 1,
      "outputs": []
    },
    {
      "cell_type": "code",
      "source": [
        "from nltk.stem import PorterStemmer, SnowballStemmer, RegexpStemmer\n",
        "porter = PorterStemmer()\n",
        "snowball = SnowballStemmer(language='arabic')\n",
        "regexp = RegexpStemmer('ان|$ون$', min=2)\n",
        "words = ['يرقصان','يفعلان','يهنئون','يكتبان','يسمعون' , \"يتبعان\" , \"يركبان\" , \"يسعان\" , \"يصورون\" , \"يساعدان\" , \"يمتحنان\" , \"يريدون\" ]\n",
        "print(\"{0:20}{1:20}{2:20}{3:30}\".format(\"Word\",\"Porter Stemmer\",\"Snowball Stemmer\",\"Lancaster Stemmer\",'Regexp Stemmer'))\n",
        "for word in words:\n",
        "    print(\"{0:20}{1:20}{2:20}{3:30}\".format(word,porter.stem(word),snowball.stem(word),regexp.stem(word)))"
      ],
      "metadata": {
        "colab": {
          "base_uri": "https://localhost:8080/"
        },
        "id": "Av6gGRJ0urOE",
        "outputId": "2ca82532-c5e0-4f77-bd4e-90d83f484aa2"
      },
      "execution_count": 19,
      "outputs": [
        {
          "output_type": "stream",
          "name": "stdout",
          "text": [
            "Word                Porter Stemmer      Snowball Stemmer    Lancaster Stemmer             \n",
            "يرقصان              يرقصان              يرقص                يرقص                          \n",
            "يفعلان              يفعلان              يفعل                يفعل                          \n",
            "يهنئون              يهنئون              يهنء                يهنئون                        \n",
            "يكتبان              يكتبان              يكتب                يكتب                          \n",
            "يسمعون              يسمعون              يسمع                يسمعون                        \n",
            "يتبعان              يتبعان              يتبع                يتبع                          \n",
            "يركبان              يركبان              يركب                يركب                          \n",
            "يسعان               يسعان               يسعا                يسع                           \n",
            "يصورون              يصورون              يصور                يصورون                        \n",
            "يساعدان             يساعدان             يساعد               يساعد                         \n",
            "يمتحنان             يمتحنان             يمتح                يمتحن                         \n",
            "يريدون              يريدون              يريد                يريدون                        \n"
          ]
        }
      ]
    }
  ],
  "metadata": {
    "colab": {
      "name": "Welcome To Colab",
      "toc_visible": true,
      "provenance": []
    },
    "kernelspec": {
      "display_name": "Python 3",
      "name": "python3"
    }
  },
  "nbformat": 4,
  "nbformat_minor": 0
}