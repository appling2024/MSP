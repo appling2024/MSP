{
 "cells": [
  {
   "cell_type": "code",
   "execution_count": null,
   "id": "e5642af1-4812-4c46-9ab0-fc1bb96cc2ef",
   "metadata": {},
   "outputs": [],
   "source": [
    "with open('Text_HU.txt', 'r', encoding='utf-8') as f:\n",
    "    text = f.read()\n",
    "print(text)"
   ]
  },
  {
   "cell_type": "code",
   "execution_count": 9,
   "id": "e150401d",
   "metadata": {},
   "outputs": [
    {
     "name": "stdout",
     "output_type": "stream",
     "text": [
      "Defaulting to user installation because normal site-packages is not writeable\n",
      "Requirement already satisfied: langdetect in c:\\users\\asus\\appdata\\roaming\\python\\python310\\site-packages (1.0.9)\n",
      "Requirement already satisfied: six in c:\\users\\asus\\appdata\\roaming\\python\\python310\\site-packages (from langdetect) (1.16.0)\n",
      "Note: you may need to restart the kernel to use updated packages.\n"
     ]
    }
   ],
   "source": [
    "pip install langdetect"
   ]
  },
  {
   "cell_type": "code",
   "execution_count": 10,
   "id": "54becaeb",
   "metadata": {},
   "outputs": [],
   "source": [
    "from langdetect import detect"
   ]
  },
  {
   "cell_type": "code",
   "execution_count": 13,
   "id": "c1335b0f",
   "metadata": {},
   "outputs": [
    {
     "data": {
      "text/plain": [
       "'hu'"
      ]
     },
     "execution_count": 13,
     "metadata": {},
     "output_type": "execute_result"
    }
   ],
   "source": [
    "detect(text)"
   ]
  },
  {
   "cell_type": "code",
   "execution_count": null,
   "id": "05683f26",
   "metadata": {},
   "outputs": [],
   "source": [
    "with open('Text_RU.txt', 'r', encoding='utf-8') as f:\n",
    "    text_ru = f.read()\n",
    "print(text_ru)"
   ]
  },
  {
   "cell_type": "code",
   "execution_count": 20,
   "id": "d24c2c09",
   "metadata": {},
   "outputs": [
    {
     "data": {
      "text/plain": [
       "'ru'"
      ]
     },
     "execution_count": 20,
     "metadata": {},
     "output_type": "execute_result"
    }
   ],
   "source": [
    "detect (text_ru)"
   ]
  },
  {
   "cell_type": "code",
   "execution_count": null,
   "id": "418851f9",
   "metadata": {},
   "outputs": [],
   "source": [
    "with open('Text_FR.txt', 'r', encoding='utf-8') as g:\n",
    "    text_fr = g.read()\n",
    "print(text_fr)"
   ]
  },
  {
   "cell_type": "code",
   "execution_count": 22,
   "id": "caded91d",
   "metadata": {},
   "outputs": [
    {
     "data": {
      "text/plain": [
       "'fr'"
      ]
     },
     "execution_count": 22,
     "metadata": {},
     "output_type": "execute_result"
    }
   ],
   "source": [
    "detect (text_fr)"
   ]
  },
  {
   "cell_type": "code",
   "execution_count": null,
   "id": "96b595dd",
   "metadata": {},
   "outputs": [],
   "source": [
    "#Попробую, может ли он разные языки распозновать в том же самом тексте. Там 4 языки.\n",
    "with open('Text_mixed.txt', 'r', encoding = 'utf-8') as h:\n",
    "    text_mix = h.read()\n",
    "print(text_mix)"
   ]
  },
  {
   "cell_type": "code",
   "execution_count": 24,
   "id": "821b25dd",
   "metadata": {},
   "outputs": [
    {
     "data": {
      "text/plain": [
       "'fr'"
      ]
     },
     "execution_count": 24,
     "metadata": {},
     "output_type": "execute_result"
    }
   ],
   "source": [
    "detect(text_mix)\n",
    "#не удалось."
   ]
  },
  {
   "cell_type": "code",
   "execution_count": 5,
   "id": "adc29b63-21b6-4bad-9f8f-29b6f544b725",
   "metadata": {},
   "outputs": [
    {
     "name": "stdout",
     "output_type": "stream",
     "text": [
      "Defaulting to user installation because normal site-packages is not writeable\n",
      "Requirement already satisfied: langid in c:\\users\\asus\\appdata\\roaming\\python\\python310\\site-packages (1.1.6)\n",
      "Requirement already satisfied: numpy in c:\\users\\asus\\appdata\\roaming\\python\\python310\\site-packages (from langid) (1.26.4)\n",
      "Note: you may need to restart the kernel to use updated packages.\n"
     ]
    }
   ],
   "source": [
    "pip install langid\n",
    "#Я не поняла как использовать я langid"
   ]
  },
  {
   "cell_type": "code",
   "execution_count": null,
   "id": "ef21ac2b",
   "metadata": {},
   "outputs": [],
   "source": []
  },
  {
   "cell_type": "code",
   "execution_count": null,
   "id": "df77aecc",
   "metadata": {},
   "outputs": [],
   "source": []
  },
  {
   "cell_type": "code",
   "execution_count": null,
   "id": "47e3e01d",
   "metadata": {},
   "outputs": [],
   "source": []
  },
  {
   "cell_type": "code",
   "execution_count": null,
   "id": "5c27c67a",
   "metadata": {},
   "outputs": [],
   "source": []
  },
  {
   "cell_type": "code",
   "execution_count": null,
   "id": "24cdb001",
   "metadata": {},
   "outputs": [],
   "source": []
  },
  {
   "cell_type": "code",
   "execution_count": null,
   "id": "a8d4fd9c",
   "metadata": {},
   "outputs": [],
   "source": []
  },
  {
   "cell_type": "code",
   "execution_count": null,
   "id": "30dd9ff0-d6ef-437f-8ef9-9edb41243470",
   "metadata": {},
   "outputs": [],
   "source": [
    "pip install langdetect"
   ]
  },
  {
   "cell_type": "code",
   "execution_count": 10,
   "id": "805ff6c7-6732-4091-ac88-8ae46460a4c3",
   "metadata": {},
   "outputs": [
    {
     "data": {
      "text/plain": [
       "'hu'"
      ]
     },
     "execution_count": 10,
     "metadata": {},
     "output_type": "execute_result"
    }
   ],
   "source": [
    "from langdetect import detect\n",
    "detect(\"Egyszer volt, hol nem volt.\") \n",
    "'hu'"
   ]
  },
  {
   "cell_type": "code",
   "execution_count": 11,
   "id": "c2dff0c2-99d8-4407-b46e-e28dbcc71ccb",
   "metadata": {},
   "outputs": [
    {
     "data": {
      "text/plain": [
       "'hu'"
      ]
     },
     "execution_count": 11,
     "metadata": {},
     "output_type": "execute_result"
    }
   ],
   "source": [
    "detect(text)"
   ]
  },
  {
   "cell_type": "code",
   "execution_count": null,
   "id": "8db7652b-f018-45fb-9fb0-4e8caaa851ef",
   "metadata": {},
   "outputs": [],
   "source": [
    "with open('Text_FR.txt', 'r', encoding='utf-8') as f:\n",
    "    text = f.read()\n",
    "print(text)"
   ]
  },
  {
   "cell_type": "code",
   "execution_count": 13,
   "id": "ac84aedb-84f3-4e74-9bcd-d5feb5c761d0",
   "metadata": {},
   "outputs": [
    {
     "data": {
      "text/plain": [
       "'fr'"
      ]
     },
     "execution_count": 13,
     "metadata": {},
     "output_type": "execute_result"
    }
   ],
   "source": [
    "detect(text)"
   ]
  },
  {
   "cell_type": "code",
   "execution_count": 15,
   "id": "98446ce9-ee7e-441d-a33c-6f52d24319e0",
   "metadata": {},
   "outputs": [],
   "source": [
    "with open('Text_RU.txt', 'r', encoding='utf-8') as f:\n",
    "    text = f.read()"
   ]
  },
  {
   "cell_type": "code",
   "execution_count": 16,
   "id": "1052d7a2",
   "metadata": {},
   "outputs": [
    {
     "data": {
      "text/plain": [
       "'ru'"
      ]
     },
     "execution_count": 16,
     "metadata": {},
     "output_type": "execute_result"
    }
   ],
   "source": [
    "detect(text)"
   ]
  },
  {
   "cell_type": "code",
   "execution_count": 19,
   "id": "79c6940a",
   "metadata": {},
   "outputs": [],
   "source": [
    "with open('Text_mixed.txt', 'r', encoding='utf-8') as f:\n",
    "    text = f.read()"
   ]
  },
  {
   "cell_type": "code",
   "execution_count": 21,
   "id": "1600cfb2",
   "metadata": {},
   "outputs": [
    {
     "data": {
      "text/plain": [
       "'fr'"
      ]
     },
     "execution_count": 21,
     "metadata": {},
     "output_type": "execute_result"
    }
   ],
   "source": [
    "detect(text)"
   ]
  },
  {
   "cell_type": "code",
   "execution_count": 30,
   "id": "a704a1c6",
   "metadata": {},
   "outputs": [
    {
     "data": {
      "text/plain": [
       "'fr'"
      ]
     },
     "execution_count": 30,
     "metadata": {},
     "output_type": "execute_result"
    }
   ],
   "source": [
    "detect(\"War doesn't show who's right, just who's left.\")\n",
    "'en'\n",
    "detect(\"Je suis heureuse de vous vois\")\n",
    "\"fr\"\n",
    "detect(\"Amikor ősz volt, elmentem sétálni\")\n",
    "'hu'\n",
    "detect(\"На улице уже холодно.\")\n",
    "detect(text)"
   ]
  }
 ],
 "metadata": {
  "kernelspec": {
   "display_name": "Python 3 (ipykernel)",
   "language": "python",
   "name": "python3"
  },
  "language_info": {
   "codemirror_mode": {
    "name": "ipython",
    "version": 3
   },
   "file_extension": ".py",
   "mimetype": "text/x-python",
   "name": "python",
   "nbconvert_exporter": "python",
   "pygments_lexer": "ipython3",
   "version": "3.10.5"
  }
 },
 "nbformat": 4,
 "nbformat_minor": 5
}
