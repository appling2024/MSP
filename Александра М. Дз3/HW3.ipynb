{
  "nbformat": 4,
  "nbformat_minor": 0,
  "metadata": {
    "colab": {
      "provenance": []
    },
    "kernelspec": {
      "name": "python3",
      "display_name": "Python 3"
    },
    "language_info": {
      "name": "python"
    }
  },
  "cells": [
    {
      "cell_type": "markdown",
      "source": [
        "Работаем с файлом brusov.txt"
      ],
      "metadata": {
        "id": "R1QM0j1qaQ7d"
      }
    },
    {
      "cell_type": "code",
      "execution_count": 1,
      "metadata": {
        "id": "rE6DW9QsZl1X"
      },
      "outputs": [],
      "source": [
        "with open('brusov.txt', 'r', encoding='cp1251') as f:\n",
        "  my_file = f.read()"
      ]
    },
    {
      "cell_type": "code",
      "source": [
        "import pandas as pd"
      ],
      "metadata": {
        "id": "P6uzaP3XZul-"
      },
      "execution_count": 2,
      "outputs": []
    },
    {
      "cell_type": "markdown",
      "source": [
        "# **Spacy**"
      ],
      "metadata": {
        "id": "wd5IqRRMcCJ1"
      }
    },
    {
      "cell_type": "markdown",
      "source": [
        "Подразумеваем работу с языковыми моделями"
      ],
      "metadata": {
        "id": "Io5v2mkrcD6F"
      }
    },
    {
      "cell_type": "code",
      "source": [
        "! python -m spacy download 'ru_core_news_sm'"
      ],
      "metadata": {
        "colab": {
          "base_uri": "https://localhost:8080/"
        },
        "collapsed": true,
        "id": "gIjZWitucGaW",
        "outputId": "d609a4ed-4ef8-4bcf-c029-85bb323d06cb"
      },
      "execution_count": 3,
      "outputs": [
        {
          "output_type": "stream",
          "name": "stdout",
          "text": [
            "Collecting ru-core-news-sm==3.7.0\n",
            "  Downloading https://github.com/explosion/spacy-models/releases/download/ru_core_news_sm-3.7.0/ru_core_news_sm-3.7.0-py3-none-any.whl (15.3 MB)\n",
            "\u001b[2K     \u001b[90m━━━━━━━━━━━━━━━━━━━━━━━━━━━━━━━━━━━━━━━━\u001b[0m \u001b[32m15.3/15.3 MB\u001b[0m \u001b[31m43.2 MB/s\u001b[0m eta \u001b[36m0:00:00\u001b[0m\n",
            "\u001b[?25hRequirement already satisfied: spacy<3.8.0,>=3.7.0 in /usr/local/lib/python3.10/dist-packages (from ru-core-news-sm==3.7.0) (3.7.5)\n",
            "Requirement already satisfied: pymorphy3>=1.0.0 in /usr/local/lib/python3.10/dist-packages (from ru-core-news-sm==3.7.0) (2.0.2)\n",
            "Requirement already satisfied: dawg-python>=0.7.1 in /usr/local/lib/python3.10/dist-packages (from pymorphy3>=1.0.0->ru-core-news-sm==3.7.0) (0.7.2)\n",
            "Requirement already satisfied: pymorphy3-dicts-ru in /usr/local/lib/python3.10/dist-packages (from pymorphy3>=1.0.0->ru-core-news-sm==3.7.0) (2.4.417150.4580142)\n",
            "Requirement already satisfied: spacy-legacy<3.1.0,>=3.0.11 in /usr/local/lib/python3.10/dist-packages (from spacy<3.8.0,>=3.7.0->ru-core-news-sm==3.7.0) (3.0.12)\n",
            "Requirement already satisfied: spacy-loggers<2.0.0,>=1.0.0 in /usr/local/lib/python3.10/dist-packages (from spacy<3.8.0,>=3.7.0->ru-core-news-sm==3.7.0) (1.0.5)\n",
            "Requirement already satisfied: murmurhash<1.1.0,>=0.28.0 in /usr/local/lib/python3.10/dist-packages (from spacy<3.8.0,>=3.7.0->ru-core-news-sm==3.7.0) (1.0.10)\n",
            "Requirement already satisfied: cymem<2.1.0,>=2.0.2 in /usr/local/lib/python3.10/dist-packages (from spacy<3.8.0,>=3.7.0->ru-core-news-sm==3.7.0) (2.0.8)\n",
            "Requirement already satisfied: preshed<3.1.0,>=3.0.2 in /usr/local/lib/python3.10/dist-packages (from spacy<3.8.0,>=3.7.0->ru-core-news-sm==3.7.0) (3.0.9)\n",
            "Requirement already satisfied: thinc<8.3.0,>=8.2.2 in /usr/local/lib/python3.10/dist-packages (from spacy<3.8.0,>=3.7.0->ru-core-news-sm==3.7.0) (8.2.5)\n",
            "Requirement already satisfied: wasabi<1.2.0,>=0.9.1 in /usr/local/lib/python3.10/dist-packages (from spacy<3.8.0,>=3.7.0->ru-core-news-sm==3.7.0) (1.1.3)\n",
            "Requirement already satisfied: srsly<3.0.0,>=2.4.3 in /usr/local/lib/python3.10/dist-packages (from spacy<3.8.0,>=3.7.0->ru-core-news-sm==3.7.0) (2.4.8)\n",
            "Requirement already satisfied: catalogue<2.1.0,>=2.0.6 in /usr/local/lib/python3.10/dist-packages (from spacy<3.8.0,>=3.7.0->ru-core-news-sm==3.7.0) (2.0.10)\n",
            "Requirement already satisfied: weasel<0.5.0,>=0.1.0 in /usr/local/lib/python3.10/dist-packages (from spacy<3.8.0,>=3.7.0->ru-core-news-sm==3.7.0) (0.4.1)\n",
            "Requirement already satisfied: typer<1.0.0,>=0.3.0 in /usr/local/lib/python3.10/dist-packages (from spacy<3.8.0,>=3.7.0->ru-core-news-sm==3.7.0) (0.12.5)\n",
            "Requirement already satisfied: tqdm<5.0.0,>=4.38.0 in /usr/local/lib/python3.10/dist-packages (from spacy<3.8.0,>=3.7.0->ru-core-news-sm==3.7.0) (4.66.5)\n",
            "Requirement already satisfied: requests<3.0.0,>=2.13.0 in /usr/local/lib/python3.10/dist-packages (from spacy<3.8.0,>=3.7.0->ru-core-news-sm==3.7.0) (2.32.3)\n",
            "Requirement already satisfied: pydantic!=1.8,!=1.8.1,<3.0.0,>=1.7.4 in /usr/local/lib/python3.10/dist-packages (from spacy<3.8.0,>=3.7.0->ru-core-news-sm==3.7.0) (2.9.2)\n",
            "Requirement already satisfied: jinja2 in /usr/local/lib/python3.10/dist-packages (from spacy<3.8.0,>=3.7.0->ru-core-news-sm==3.7.0) (3.1.4)\n",
            "Requirement already satisfied: setuptools in /usr/local/lib/python3.10/dist-packages (from spacy<3.8.0,>=3.7.0->ru-core-news-sm==3.7.0) (71.0.4)\n",
            "Requirement already satisfied: packaging>=20.0 in /usr/local/lib/python3.10/dist-packages (from spacy<3.8.0,>=3.7.0->ru-core-news-sm==3.7.0) (24.1)\n",
            "Requirement already satisfied: langcodes<4.0.0,>=3.2.0 in /usr/local/lib/python3.10/dist-packages (from spacy<3.8.0,>=3.7.0->ru-core-news-sm==3.7.0) (3.4.1)\n",
            "Requirement already satisfied: numpy>=1.19.0 in /usr/local/lib/python3.10/dist-packages (from spacy<3.8.0,>=3.7.0->ru-core-news-sm==3.7.0) (1.26.4)\n",
            "Requirement already satisfied: language-data>=1.2 in /usr/local/lib/python3.10/dist-packages (from langcodes<4.0.0,>=3.2.0->spacy<3.8.0,>=3.7.0->ru-core-news-sm==3.7.0) (1.2.0)\n",
            "Requirement already satisfied: annotated-types>=0.6.0 in /usr/local/lib/python3.10/dist-packages (from pydantic!=1.8,!=1.8.1,<3.0.0,>=1.7.4->spacy<3.8.0,>=3.7.0->ru-core-news-sm==3.7.0) (0.7.0)\n",
            "Requirement already satisfied: pydantic-core==2.23.4 in /usr/local/lib/python3.10/dist-packages (from pydantic!=1.8,!=1.8.1,<3.0.0,>=1.7.4->spacy<3.8.0,>=3.7.0->ru-core-news-sm==3.7.0) (2.23.4)\n",
            "Requirement already satisfied: typing-extensions>=4.6.1 in /usr/local/lib/python3.10/dist-packages (from pydantic!=1.8,!=1.8.1,<3.0.0,>=1.7.4->spacy<3.8.0,>=3.7.0->ru-core-news-sm==3.7.0) (4.12.2)\n",
            "Requirement already satisfied: charset-normalizer<4,>=2 in /usr/local/lib/python3.10/dist-packages (from requests<3.0.0,>=2.13.0->spacy<3.8.0,>=3.7.0->ru-core-news-sm==3.7.0) (3.3.2)\n",
            "Requirement already satisfied: idna<4,>=2.5 in /usr/local/lib/python3.10/dist-packages (from requests<3.0.0,>=2.13.0->spacy<3.8.0,>=3.7.0->ru-core-news-sm==3.7.0) (3.10)\n",
            "Requirement already satisfied: urllib3<3,>=1.21.1 in /usr/local/lib/python3.10/dist-packages (from requests<3.0.0,>=2.13.0->spacy<3.8.0,>=3.7.0->ru-core-news-sm==3.7.0) (2.2.3)\n",
            "Requirement already satisfied: certifi>=2017.4.17 in /usr/local/lib/python3.10/dist-packages (from requests<3.0.0,>=2.13.0->spacy<3.8.0,>=3.7.0->ru-core-news-sm==3.7.0) (2024.8.30)\n",
            "Requirement already satisfied: blis<0.8.0,>=0.7.8 in /usr/local/lib/python3.10/dist-packages (from thinc<8.3.0,>=8.2.2->spacy<3.8.0,>=3.7.0->ru-core-news-sm==3.7.0) (0.7.11)\n",
            "Requirement already satisfied: confection<1.0.0,>=0.0.1 in /usr/local/lib/python3.10/dist-packages (from thinc<8.3.0,>=8.2.2->spacy<3.8.0,>=3.7.0->ru-core-news-sm==3.7.0) (0.1.5)\n",
            "Requirement already satisfied: click>=8.0.0 in /usr/local/lib/python3.10/dist-packages (from typer<1.0.0,>=0.3.0->spacy<3.8.0,>=3.7.0->ru-core-news-sm==3.7.0) (8.1.7)\n",
            "Requirement already satisfied: shellingham>=1.3.0 in /usr/local/lib/python3.10/dist-packages (from typer<1.0.0,>=0.3.0->spacy<3.8.0,>=3.7.0->ru-core-news-sm==3.7.0) (1.5.4)\n",
            "Requirement already satisfied: rich>=10.11.0 in /usr/local/lib/python3.10/dist-packages (from typer<1.0.0,>=0.3.0->spacy<3.8.0,>=3.7.0->ru-core-news-sm==3.7.0) (13.9.2)\n",
            "Requirement already satisfied: cloudpathlib<1.0.0,>=0.7.0 in /usr/local/lib/python3.10/dist-packages (from weasel<0.5.0,>=0.1.0->spacy<3.8.0,>=3.7.0->ru-core-news-sm==3.7.0) (0.19.0)\n",
            "Requirement already satisfied: smart-open<8.0.0,>=5.2.1 in /usr/local/lib/python3.10/dist-packages (from weasel<0.5.0,>=0.1.0->spacy<3.8.0,>=3.7.0->ru-core-news-sm==3.7.0) (7.0.5)\n",
            "Requirement already satisfied: MarkupSafe>=2.0 in /usr/local/lib/python3.10/dist-packages (from jinja2->spacy<3.8.0,>=3.7.0->ru-core-news-sm==3.7.0) (2.1.5)\n",
            "Requirement already satisfied: marisa-trie>=0.7.7 in /usr/local/lib/python3.10/dist-packages (from language-data>=1.2->langcodes<4.0.0,>=3.2.0->spacy<3.8.0,>=3.7.0->ru-core-news-sm==3.7.0) (1.2.0)\n",
            "Requirement already satisfied: markdown-it-py>=2.2.0 in /usr/local/lib/python3.10/dist-packages (from rich>=10.11.0->typer<1.0.0,>=0.3.0->spacy<3.8.0,>=3.7.0->ru-core-news-sm==3.7.0) (3.0.0)\n",
            "Requirement already satisfied: pygments<3.0.0,>=2.13.0 in /usr/local/lib/python3.10/dist-packages (from rich>=10.11.0->typer<1.0.0,>=0.3.0->spacy<3.8.0,>=3.7.0->ru-core-news-sm==3.7.0) (2.18.0)\n",
            "Requirement already satisfied: wrapt in /usr/local/lib/python3.10/dist-packages (from smart-open<8.0.0,>=5.2.1->weasel<0.5.0,>=0.1.0->spacy<3.8.0,>=3.7.0->ru-core-news-sm==3.7.0) (1.16.0)\n",
            "Requirement already satisfied: mdurl~=0.1 in /usr/local/lib/python3.10/dist-packages (from markdown-it-py>=2.2.0->rich>=10.11.0->typer<1.0.0,>=0.3.0->spacy<3.8.0,>=3.7.0->ru-core-news-sm==3.7.0) (0.1.2)\n",
            "\u001b[38;5;2m✔ Download and installation successful\u001b[0m\n",
            "You can now load the package via spacy.load('ru_core_news_sm')\n",
            "\u001b[38;5;3m⚠ Restart to reload dependencies\u001b[0m\n",
            "If you are in a Jupyter or Colab notebook, you may need to restart Python in\n",
            "order to load all the package's dependencies. You can do this by selecting the\n",
            "'Restart kernel' or 'Restart runtime' option.\n"
          ]
        }
      ]
    },
    {
      "cell_type": "code",
      "source": [
        "import spacy"
      ],
      "metadata": {
        "id": "CzDXZDricSWJ"
      },
      "execution_count": 4,
      "outputs": []
    },
    {
      "cell_type": "code",
      "source": [
        "nlp = spacy.load('ru_core_news_sm')"
      ],
      "metadata": {
        "id": "b96F6UDMcWlD"
      },
      "execution_count": 5,
      "outputs": []
    },
    {
      "cell_type": "code",
      "source": [
        "doc = nlp(my_file)\n",
        "my_file_spacy = []\n",
        "for token in doc:\n",
        "  print(token.text, token.pos_, token.morph)\n",
        "  my_file_spacy.append((token.text, token.pos_, token.morph))"
      ],
      "metadata": {
        "colab": {
          "base_uri": "https://localhost:8080/"
        },
        "collapsed": true,
        "id": "tefKbmKQcbLW",
        "outputId": "375d0459-c97d-4579-ed48-55ebf5a24293"
      },
      "execution_count": 6,
      "outputs": [
        {
          "output_type": "stream",
          "name": "stdout",
          "text": [
            "В. PROPN Animacy=Anim|Case=Nom|Gender=Masc|Number=Sing\n",
            "Я. PROPN Animacy=Anim|Case=Nom|Gender=Masc|Number=Sing\n",
            "БРЮСОВ PROPN Animacy=Anim|Case=Nom|Gender=Masc|Number=Sing\n",
            "\n",
            "\n",
            " SPACE \n",
            "На ADP \n",
            "пруду NOUN Animacy=Inan|Case=Loc|Gender=Masc|Number=Sing\n",
            "\n",
            " SPACE \n",
            "Ты PRON Case=Nom|Number=Sing|Person=Second\n",
            "белых ADJ Case=Gen|Degree=Pos|Number=Plur\n",
            "лебедей NOUN Animacy=Anim|Case=Gen|Gender=Masc|Number=Plur\n",
            "кормила VERB Aspect=Imp|Gender=Fem|Mood=Ind|Number=Sing|Tense=Past|VerbForm=Fin|Voice=Act\n",
            ", PUNCT \n",
            "\n",
            " SPACE \n",
            "Откинув VERB Aspect=Perf|Tense=Past|VerbForm=Conv|Voice=Act\n",
            "тяжесть NOUN Animacy=Inan|Case=Acc|Gender=Fem|Number=Sing\n",
            "черных ADJ Case=Gen|Degree=Pos|Number=Plur\n",
            "кос NOUN Animacy=Inan|Case=Gen|Gender=Fem|Number=Plur\n",
            "… PUNCT \n",
            "\n",
            " SPACE \n",
            "Я PRON Case=Nom|Number=Sing|Person=First\n",
            "рядом ADV Degree=Pos\n",
            "плыл VERB Aspect=Imp|Gender=Masc|Mood=Ind|Number=Sing|Tense=Past|VerbForm=Fin|Voice=Act\n",
            "; PUNCT \n",
            "сошлись VERB Aspect=Perf|Mood=Ind|Number=Plur|Tense=Past|VerbForm=Fin|Voice=Mid\n",
            "кормила VERB Aspect=Imp|Gender=Fem|Mood=Ind|Number=Sing|Tense=Past|VerbForm=Fin|Voice=Act\n",
            "; PUNCT \n",
            "\n",
            " SPACE \n",
            "Закатный VERB Aspect=Perf|Case=Nom|Gender=Masc|Number=Sing|Tense=Past|VerbForm=Part|Voice=Pass\n",
            "луч NOUN Animacy=Inan|Case=Nom|Gender=Masc|Number=Sing\n",
            "был AUX Aspect=Imp|Gender=Masc|Mood=Ind|Number=Sing|Tense=Past|VerbForm=Fin|Voice=Act\n",
            "странно ADJ Degree=Pos\n",
            "- NOUN Animacy=Inan|Case=Nom|Gender=Neut|Number=Sing\n",
            "кос PROPN Animacy=Inan|Case=Nom|Gender=Masc|Number=Sing\n",
            ". PUNCT \n",
            "\n",
            " SPACE \n",
            "По ADP \n",
            "небу NOUN Animacy=Inan|Case=Dat|Gender=Neut|Number=Sing\n",
            "полосы NOUN Animacy=Inan|Case=Gen|Gender=Fem|Number=Sing\n",
            "синели NOUN Animacy=Anim|Case=Nom|Gender=Masc|Number=Plur\n",
            ", PUNCT \n",
            "\n",
            " SPACE \n",
            "Вечеровой ADJ Case=Nom|Degree=Pos|Gender=Masc|Number=Sing\n",
            "багрец NOUN Animacy=Inan|Case=Nom|Gender=Masc|Number=Sing\n",
            "кроя NOUN Animacy=Inan|Case=Gen|Gender=Masc|Number=Sing\n",
            "; PUNCT \n",
            "\n",
            " SPACE \n",
            "В ADP \n",
            "цветах NOUN Animacy=Inan|Case=Loc|Gender=Masc|Number=Plur\n",
            "черемух NOUN Animacy=Inan|Case=Gen|Gender=Fem|Number=Sing\n",
            "и CCONJ \n",
            "синели NOUN Animacy=Anim|Case=Nom|Gender=Masc|Number=Plur\n",
            "\n",
            " SPACE \n",
            "Скрывались VERB Aspect=Imp|Mood=Ind|Number=Plur|Tense=Past|VerbForm=Fin|Voice=Mid\n",
            "водные ADJ Case=Nom|Degree=Pos|Number=Plur\n",
            "края NOUN Animacy=Inan|Case=Nom|Gender=Masc|Number=Plur\n",
            ". PUNCT \n",
            "\n",
            " SPACE \n",
            "Все DET Case=Nom|Number=Plur\n",
            "формы NOUN Animacy=Inan|Case=Nom|Gender=Fem|Number=Plur\n",
            "были AUX Aspect=Imp|Mood=Ind|Number=Plur|Tense=Past|VerbForm=Fin|Voice=Act\n",
            "строго ADV Degree=Pos\n",
            "- ADV Degree=Pos\n",
            "четки NOUN Animacy=Inan|Case=Nom|Gender=Fem|Number=Plur\n",
            ", PUNCT \n",
            "\n",
            " SPACE \n",
            "Миг PROPN Animacy=Anim|Case=Nom|Gender=Masc|Number=Sing\n",
            "ранил VERB Aspect=Perf|Gender=Masc|Mood=Ind|Number=Sing|Tense=Past|VerbForm=Fin|Voice=Act\n",
            "сердце NOUN Animacy=Inan|Case=Acc|Gender=Neut|Number=Sing\n",
            "сотней NOUN Animacy=Inan|Case=Ins|Gender=Fem|Number=Sing\n",
            "жал VERB Aspect=Imp|Gender=Masc|Mood=Ind|Number=Sing|Tense=Past|VerbForm=Fin|Voice=Act\n",
            "… PUNCT \n",
            "\n",
            " SPACE \n",
            "Я PRON Case=Nom|Number=Sing|Person=First\n",
            ", PUNCT \n",
            "как SCONJ \n",
            "аскет NOUN Animacy=Inan|Case=Nom|Gender=Masc|Number=Sing\n",
            "сжимает VERB Aspect=Imp|Mood=Ind|Number=Sing|Person=Third|Tense=Pres|VerbForm=Fin|Voice=Act\n",
            "четки NOUN Animacy=Inan|Case=Nom|Gender=Fem|Number=Plur\n",
            ", PUNCT \n",
            "\n",
            " SPACE \n",
            "В ADP \n",
            "руке NOUN Animacy=Inan|Case=Loc|Gender=Fem|Number=Sing\n",
            "весло VERB Aspect=Perf|Gender=Neut|Mood=Ind|Number=Sing|Tense=Past|VerbForm=Fin|Voice=Act\n",
            "невольно ADV Degree=Pos\n",
            "жал VERB Aspect=Imp|Gender=Masc|Mood=Ind|Number=Sing|Tense=Past|VerbForm=Fin|Voice=Act\n",
            ". PUNCT \n",
            "\n",
            " SPACE \n",
            "Вдруг ADV Degree=Pos\n",
            "лебедей NOUN Animacy=Inan|Case=Gen|Gender=Fem|Number=Plur\n",
            "метнулась VERB Aspect=Perf|Gender=Fem|Mood=Ind|Number=Sing|Tense=Past|VerbForm=Fin|Voice=Mid\n",
            "пара NOUN Animacy=Inan|Case=Nom|Gender=Fem|Number=Sing\n",
            "… PUNCT \n",
            "\n",
            " SPACE \n",
            "Не PART Polarity=Neg\n",
            "знаю VERB Aspect=Imp|Mood=Ind|Number=Sing|Person=First|Tense=Pres|VerbForm=Fin|Voice=Act\n",
            ", PUNCT \n",
            "чья DET Case=Nom|Gender=Fem|Number=Sing\n",
            "была AUX Aspect=Imp|Gender=Fem|Mood=Ind|Number=Sing|Tense=Past|VerbForm=Fin|Voice=Act\n",
            "вина NOUN Animacy=Inan|Case=Nom|Gender=Fem|Number=Sing\n",
            "… PUNCT \n",
            "\n",
            " SPACE \n",
            "Закат PROPN Animacy=Anim|Case=Nom|Gender=Masc|Number=Sing\n",
            "замлел VERB Aspect=Perf|Gender=Masc|Mood=Ind|Number=Sing|Tense=Past|VerbForm=Fin|Voice=Act\n",
            "за ADP \n",
            "дымкой NOUN Animacy=Inan|Case=Ins|Gender=Fem|Number=Sing\n",
            "пара NOUN Animacy=Inan|Case=Gen|Gender=Masc|Number=Sing\n",
            ", PUNCT \n",
            "\n",
            " SPACE \n",
            "Алея PROPN Animacy=Inan|Case=Nom|Gender=Fem|Number=Sing\n",
            ", PUNCT \n",
            "как SCONJ \n",
            "поток NOUN Animacy=Inan|Case=Nom|Gender=Masc|Number=Sing\n",
            "вина NOUN Animacy=Inan|Case=Gen|Gender=Neut|Number=Sing\n",
            ". PUNCT \n",
            "\n",
            " SPACE \n",
            "Была AUX Aspect=Imp|Gender=Fem|Mood=Ind|Number=Sing|Tense=Past|VerbForm=Fin|Voice=Act\n",
            "то PRON Animacy=Inan|Case=Nom|Gender=Neut|Number=Sing\n",
            "правда NOUN Animacy=Inan|Case=Nom|Gender=Fem|Number=Sing\n",
            "ли PART \n",
            ", PUNCT \n",
            "мечта NOUN Animacy=Inan|Case=Nom|Gender=Fem|Number=Sing\n",
            "ли PART \n",
            ", PUNCT \n",
            "— PUNCT \n",
            "\n",
            " SPACE \n",
            "Уста PROPN Animacy=Inan|Case=Nom|Gender=Fem|Number=Sing\n",
            "двоих NUM Case=Gen\n",
            "слились VERB Aspect=Perf|Mood=Ind|Number=Plur|Tense=Past|VerbForm=Fin|Voice=Mid\n",
            "в ADP \n",
            "одно NUM Case=Acc|Gender=Neut|Number=Sing\n",
            ". PUNCT \n",
            "\n",
            " SPACE \n",
            "Две NUM Case=Nom|Gender=Fem\n",
            "лодки NOUN Animacy=Inan|Case=Gen|Gender=Fem|Number=Sing\n",
            ", PUNCT \n",
            "как SCONJ \n",
            "и PART \n",
            "мы PRON Case=Nom|Number=Plur|Person=First\n",
            ", PUNCT \n",
            "мечтали VERB Aspect=Imp|Mood=Ind|Number=Plur|Tense=Past|VerbForm=Fin|Voice=Act\n",
            ", PUNCT \n",
            "\n",
            " SPACE \n",
            "Как ADV Degree=Pos\n",
            "будто PART \n",
            "вонзены VERB Aspect=Perf|Number=Plur|StyleVariant=Short|Tense=Past|VerbForm=Part|Voice=Pass\n",
            "во ADP \n",
            "дно NOUN Animacy=Inan|Case=Acc|Gender=Neut|Number=Sing\n",
            ". PUNCT \n",
            "\n",
            " SPACE \n",
            "Я PRON Case=Nom|Number=Sing|Person=First\n",
            "свято ADV Degree=Pos\n",
            "помню VERB Aspect=Imp|Mood=Ind|Number=Sing|Person=First|Tense=Pres|VerbForm=Fin|Voice=Act\n",
            "эту DET Case=Acc|Gender=Fem|Number=Sing\n",
            "встречу NOUN Animacy=Inan|Case=Acc|Gender=Fem|Number=Sing\n",
            ": PUNCT \n",
            "\n",
            " SPACE \n",
            "Пруд NOUN Animacy=Inan|Case=Nom|Gender=Masc|Number=Sing\n",
            ", PUNCT \n",
            "берег NOUN Animacy=Inan|Case=Nom|Gender=Masc|Number=Sing\n",
            ", PUNCT \n",
            "неба NOUN Animacy=Inan|Case=Gen|Gender=Neut|Number=Sing\n",
            "яркий ADJ Case=Nom|Degree=Pos|Gender=Masc|Number=Sing\n",
            "плат NOUN Animacy=Inan|Case=Nom|Gender=Masc|Number=Sing\n",
            "… PUNCT \n",
            "\n",
            " SPACE \n",
            "Миг PROPN Animacy=Anim|Case=Nom|Gender=Masc|Number=Sing\n",
            "тот DET Case=Nom|Gender=Masc|Number=Sing\n",
            "же PART \n",
            "если SCONJ \n",
            "вновь ADV Degree=Pos\n",
            "я PRON Case=Nom|Number=Sing|Person=First\n",
            "встречу VERB Aspect=Perf|Mood=Ind|Number=Sing|Person=First|Tense=Fut|VerbForm=Fin|Voice=Act\n",
            ", PUNCT \n",
            "— PUNCT \n",
            "\n",
            " SPACE \n",
            "И CCONJ \n",
            "жизнь NOUN Animacy=Inan|Case=Nom|Gender=Fem|Number=Sing\n",
            "ничтожная VERB Aspect=Perf|Case=Nom|Gender=Fem|Number=Sing|Tense=Past|VerbForm=Part|Voice=Pass\n",
            "из ADP \n",
            "плат NOUN Animacy=Inan|Case=Gen|Gender=Fem|Number=Plur\n",
            "! PUNCT \n",
            "\n",
            " SPACE \n",
            "12 ADJ \n",
            "декабря NOUN Animacy=Inan|Case=Gen|Gender=Masc|Number=Sing\n",
            "1914 ADJ \n",
            "\n",
            " SPACE \n"
          ]
        }
      ]
    },
    {
      "cell_type": "code",
      "source": [
        "df = pd.DataFrame(my_file_spacy, columns=['token', 'pos', 'tag'])\n",
        "df.to_excel('brusov_spacy.xlsx', index=False)"
      ],
      "metadata": {
        "id": "NWUaZ-2nc_mI"
      },
      "execution_count": 7,
      "outputs": []
    },
    {
      "cell_type": "markdown",
      "source": [
        "# **PyMorphy**"
      ],
      "metadata": {
        "id": "I6PnYsiVhW6E"
      }
    },
    {
      "cell_type": "code",
      "source": [
        "#pip install pymorphy3"
      ],
      "metadata": {
        "collapsed": true,
        "id": "lPw0av3CZwVT"
      },
      "execution_count": 8,
      "outputs": []
    },
    {
      "cell_type": "code",
      "source": [
        "from pymorphy3 import MorphAnalyzer"
      ],
      "metadata": {
        "id": "A4K7gWAkZ1Ht"
      },
      "execution_count": 9,
      "outputs": []
    },
    {
      "cell_type": "code",
      "source": [
        "morph = MorphAnalyzer()"
      ],
      "metadata": {
        "id": "BOKHGQzcZ7vV"
      },
      "execution_count": 10,
      "outputs": []
    },
    {
      "cell_type": "code",
      "source": [
        "from pymorphy3.tokenizers import simple_word_tokenize"
      ],
      "metadata": {
        "collapsed": true,
        "id": "q8kjK0ioaoSs"
      },
      "execution_count": 11,
      "outputs": []
    },
    {
      "cell_type": "code",
      "source": [
        "my_file_tokenized_pm = simple_word_tokenize(my_file)"
      ],
      "metadata": {
        "id": "X08vbwYCZ_eX"
      },
      "execution_count": 12,
      "outputs": []
    },
    {
      "cell_type": "code",
      "source": [
        "my_file_tokenized_pm"
      ],
      "metadata": {
        "colab": {
          "base_uri": "https://localhost:8080/"
        },
        "collapsed": true,
        "id": "iWHVggH_cB53",
        "outputId": "be04704d-b82d-4a56-a7ca-da8500e3d77c"
      },
      "execution_count": 13,
      "outputs": [
        {
          "output_type": "execute_result",
          "data": {
            "text/plain": [
              "['В',\n",
              " '.',\n",
              " 'Я',\n",
              " '.',\n",
              " 'БРЮСОВ',\n",
              " 'На',\n",
              " 'пруду',\n",
              " 'Ты',\n",
              " 'белых',\n",
              " 'лебедей',\n",
              " 'кормила',\n",
              " ',',\n",
              " 'Откинув',\n",
              " 'тяжесть',\n",
              " 'черных',\n",
              " 'кос',\n",
              " '…',\n",
              " 'Я',\n",
              " 'рядом',\n",
              " 'плыл',\n",
              " ';',\n",
              " 'сошлись',\n",
              " 'кормила',\n",
              " ';',\n",
              " 'Закатный',\n",
              " 'луч',\n",
              " 'был',\n",
              " 'странно-кос',\n",
              " '.',\n",
              " 'По',\n",
              " 'небу',\n",
              " 'полосы',\n",
              " 'синели',\n",
              " ',',\n",
              " 'Вечеровой',\n",
              " 'багрец',\n",
              " 'кроя',\n",
              " ';',\n",
              " 'В',\n",
              " 'цветах',\n",
              " 'черемух',\n",
              " 'и',\n",
              " 'синели',\n",
              " 'Скрывались',\n",
              " 'водные',\n",
              " 'края',\n",
              " '.',\n",
              " 'Все',\n",
              " 'формы',\n",
              " 'были',\n",
              " 'строго-четки',\n",
              " ',',\n",
              " 'Миг',\n",
              " 'ранил',\n",
              " 'сердце',\n",
              " 'сотней',\n",
              " 'жал',\n",
              " '…',\n",
              " 'Я',\n",
              " ',',\n",
              " 'как',\n",
              " 'аскет',\n",
              " 'сжимает',\n",
              " 'четки',\n",
              " ',',\n",
              " 'В',\n",
              " 'руке',\n",
              " 'весло',\n",
              " 'невольно',\n",
              " 'жал',\n",
              " '.',\n",
              " 'Вдруг',\n",
              " 'лебедей',\n",
              " 'метнулась',\n",
              " 'пара',\n",
              " '…',\n",
              " 'Не',\n",
              " 'знаю',\n",
              " ',',\n",
              " 'чья',\n",
              " 'была',\n",
              " 'вина',\n",
              " '…',\n",
              " 'Закат',\n",
              " 'замлел',\n",
              " 'за',\n",
              " 'дымкой',\n",
              " 'пара',\n",
              " ',',\n",
              " 'Алея',\n",
              " ',',\n",
              " 'как',\n",
              " 'поток',\n",
              " 'вина',\n",
              " '.',\n",
              " 'Была',\n",
              " 'то',\n",
              " 'правда',\n",
              " 'ли',\n",
              " ',',\n",
              " 'мечта',\n",
              " 'ли',\n",
              " ',',\n",
              " '—',\n",
              " 'Уста',\n",
              " 'двоих',\n",
              " 'слились',\n",
              " 'в',\n",
              " 'одно',\n",
              " '.',\n",
              " 'Две',\n",
              " 'лодки',\n",
              " ',',\n",
              " 'как',\n",
              " 'и',\n",
              " 'мы',\n",
              " ',',\n",
              " 'мечтали',\n",
              " ',',\n",
              " 'Как',\n",
              " 'будто',\n",
              " 'вонзены',\n",
              " 'во',\n",
              " 'дно',\n",
              " '.',\n",
              " 'Я',\n",
              " 'свято',\n",
              " 'помню',\n",
              " 'эту',\n",
              " 'встречу',\n",
              " ':',\n",
              " 'Пруд',\n",
              " ',',\n",
              " 'берег',\n",
              " ',',\n",
              " 'неба',\n",
              " 'яркий',\n",
              " 'плат',\n",
              " '…',\n",
              " 'Миг',\n",
              " 'тот',\n",
              " 'же',\n",
              " 'если',\n",
              " 'вновь',\n",
              " 'я',\n",
              " 'встречу',\n",
              " ',',\n",
              " '—',\n",
              " 'И',\n",
              " 'жизнь',\n",
              " 'ничтожная',\n",
              " 'из',\n",
              " 'плат',\n",
              " '!',\n",
              " '12',\n",
              " 'декабря',\n",
              " '1914']"
            ]
          },
          "metadata": {},
          "execution_count": 13
        }
      ]
    },
    {
      "cell_type": "code",
      "source": [
        "my_file_tokenized_pm = simple_word_tokenize(my_file)\n",
        "for token in my_file_tokenized_pm:\n",
        "    parsed_token = morph.parse(token)\n",
        "    print('{:3}\\t{:10}\\t{:50}'.format(len(parsed_token), parsed_token[0].word, parsed_token[0].tag._str))"
      ],
      "metadata": {
        "colab": {
          "base_uri": "https://localhost:8080/"
        },
        "collapsed": true,
        "id": "lFBq8hdS6UHp",
        "outputId": "2056a4d6-b853-44e7-bb6d-b57911a621ed"
      },
      "execution_count": 14,
      "outputs": [
        {
          "output_type": "stream",
          "name": "stdout",
          "text": [
            " 37\tв         \tPREP                                              \n",
            "  1\t.         \tPNCT                                              \n",
            " 25\tя         \tNPRO,1per sing,nomn                               \n",
            "  1\t.         \tPNCT                                              \n",
            "  3\tбрюсов    \tNOUN,anim,masc,Sgtm,Surn sing,nomn                \n",
            "  3\tна        \tPREP                                              \n",
            "  2\tпруду     \tNOUN,inan,masc sing,datv                          \n",
            "  1\tты        \tNPRO,2per sing,nomn                               \n",
            " 20\tбелых     \tADJF,Qual plur,gent                               \n",
            "  2\tлебедей   \tNOUN,anim,masc plur,gent                          \n",
            "  4\tкормила   \tVERB,impf,tran femn,sing,past,indc                \n",
            "  1\t,         \tPNCT                                              \n",
            "  1\tоткинув   \tGRND,perf,tran past                               \n",
            "  2\tтяжесть   \tNOUN,inan,femn sing,accs                          \n",
            " 18\tчёрных    \tADJF,Qual plur,gent                               \n",
            "  4\tкос       \tNOUN,inan,femn plur,gent                          \n",
            "  1\t…         \tPNCT                                              \n",
            " 25\tя         \tNPRO,1per sing,nomn                               \n",
            "  2\tрядом     \tADVB,Prdx                                         \n",
            "  1\tплыл      \tVERB,impf,intr masc,sing,past,indc                \n",
            "  1\t;         \tPNCT                                              \n",
            "  2\tсошлись   \tVERB,perf,intr plur,past,indc                     \n",
            "  4\tкормила   \tVERB,impf,tran femn,sing,past,indc                \n",
            "  1\t;         \tPNCT                                              \n",
            "  2\tзакатный  \tADJF,Qual masc,sing,nomn                          \n",
            "  2\tлуч       \tNOUN,inan,masc sing,nomn                          \n",
            "  1\tбыл       \tVERB,impf,intr masc,sing,past,indc                \n",
            "  5\tстранно-кос\tADJS,Qual neut,sing                               \n",
            "  1\t.         \tPNCT                                              \n",
            " 19\tпо        \tPREP                                              \n",
            "  2\tнебу      \tNOUN,inan,neut sing,datv                          \n",
            "  3\tполосы    \tNOUN,inan,femn sing,gent                          \n",
            "  6\tсинели    \tNOUN,inan,femn sing,gent                          \n",
            "  1\t,         \tPNCT                                              \n",
            "  9\tвечеровой \tNOUN,anim,femn,Sgtm,Surn sing,gent                \n",
            "  2\tбагрец    \tNOUN,inan,masc sing,nomn                          \n",
            "  3\tкроя      \tNOUN,inan,masc sing,gent                          \n",
            "  1\t;         \tPNCT                                              \n",
            " 37\tв         \tPREP                                              \n",
            "  3\tцветах    \tNOUN,anim,femn,Name plur,loct                     \n",
            "  1\tчерёмух   \tNOUN,inan,femn plur,gent                          \n",
            " 15\tи         \tCONJ                                              \n",
            "  6\tсинели    \tNOUN,inan,femn sing,gent                          \n",
            "  1\tскрывались\tVERB,impf,intr plur,past,indc                     \n",
            "  2\tводные    \tADJF,Qual inan,plur,accs                          \n",
            "  3\tкрая      \tNOUN,inan,masc sing,gent                          \n",
            "  1\t.         \tPNCT                                              \n",
            "  5\tвсё       \tPRCL                                              \n",
            "  3\tформы     \tNOUN,inan,femn sing,gent                          \n",
            "  6\tбыли      \tVERB,impf,intr plur,past,indc                     \n",
            "  3\tстрого-чётки\tNOUN,inan,GNdr,Pltm plur,nomn                     \n",
            "  1\t,         \tPNCT                                              \n",
            "  2\tмиг       \tNOUN,inan,masc sing,accs                          \n",
            "  2\tранил     \tVERB,perf,tran masc,sing,past,indc                \n",
            "  3\tсердце    \tNOUN,inan,neut sing,accs                          \n",
            "  1\tсотней    \tNOUN,inan,femn sing,ablt                          \n",
            "  3\tжал       \tNOUN,inan,neut plur,gent                          \n",
            "  1\t…         \tPNCT                                              \n",
            " 25\tя         \tNPRO,1per sing,nomn                               \n",
            "  1\t,         \tPNCT                                              \n",
            "  3\tкак       \tCONJ                                              \n",
            "  1\tаскет     \tNOUN,anim,masc sing,nomn                          \n",
            "  1\tсжимает   \tVERB,impf,tran sing,3per,pres,indc                \n",
            "  3\tчётки     \tNOUN,inan,GNdr,Pltm plur,nomn                     \n",
            "  1\t,         \tPNCT                                              \n",
            " 37\tв         \tPREP                                              \n",
            "  2\tруке      \tNOUN,inan,femn sing,loct                          \n",
            "  2\tвесло     \tNOUN,inan,neut sing,nomn                          \n",
            "  2\tневольно  \tADVB                                              \n",
            "  3\tжал       \tNOUN,inan,neut plur,gent                          \n",
            "  1\t.         \tPNCT                                              \n",
            "  1\tвдруг     \tADVB                                              \n",
            "  2\tлебедей   \tNOUN,anim,masc plur,gent                          \n",
            "  1\tметнулась \tVERB,perf,intr femn,sing,past,indc                \n",
            "  3\tпара      \tNOUN,inan,femn sing,nomn                          \n",
            "  1\t…         \tPNCT                                              \n",
            "  1\tне        \tPRCL                                              \n",
            "  1\tзнаю      \tVERB,impf,tran sing,1per,pres,indc                \n",
            "  1\t,         \tPNCT                                              \n",
            "  1\tчья       \tADJF,Apro femn,sing,nomn                          \n",
            "  1\tбыла      \tVERB,impf,intr femn,sing,past,indc                \n",
            "  4\tвина      \tNOUN,inan,neut sing,gent                          \n",
            "  1\t…         \tPNCT                                              \n",
            "  2\tзакат     \tNOUN,inan,masc sing,nomn                          \n",
            "  1\tзамлел    \tVERB,perf,intr masc,sing,past,indc                \n",
            "  1\tза        \tPREP                                              \n",
            "  1\tдымкой    \tNOUN,inan,femn sing,ablt                          \n",
            "  3\tпара      \tNOUN,inan,femn sing,nomn                          \n",
            "  1\t,         \tPNCT                                              \n",
            "  5\tалея      \tGRND,impf,intr pres                               \n",
            "  1\t,         \tPNCT                                              \n",
            "  3\tкак       \tCONJ                                              \n",
            "  2\tпоток     \tNOUN,inan,masc sing,nomn                          \n",
            "  4\tвина      \tNOUN,inan,neut sing,gent                          \n",
            "  1\t.         \tPNCT                                              \n",
            "  1\tбыла      \tVERB,impf,intr femn,sing,past,indc                \n",
            "  4\tто        \tCONJ                                              \n",
            "  3\tправда    \tPRCL                                              \n",
            " 20\tли        \tCONJ                                              \n",
            "  1\t,         \tPNCT                                              \n",
            "  1\tмечта     \tNOUN,inan,femn sing,nomn                          \n",
            " 20\tли        \tCONJ                                              \n",
            "  1\t,         \tPNCT                                              \n",
            "  1\t—         \tPNCT                                              \n",
            "  3\tуста      \tNOUN,inan,GNdr,Pltm plur,accs                     \n",
            "  3\tдвоих     \tNUMR,Coll anim,accs                               \n",
            "  1\tслились   \tVERB,perf,intr plur,past,indc                     \n",
            " 13\tв         \tPREP                                              \n",
            "  2\tодно      \tADJF,Apro,Anum neut,sing,accs                     \n",
            "  1\t.         \tPNCT                                              \n",
            "  2\tдве       \tNUMR inan,femn,accs                               \n",
            "  3\tлодки     \tNOUN,inan,femn plur,nomn                          \n",
            "  1\t,         \tPNCT                                              \n",
            "  3\tкак       \tCONJ                                              \n",
            " 15\tи         \tCONJ                                              \n",
            "  1\tмы        \tNPRO,1per plur,nomn                               \n",
            "  1\t,         \tPNCT                                              \n",
            "  1\tмечтали   \tVERB,impf,intr plur,past,indc                     \n",
            "  1\t,         \tPNCT                                              \n",
            "  3\tкак       \tCONJ                                              \n",
            "  3\tбудто     \tCONJ                                              \n",
            "  1\tвонзены   \tPRTS,perf,past,pssv plur                          \n",
            "  1\tво        \tPREP Vpre                                         \n",
            "  2\tдно       \tNOUN,inan,neut sing,accs                          \n",
            "  1\t.         \tPNCT                                              \n",
            " 25\tя         \tNPRO,1per sing,nomn                               \n",
            "  1\tсвято     \tADJS,Qual neut,sing                               \n",
            "  1\tпомню     \tVERB,impf,tran sing,1per,pres,indc                \n",
            "  1\tэту       \tADJF,Subx,Apro,Anph femn,sing,accs                \n",
            "  2\tвстречу   \tNOUN,inan,femn sing,accs                          \n",
            "  1\t:         \tPNCT                                              \n",
            "  2\tпруд      \tNOUN,inan,masc sing,accs                          \n",
            "  1\t,         \tPNCT                                              \n",
            "  3\tберег     \tNOUN,inan,masc sing,nomn                          \n",
            "  1\t,         \tPNCT                                              \n",
            "  4\tнеба      \tNOUN,inan,neut sing,gent                          \n",
            "  2\tяркий     \tADJF,Qual masc,sing,nomn                          \n",
            "  3\tплат      \tNOUN,inan,femn plur,gent                          \n",
            "  1\t…         \tPNCT                                              \n",
            "  2\tмиг       \tNOUN,inan,masc sing,accs                          \n",
            "  2\tтот       \tADJF,Subx,Apro,Anph masc,sing,nomn                \n",
            "  2\tже        \tPRCL                                              \n",
            "  1\tесли      \tCONJ                                              \n",
            "  1\tвновь     \tADVB                                              \n",
            "  1\tя         \tNPRO,1per sing,nomn                               \n",
            "  2\tвстречу   \tNOUN,inan,femn sing,accs                          \n",
            "  1\t,         \tPNCT                                              \n",
            "  1\t—         \tPNCT                                              \n",
            " 39\tи         \tCONJ                                              \n",
            "  2\tжизнь     \tNOUN,inan,femn sing,accs                          \n",
            "  1\tничтожная \tADJF,Qual femn,sing,nomn                          \n",
            "  3\tиз        \tPREP                                              \n",
            "  3\tплат      \tNOUN,inan,femn plur,gent                          \n",
            "  1\t!         \tPNCT                                              \n",
            "  1\t12        \tNUMB,intg                                         \n",
            "  1\tдекабря   \tNOUN,inan,masc sing,gent                          \n",
            "  1\t1914      \tNUMB,intg                                         \n"
          ]
        }
      ]
    },
    {
      "cell_type": "code",
      "source": [
        "my_file_tokenized_pm = simple_word_tokenize(my_file)\n",
        "my_file_pymorphy = []\n",
        "for token in my_file_tokenized_pm:\n",
        "    parsed_token = morph.parse(token)\n",
        "    my_file_pymorphy.append((parsed_token[0].word, parsed_token[0].tag._str))"
      ],
      "metadata": {
        "id": "awO6B8vvR4VM"
      },
      "execution_count": 15,
      "outputs": []
    },
    {
      "cell_type": "code",
      "source": [
        "my_file_pymorphy"
      ],
      "metadata": {
        "colab": {
          "base_uri": "https://localhost:8080/"
        },
        "id": "m6ZuDPwwUXWg",
        "outputId": "50420b00-51c5-475d-c65e-aff448a4467a"
      },
      "execution_count": 16,
      "outputs": [
        {
          "output_type": "execute_result",
          "data": {
            "text/plain": [
              "[('в', 'PREP'),\n",
              " ('.', 'PNCT'),\n",
              " ('я', 'NPRO,1per sing,nomn'),\n",
              " ('.', 'PNCT'),\n",
              " ('брюсов', 'NOUN,anim,masc,Sgtm,Surn sing,nomn'),\n",
              " ('на', 'PREP'),\n",
              " ('пруду', 'NOUN,inan,masc sing,datv'),\n",
              " ('ты', 'NPRO,2per sing,nomn'),\n",
              " ('белых', 'ADJF,Qual plur,gent'),\n",
              " ('лебедей', 'NOUN,anim,masc plur,gent'),\n",
              " ('кормила', 'VERB,impf,tran femn,sing,past,indc'),\n",
              " (',', 'PNCT'),\n",
              " ('откинув', 'GRND,perf,tran past'),\n",
              " ('тяжесть', 'NOUN,inan,femn sing,accs'),\n",
              " ('чёрных', 'ADJF,Qual plur,gent'),\n",
              " ('кос', 'NOUN,inan,femn plur,gent'),\n",
              " ('…', 'PNCT'),\n",
              " ('я', 'NPRO,1per sing,nomn'),\n",
              " ('рядом', 'ADVB,Prdx'),\n",
              " ('плыл', 'VERB,impf,intr masc,sing,past,indc'),\n",
              " (';', 'PNCT'),\n",
              " ('сошлись', 'VERB,perf,intr plur,past,indc'),\n",
              " ('кормила', 'VERB,impf,tran femn,sing,past,indc'),\n",
              " (';', 'PNCT'),\n",
              " ('закатный', 'ADJF,Qual masc,sing,nomn'),\n",
              " ('луч', 'NOUN,inan,masc sing,nomn'),\n",
              " ('был', 'VERB,impf,intr masc,sing,past,indc'),\n",
              " ('странно-кос', 'ADJS,Qual neut,sing'),\n",
              " ('.', 'PNCT'),\n",
              " ('по', 'PREP'),\n",
              " ('небу', 'NOUN,inan,neut sing,datv'),\n",
              " ('полосы', 'NOUN,inan,femn sing,gent'),\n",
              " ('синели', 'NOUN,inan,femn sing,gent'),\n",
              " (',', 'PNCT'),\n",
              " ('вечеровой', 'NOUN,anim,femn,Sgtm,Surn sing,gent'),\n",
              " ('багрец', 'NOUN,inan,masc sing,nomn'),\n",
              " ('кроя', 'NOUN,inan,masc sing,gent'),\n",
              " (';', 'PNCT'),\n",
              " ('в', 'PREP'),\n",
              " ('цветах', 'NOUN,anim,femn,Name plur,loct'),\n",
              " ('черёмух', 'NOUN,inan,femn plur,gent'),\n",
              " ('и', 'CONJ'),\n",
              " ('синели', 'NOUN,inan,femn sing,gent'),\n",
              " ('скрывались', 'VERB,impf,intr plur,past,indc'),\n",
              " ('водные', 'ADJF,Qual inan,plur,accs'),\n",
              " ('края', 'NOUN,inan,masc sing,gent'),\n",
              " ('.', 'PNCT'),\n",
              " ('всё', 'PRCL'),\n",
              " ('формы', 'NOUN,inan,femn sing,gent'),\n",
              " ('были', 'VERB,impf,intr plur,past,indc'),\n",
              " ('строго-чётки', 'NOUN,inan,GNdr,Pltm plur,nomn'),\n",
              " (',', 'PNCT'),\n",
              " ('миг', 'NOUN,inan,masc sing,accs'),\n",
              " ('ранил', 'VERB,perf,tran masc,sing,past,indc'),\n",
              " ('сердце', 'NOUN,inan,neut sing,accs'),\n",
              " ('сотней', 'NOUN,inan,femn sing,ablt'),\n",
              " ('жал', 'NOUN,inan,neut plur,gent'),\n",
              " ('…', 'PNCT'),\n",
              " ('я', 'NPRO,1per sing,nomn'),\n",
              " (',', 'PNCT'),\n",
              " ('как', 'CONJ'),\n",
              " ('аскет', 'NOUN,anim,masc sing,nomn'),\n",
              " ('сжимает', 'VERB,impf,tran sing,3per,pres,indc'),\n",
              " ('чётки', 'NOUN,inan,GNdr,Pltm plur,nomn'),\n",
              " (',', 'PNCT'),\n",
              " ('в', 'PREP'),\n",
              " ('руке', 'NOUN,inan,femn sing,loct'),\n",
              " ('весло', 'NOUN,inan,neut sing,nomn'),\n",
              " ('невольно', 'ADVB'),\n",
              " ('жал', 'NOUN,inan,neut plur,gent'),\n",
              " ('.', 'PNCT'),\n",
              " ('вдруг', 'ADVB'),\n",
              " ('лебедей', 'NOUN,anim,masc plur,gent'),\n",
              " ('метнулась', 'VERB,perf,intr femn,sing,past,indc'),\n",
              " ('пара', 'NOUN,inan,femn sing,nomn'),\n",
              " ('…', 'PNCT'),\n",
              " ('не', 'PRCL'),\n",
              " ('знаю', 'VERB,impf,tran sing,1per,pres,indc'),\n",
              " (',', 'PNCT'),\n",
              " ('чья', 'ADJF,Apro femn,sing,nomn'),\n",
              " ('была', 'VERB,impf,intr femn,sing,past,indc'),\n",
              " ('вина', 'NOUN,inan,neut sing,gent'),\n",
              " ('…', 'PNCT'),\n",
              " ('закат', 'NOUN,inan,masc sing,nomn'),\n",
              " ('замлел', 'VERB,perf,intr masc,sing,past,indc'),\n",
              " ('за', 'PREP'),\n",
              " ('дымкой', 'NOUN,inan,femn sing,ablt'),\n",
              " ('пара', 'NOUN,inan,femn sing,nomn'),\n",
              " (',', 'PNCT'),\n",
              " ('алея', 'GRND,impf,intr pres'),\n",
              " (',', 'PNCT'),\n",
              " ('как', 'CONJ'),\n",
              " ('поток', 'NOUN,inan,masc sing,nomn'),\n",
              " ('вина', 'NOUN,inan,neut sing,gent'),\n",
              " ('.', 'PNCT'),\n",
              " ('была', 'VERB,impf,intr femn,sing,past,indc'),\n",
              " ('то', 'CONJ'),\n",
              " ('правда', 'PRCL'),\n",
              " ('ли', 'CONJ'),\n",
              " (',', 'PNCT'),\n",
              " ('мечта', 'NOUN,inan,femn sing,nomn'),\n",
              " ('ли', 'CONJ'),\n",
              " (',', 'PNCT'),\n",
              " ('—', 'PNCT'),\n",
              " ('уста', 'NOUN,inan,GNdr,Pltm plur,accs'),\n",
              " ('двоих', 'NUMR,Coll anim,accs'),\n",
              " ('слились', 'VERB,perf,intr plur,past,indc'),\n",
              " ('в', 'PREP'),\n",
              " ('одно', 'ADJF,Apro,Anum neut,sing,accs'),\n",
              " ('.', 'PNCT'),\n",
              " ('две', 'NUMR inan,femn,accs'),\n",
              " ('лодки', 'NOUN,inan,femn plur,nomn'),\n",
              " (',', 'PNCT'),\n",
              " ('как', 'CONJ'),\n",
              " ('и', 'CONJ'),\n",
              " ('мы', 'NPRO,1per plur,nomn'),\n",
              " (',', 'PNCT'),\n",
              " ('мечтали', 'VERB,impf,intr plur,past,indc'),\n",
              " (',', 'PNCT'),\n",
              " ('как', 'CONJ'),\n",
              " ('будто', 'CONJ'),\n",
              " ('вонзены', 'PRTS,perf,past,pssv plur'),\n",
              " ('во', 'PREP Vpre'),\n",
              " ('дно', 'NOUN,inan,neut sing,accs'),\n",
              " ('.', 'PNCT'),\n",
              " ('я', 'NPRO,1per sing,nomn'),\n",
              " ('свято', 'ADJS,Qual neut,sing'),\n",
              " ('помню', 'VERB,impf,tran sing,1per,pres,indc'),\n",
              " ('эту', 'ADJF,Subx,Apro,Anph femn,sing,accs'),\n",
              " ('встречу', 'NOUN,inan,femn sing,accs'),\n",
              " (':', 'PNCT'),\n",
              " ('пруд', 'NOUN,inan,masc sing,accs'),\n",
              " (',', 'PNCT'),\n",
              " ('берег', 'NOUN,inan,masc sing,nomn'),\n",
              " (',', 'PNCT'),\n",
              " ('неба', 'NOUN,inan,neut sing,gent'),\n",
              " ('яркий', 'ADJF,Qual masc,sing,nomn'),\n",
              " ('плат', 'NOUN,inan,femn plur,gent'),\n",
              " ('…', 'PNCT'),\n",
              " ('миг', 'NOUN,inan,masc sing,accs'),\n",
              " ('тот', 'ADJF,Subx,Apro,Anph masc,sing,nomn'),\n",
              " ('же', 'PRCL'),\n",
              " ('если', 'CONJ'),\n",
              " ('вновь', 'ADVB'),\n",
              " ('я', 'NPRO,1per sing,nomn'),\n",
              " ('встречу', 'NOUN,inan,femn sing,accs'),\n",
              " (',', 'PNCT'),\n",
              " ('—', 'PNCT'),\n",
              " ('и', 'CONJ'),\n",
              " ('жизнь', 'NOUN,inan,femn sing,accs'),\n",
              " ('ничтожная', 'ADJF,Qual femn,sing,nomn'),\n",
              " ('из', 'PREP'),\n",
              " ('плат', 'NOUN,inan,femn plur,gent'),\n",
              " ('!', 'PNCT'),\n",
              " ('12', 'NUMB,intg'),\n",
              " ('декабря', 'NOUN,inan,masc sing,gent'),\n",
              " ('1914', 'NUMB,intg')]"
            ]
          },
          "metadata": {},
          "execution_count": 16
        }
      ]
    },
    {
      "cell_type": "code",
      "source": [
        "df = pd.DataFrame(my_file_pymorphy, columns=['token', 'tag'])\n",
        "df.to_excel('my_file_pymorphy.xlsx', index=False)"
      ],
      "metadata": {
        "id": "LYSxJliuShXN"
      },
      "execution_count": 17,
      "outputs": []
    },
    {
      "cell_type": "code",
      "source": [
        "df"
      ],
      "metadata": {
        "colab": {
          "base_uri": "https://localhost:8080/",
          "height": 0
        },
        "id": "lbccrtT4SrWB",
        "outputId": "a06547cc-91f8-4a3a-992d-94f1758e6807"
      },
      "execution_count": 18,
      "outputs": [
        {
          "output_type": "execute_result",
          "data": {
            "text/plain": [
              "       token                                 tag\n",
              "0          в                                PREP\n",
              "1          .                                PNCT\n",
              "2          я                 NPRO,1per sing,nomn\n",
              "3          .                                PNCT\n",
              "4     брюсов  NOUN,anim,masc,Sgtm,Surn sing,nomn\n",
              "..       ...                                 ...\n",
              "152     плат            NOUN,inan,femn plur,gent\n",
              "153        !                                PNCT\n",
              "154       12                           NUMB,intg\n",
              "155  декабря            NOUN,inan,masc sing,gent\n",
              "156     1914                           NUMB,intg\n",
              "\n",
              "[157 rows x 2 columns]"
            ],
            "text/html": [
              "\n",
              "  <div id=\"df-bb319a2f-7b78-42f7-a3ee-911e01fc10c5\" class=\"colab-df-container\">\n",
              "    <div>\n",
              "<style scoped>\n",
              "    .dataframe tbody tr th:only-of-type {\n",
              "        vertical-align: middle;\n",
              "    }\n",
              "\n",
              "    .dataframe tbody tr th {\n",
              "        vertical-align: top;\n",
              "    }\n",
              "\n",
              "    .dataframe thead th {\n",
              "        text-align: right;\n",
              "    }\n",
              "</style>\n",
              "<table border=\"1\" class=\"dataframe\">\n",
              "  <thead>\n",
              "    <tr style=\"text-align: right;\">\n",
              "      <th></th>\n",
              "      <th>token</th>\n",
              "      <th>tag</th>\n",
              "    </tr>\n",
              "  </thead>\n",
              "  <tbody>\n",
              "    <tr>\n",
              "      <th>0</th>\n",
              "      <td>в</td>\n",
              "      <td>PREP</td>\n",
              "    </tr>\n",
              "    <tr>\n",
              "      <th>1</th>\n",
              "      <td>.</td>\n",
              "      <td>PNCT</td>\n",
              "    </tr>\n",
              "    <tr>\n",
              "      <th>2</th>\n",
              "      <td>я</td>\n",
              "      <td>NPRO,1per sing,nomn</td>\n",
              "    </tr>\n",
              "    <tr>\n",
              "      <th>3</th>\n",
              "      <td>.</td>\n",
              "      <td>PNCT</td>\n",
              "    </tr>\n",
              "    <tr>\n",
              "      <th>4</th>\n",
              "      <td>брюсов</td>\n",
              "      <td>NOUN,anim,masc,Sgtm,Surn sing,nomn</td>\n",
              "    </tr>\n",
              "    <tr>\n",
              "      <th>...</th>\n",
              "      <td>...</td>\n",
              "      <td>...</td>\n",
              "    </tr>\n",
              "    <tr>\n",
              "      <th>152</th>\n",
              "      <td>плат</td>\n",
              "      <td>NOUN,inan,femn plur,gent</td>\n",
              "    </tr>\n",
              "    <tr>\n",
              "      <th>153</th>\n",
              "      <td>!</td>\n",
              "      <td>PNCT</td>\n",
              "    </tr>\n",
              "    <tr>\n",
              "      <th>154</th>\n",
              "      <td>12</td>\n",
              "      <td>NUMB,intg</td>\n",
              "    </tr>\n",
              "    <tr>\n",
              "      <th>155</th>\n",
              "      <td>декабря</td>\n",
              "      <td>NOUN,inan,masc sing,gent</td>\n",
              "    </tr>\n",
              "    <tr>\n",
              "      <th>156</th>\n",
              "      <td>1914</td>\n",
              "      <td>NUMB,intg</td>\n",
              "    </tr>\n",
              "  </tbody>\n",
              "</table>\n",
              "<p>157 rows × 2 columns</p>\n",
              "</div>\n",
              "    <div class=\"colab-df-buttons\">\n",
              "\n",
              "  <div class=\"colab-df-container\">\n",
              "    <button class=\"colab-df-convert\" onclick=\"convertToInteractive('df-bb319a2f-7b78-42f7-a3ee-911e01fc10c5')\"\n",
              "            title=\"Convert this dataframe to an interactive table.\"\n",
              "            style=\"display:none;\">\n",
              "\n",
              "  <svg xmlns=\"http://www.w3.org/2000/svg\" height=\"24px\" viewBox=\"0 -960 960 960\">\n",
              "    <path d=\"M120-120v-720h720v720H120Zm60-500h600v-160H180v160Zm220 220h160v-160H400v160Zm0 220h160v-160H400v160ZM180-400h160v-160H180v160Zm440 0h160v-160H620v160ZM180-180h160v-160H180v160Zm440 0h160v-160H620v160Z\"/>\n",
              "  </svg>\n",
              "    </button>\n",
              "\n",
              "  <style>\n",
              "    .colab-df-container {\n",
              "      display:flex;\n",
              "      gap: 12px;\n",
              "    }\n",
              "\n",
              "    .colab-df-convert {\n",
              "      background-color: #E8F0FE;\n",
              "      border: none;\n",
              "      border-radius: 50%;\n",
              "      cursor: pointer;\n",
              "      display: none;\n",
              "      fill: #1967D2;\n",
              "      height: 32px;\n",
              "      padding: 0 0 0 0;\n",
              "      width: 32px;\n",
              "    }\n",
              "\n",
              "    .colab-df-convert:hover {\n",
              "      background-color: #E2EBFA;\n",
              "      box-shadow: 0px 1px 2px rgba(60, 64, 67, 0.3), 0px 1px 3px 1px rgba(60, 64, 67, 0.15);\n",
              "      fill: #174EA6;\n",
              "    }\n",
              "\n",
              "    .colab-df-buttons div {\n",
              "      margin-bottom: 4px;\n",
              "    }\n",
              "\n",
              "    [theme=dark] .colab-df-convert {\n",
              "      background-color: #3B4455;\n",
              "      fill: #D2E3FC;\n",
              "    }\n",
              "\n",
              "    [theme=dark] .colab-df-convert:hover {\n",
              "      background-color: #434B5C;\n",
              "      box-shadow: 0px 1px 3px 1px rgba(0, 0, 0, 0.15);\n",
              "      filter: drop-shadow(0px 1px 2px rgba(0, 0, 0, 0.3));\n",
              "      fill: #FFFFFF;\n",
              "    }\n",
              "  </style>\n",
              "\n",
              "    <script>\n",
              "      const buttonEl =\n",
              "        document.querySelector('#df-bb319a2f-7b78-42f7-a3ee-911e01fc10c5 button.colab-df-convert');\n",
              "      buttonEl.style.display =\n",
              "        google.colab.kernel.accessAllowed ? 'block' : 'none';\n",
              "\n",
              "      async function convertToInteractive(key) {\n",
              "        const element = document.querySelector('#df-bb319a2f-7b78-42f7-a3ee-911e01fc10c5');\n",
              "        const dataTable =\n",
              "          await google.colab.kernel.invokeFunction('convertToInteractive',\n",
              "                                                    [key], {});\n",
              "        if (!dataTable) return;\n",
              "\n",
              "        const docLinkHtml = 'Like what you see? Visit the ' +\n",
              "          '<a target=\"_blank\" href=https://colab.research.google.com/notebooks/data_table.ipynb>data table notebook</a>'\n",
              "          + ' to learn more about interactive tables.';\n",
              "        element.innerHTML = '';\n",
              "        dataTable['output_type'] = 'display_data';\n",
              "        await google.colab.output.renderOutput(dataTable, element);\n",
              "        const docLink = document.createElement('div');\n",
              "        docLink.innerHTML = docLinkHtml;\n",
              "        element.appendChild(docLink);\n",
              "      }\n",
              "    </script>\n",
              "  </div>\n",
              "\n",
              "\n",
              "<div id=\"df-beb034cb-078c-4078-9ce1-f4792426d2c2\">\n",
              "  <button class=\"colab-df-quickchart\" onclick=\"quickchart('df-beb034cb-078c-4078-9ce1-f4792426d2c2')\"\n",
              "            title=\"Suggest charts\"\n",
              "            style=\"display:none;\">\n",
              "\n",
              "<svg xmlns=\"http://www.w3.org/2000/svg\" height=\"24px\"viewBox=\"0 0 24 24\"\n",
              "     width=\"24px\">\n",
              "    <g>\n",
              "        <path d=\"M19 3H5c-1.1 0-2 .9-2 2v14c0 1.1.9 2 2 2h14c1.1 0 2-.9 2-2V5c0-1.1-.9-2-2-2zM9 17H7v-7h2v7zm4 0h-2V7h2v10zm4 0h-2v-4h2v4z\"/>\n",
              "    </g>\n",
              "</svg>\n",
              "  </button>\n",
              "\n",
              "<style>\n",
              "  .colab-df-quickchart {\n",
              "      --bg-color: #E8F0FE;\n",
              "      --fill-color: #1967D2;\n",
              "      --hover-bg-color: #E2EBFA;\n",
              "      --hover-fill-color: #174EA6;\n",
              "      --disabled-fill-color: #AAA;\n",
              "      --disabled-bg-color: #DDD;\n",
              "  }\n",
              "\n",
              "  [theme=dark] .colab-df-quickchart {\n",
              "      --bg-color: #3B4455;\n",
              "      --fill-color: #D2E3FC;\n",
              "      --hover-bg-color: #434B5C;\n",
              "      --hover-fill-color: #FFFFFF;\n",
              "      --disabled-bg-color: #3B4455;\n",
              "      --disabled-fill-color: #666;\n",
              "  }\n",
              "\n",
              "  .colab-df-quickchart {\n",
              "    background-color: var(--bg-color);\n",
              "    border: none;\n",
              "    border-radius: 50%;\n",
              "    cursor: pointer;\n",
              "    display: none;\n",
              "    fill: var(--fill-color);\n",
              "    height: 32px;\n",
              "    padding: 0;\n",
              "    width: 32px;\n",
              "  }\n",
              "\n",
              "  .colab-df-quickchart:hover {\n",
              "    background-color: var(--hover-bg-color);\n",
              "    box-shadow: 0 1px 2px rgba(60, 64, 67, 0.3), 0 1px 3px 1px rgba(60, 64, 67, 0.15);\n",
              "    fill: var(--button-hover-fill-color);\n",
              "  }\n",
              "\n",
              "  .colab-df-quickchart-complete:disabled,\n",
              "  .colab-df-quickchart-complete:disabled:hover {\n",
              "    background-color: var(--disabled-bg-color);\n",
              "    fill: var(--disabled-fill-color);\n",
              "    box-shadow: none;\n",
              "  }\n",
              "\n",
              "  .colab-df-spinner {\n",
              "    border: 2px solid var(--fill-color);\n",
              "    border-color: transparent;\n",
              "    border-bottom-color: var(--fill-color);\n",
              "    animation:\n",
              "      spin 1s steps(1) infinite;\n",
              "  }\n",
              "\n",
              "  @keyframes spin {\n",
              "    0% {\n",
              "      border-color: transparent;\n",
              "      border-bottom-color: var(--fill-color);\n",
              "      border-left-color: var(--fill-color);\n",
              "    }\n",
              "    20% {\n",
              "      border-color: transparent;\n",
              "      border-left-color: var(--fill-color);\n",
              "      border-top-color: var(--fill-color);\n",
              "    }\n",
              "    30% {\n",
              "      border-color: transparent;\n",
              "      border-left-color: var(--fill-color);\n",
              "      border-top-color: var(--fill-color);\n",
              "      border-right-color: var(--fill-color);\n",
              "    }\n",
              "    40% {\n",
              "      border-color: transparent;\n",
              "      border-right-color: var(--fill-color);\n",
              "      border-top-color: var(--fill-color);\n",
              "    }\n",
              "    60% {\n",
              "      border-color: transparent;\n",
              "      border-right-color: var(--fill-color);\n",
              "    }\n",
              "    80% {\n",
              "      border-color: transparent;\n",
              "      border-right-color: var(--fill-color);\n",
              "      border-bottom-color: var(--fill-color);\n",
              "    }\n",
              "    90% {\n",
              "      border-color: transparent;\n",
              "      border-bottom-color: var(--fill-color);\n",
              "    }\n",
              "  }\n",
              "</style>\n",
              "\n",
              "  <script>\n",
              "    async function quickchart(key) {\n",
              "      const quickchartButtonEl =\n",
              "        document.querySelector('#' + key + ' button');\n",
              "      quickchartButtonEl.disabled = true;  // To prevent multiple clicks.\n",
              "      quickchartButtonEl.classList.add('colab-df-spinner');\n",
              "      try {\n",
              "        const charts = await google.colab.kernel.invokeFunction(\n",
              "            'suggestCharts', [key], {});\n",
              "      } catch (error) {\n",
              "        console.error('Error during call to suggestCharts:', error);\n",
              "      }\n",
              "      quickchartButtonEl.classList.remove('colab-df-spinner');\n",
              "      quickchartButtonEl.classList.add('colab-df-quickchart-complete');\n",
              "    }\n",
              "    (() => {\n",
              "      let quickchartButtonEl =\n",
              "        document.querySelector('#df-beb034cb-078c-4078-9ce1-f4792426d2c2 button');\n",
              "      quickchartButtonEl.style.display =\n",
              "        google.colab.kernel.accessAllowed ? 'block' : 'none';\n",
              "    })();\n",
              "  </script>\n",
              "</div>\n",
              "    </div>\n",
              "  </div>\n"
            ],
            "application/vnd.google.colaboratory.intrinsic+json": {
              "type": "dataframe",
              "variable_name": "df",
              "summary": "{\n  \"name\": \"df\",\n  \"rows\": 157,\n  \"fields\": [\n    {\n      \"column\": \"token\",\n      \"properties\": {\n        \"dtype\": \"string\",\n        \"num_unique_values\": 105,\n        \"samples\": [\n          \"\\u043a\\u0440\\u043e\\u044f\",\n          \"\\u0430\\u043b\\u0435\\u044f\",\n          \"\\u0434\\u044b\\u043c\\u043a\\u043e\\u0439\"\n        ],\n        \"semantic_type\": \"\",\n        \"description\": \"\"\n      }\n    },\n    {\n      \"column\": \"tag\",\n      \"properties\": {\n        \"dtype\": \"category\",\n        \"num_unique_values\": 58,\n        \"samples\": [\n          \"PREP\",\n          \"NPRO,2per sing,nomn\",\n          \"VERB,impf,tran sing,3per,pres,indc\"\n        ],\n        \"semantic_type\": \"\",\n        \"description\": \"\"\n      }\n    }\n  ]\n}"
            }
          },
          "metadata": {},
          "execution_count": 18
        }
      ]
    },
    {
      "cell_type": "markdown",
      "source": [
        "# **Pymystem**"
      ],
      "metadata": {
        "id": "cSCx5ZntdXlR"
      }
    },
    {
      "cell_type": "code",
      "source": [
        "#! pip install pymystem3"
      ],
      "metadata": {
        "id": "05bXeojVdWVP"
      },
      "execution_count": 19,
      "outputs": []
    },
    {
      "cell_type": "code",
      "source": [
        "from pymystem3 import Mystem\n",
        "analyzer_no_disamb = Mystem()\n",
        "analyzer_with_disamb = Mystem(disambiguation=True)"
      ],
      "metadata": {
        "id": "2Cyvpr76UwpL"
      },
      "execution_count": 20,
      "outputs": []
    },
    {
      "cell_type": "code",
      "source": [
        "my_file_mystem = []\n",
        "doc_no_disamb = analyzer_no_disamb.analyze(my_file)\n",
        "doc_with_disamb = analyzer_with_disamb.analyze(my_file)"
      ],
      "metadata": {
        "id": "Hzd2PsgwU1iX"
      },
      "execution_count": 21,
      "outputs": []
    },
    {
      "cell_type": "code",
      "source": [
        "doc_no_disamb[3:10] #без лексической неоднозначности"
      ],
      "metadata": {
        "colab": {
          "base_uri": "https://localhost:8080/"
        },
        "id": "_L99TIa9VDM8",
        "outputId": "a556c3af-aecb-48a5-b11f-fd13737e2ed0"
      },
      "execution_count": 22,
      "outputs": [
        {
          "output_type": "execute_result",
          "data": {
            "text/plain": [
              "[{'text': '. '},\n",
              " {'analysis': [{'lex': 'брюсов',\n",
              "    'wt': 0.9998791671,\n",
              "    'gr': 'S,фам,муж,од=им,ед'}],\n",
              "  'text': 'БРЮСОВ'},\n",
              " {'text': '\\n'},\n",
              " {'text': '\\n'},\n",
              " {'analysis': [{'lex': 'на', 'wt': 0.9989522965, 'gr': 'PR='}], 'text': 'На'},\n",
              " {'text': ' '},\n",
              " {'analysis': [{'lex': 'пруд', 'wt': 1, 'gr': 'S,муж,неод=(дат,ед|местн,ед)'}],\n",
              "  'text': 'пруду'}]"
            ]
          },
          "metadata": {},
          "execution_count": 22
        }
      ]
    },
    {
      "cell_type": "code",
      "source": [
        "my_file_pymystem = []\n",
        "for i in range(len(doc_no_disamb)):\n",
        "    has_ana = doc_no_disamb[i].get('analysis') # return None if not present\n",
        "    if has_ana:\n",
        "        text = doc_no_disamb[i].get('text')\n",
        "        ana_no_disamb = doc_no_disamb[i].get('analysis')[0]\n",
        "        gr_no_disamb = ana_no_disamb.get('gr')\n",
        "\n",
        "        ana_with_disamb = doc_with_disamb[i].get('analysis')[0] #с лексической неоднозначностью\n",
        "        gr_with_disamb = ana_with_disamb.get('gr')\n",
        "        my_file_pymystem.append((text, gr_no_disamb, gr_with_disamb))"
      ],
      "metadata": {
        "id": "YQw2FuRFVMKg"
      },
      "execution_count": 23,
      "outputs": []
    },
    {
      "cell_type": "code",
      "source": [
        "df = pd.DataFrame(my_file_pymystem, columns=['token', 'gr_no_disamb', 'gr_with_disamb'])\n",
        "df.to_excel('my_file_pymystem.xlsx', index=False)"
      ],
      "metadata": {
        "id": "MP78oWBgVWZx"
      },
      "execution_count": 24,
      "outputs": []
    },
    {
      "cell_type": "markdown",
      "source": [
        "# **Stanza**"
      ],
      "metadata": {
        "id": "phc38aQtd8fU"
      }
    },
    {
      "cell_type": "code",
      "source": [
        "#pip install stanza"
      ],
      "metadata": {
        "collapsed": true,
        "id": "lzEuFSxBWDt0"
      },
      "execution_count": 25,
      "outputs": []
    },
    {
      "cell_type": "code",
      "source": [
        "import stanza\n",
        "nlp = stanza.Pipeline(lang='ru', processors='tokenize,pos', verbose=False)"
      ],
      "metadata": {
        "id": "rhM_VWBSeA1H",
        "colab": {
          "base_uri": "https://localhost:8080/"
        },
        "outputId": "dfff1233-5029-45e7-f24c-5744dde304db"
      },
      "execution_count": 26,
      "outputs": [
        {
          "output_type": "stream",
          "name": "stderr",
          "text": [
            "/usr/local/lib/python3.10/dist-packages/stanza/models/tokenization/trainer.py:82: FutureWarning: You are using `torch.load` with `weights_only=False` (the current default value), which uses the default pickle module implicitly. It is possible to construct malicious pickle data which will execute arbitrary code during unpickling (See https://github.com/pytorch/pytorch/blob/main/SECURITY.md#untrusted-models for more details). In a future release, the default value for `weights_only` will be flipped to `True`. This limits the functions that could be executed during unpickling. Arbitrary objects will no longer be allowed to be loaded via this mode unless they are explicitly allowlisted by the user via `torch.serialization.add_safe_globals`. We recommend you start setting `weights_only=True` for any use case where you don't have full control of the loaded file. Please open an issue on GitHub for any issues related to this experimental feature.\n",
            "  checkpoint = torch.load(filename, lambda storage, loc: storage)\n",
            "/usr/local/lib/python3.10/dist-packages/stanza/models/pos/trainer.py:139: FutureWarning: You are using `torch.load` with `weights_only=False` (the current default value), which uses the default pickle module implicitly. It is possible to construct malicious pickle data which will execute arbitrary code during unpickling (See https://github.com/pytorch/pytorch/blob/main/SECURITY.md#untrusted-models for more details). In a future release, the default value for `weights_only` will be flipped to `True`. This limits the functions that could be executed during unpickling. Arbitrary objects will no longer be allowed to be loaded via this mode unless they are explicitly allowlisted by the user via `torch.serialization.add_safe_globals`. We recommend you start setting `weights_only=True` for any use case where you don't have full control of the loaded file. Please open an issue on GitHub for any issues related to this experimental feature.\n",
            "  checkpoint = torch.load(filename, lambda storage, loc: storage)\n",
            "/usr/local/lib/python3.10/dist-packages/stanza/models/common/pretrain.py:56: FutureWarning: You are using `torch.load` with `weights_only=False` (the current default value), which uses the default pickle module implicitly. It is possible to construct malicious pickle data which will execute arbitrary code during unpickling (See https://github.com/pytorch/pytorch/blob/main/SECURITY.md#untrusted-models for more details). In a future release, the default value for `weights_only` will be flipped to `True`. This limits the functions that could be executed during unpickling. Arbitrary objects will no longer be allowed to be loaded via this mode unless they are explicitly allowlisted by the user via `torch.serialization.add_safe_globals`. We recommend you start setting `weights_only=True` for any use case where you don't have full control of the loaded file. Please open an issue on GitHub for any issues related to this experimental feature.\n",
            "  data = torch.load(self.filename, lambda storage, loc: storage)\n",
            "/usr/local/lib/python3.10/dist-packages/stanza/models/common/char_model.py:271: FutureWarning: You are using `torch.load` with `weights_only=False` (the current default value), which uses the default pickle module implicitly. It is possible to construct malicious pickle data which will execute arbitrary code during unpickling (See https://github.com/pytorch/pytorch/blob/main/SECURITY.md#untrusted-models for more details). In a future release, the default value for `weights_only` will be flipped to `True`. This limits the functions that could be executed during unpickling. Arbitrary objects will no longer be allowed to be loaded via this mode unless they are explicitly allowlisted by the user via `torch.serialization.add_safe_globals`. We recommend you start setting `weights_only=True` for any use case where you don't have full control of the loaded file. Please open an issue on GitHub for any issues related to this experimental feature.\n",
            "  state = torch.load(filename, lambda storage, loc: storage)\n"
          ]
        }
      ]
    },
    {
      "cell_type": "code",
      "source": [
        "my_file_stanza = []\n",
        "doc = nlp(my_file)\n",
        "for sentence in doc.sentences:\n",
        "    for word in sentence.words:\n",
        "        my_file_stanza.append((word.text, word.upos, word.feats))"
      ],
      "metadata": {
        "id": "hSoQDGWGWIDS"
      },
      "execution_count": 27,
      "outputs": []
    },
    {
      "cell_type": "code",
      "source": [
        "df = pd.DataFrame(my_file_stanza, columns=['text', 'upos', 'feats'])\n",
        "df.to_excel('brusov_stanza.xlsx', index=False)"
      ],
      "metadata": {
        "id": "iL4cQLPHWpm7"
      },
      "execution_count": 28,
      "outputs": []
    },
    {
      "cell_type": "markdown",
      "source": [
        "# **UDpipe**"
      ],
      "metadata": {
        "id": "sdFds6Q7Wwke"
      }
    },
    {
      "cell_type": "markdown",
      "source": [
        "UDpipe у меня по-прежнему не работает, просто выдаёт ошибку \"сеанс прекращён по неизвестной причине\""
      ],
      "metadata": {
        "id": "_JEB7CxOXqT_"
      }
    },
    {
      "cell_type": "code",
      "source": [
        "#pip install ufal.udpipe"
      ],
      "metadata": {
        "collapsed": true,
        "id": "tcGKtsKPWu9v"
      },
      "execution_count": 29,
      "outputs": []
    },
    {
      "cell_type": "code",
      "source": [
        "from ufal.udpipe import Model, Pipeline\n",
        "model = Model.load('russian-ud-2.0-170801.udpipe')\n",
        "pipeline = Pipeline(model, 'tokenize', Pipeline.DEFAULT, Pipeline.DEFAULT, 'conllu')"
      ],
      "metadata": {
        "id": "DLhKRcm9XEBl"
      },
      "execution_count": 30,
      "outputs": []
    },
    {
      "cell_type": "code",
      "source": [
        "'''tokenized = pipeline.process(my_file)\n",
        "my_file_ud = []\n",
        "for i, sent in enumerate(tokenized.split('\\n\\n')):\n",
        "    for j, token in enumerate(sent.split('\\n')):\n",
        "        if (not token.startswith('#')) and token:\n",
        "            my_file_ud.append(token.split('\\t')[1:6])'''"
      ],
      "metadata": {
        "colab": {
          "base_uri": "https://localhost:8080/",
          "height": 70
        },
        "id": "rJ83IovbXJ3D",
        "outputId": "89e16f3d-9c14-4740-a466-ad94ca24448a"
      },
      "execution_count": 31,
      "outputs": [
        {
          "output_type": "execute_result",
          "data": {
            "text/plain": [
              "\"tokenized = pipeline.process(my_file)\\nmy_file_ud = []\\nfor i, sent in enumerate(tokenized.split('\\n\\n')):\\n    for j, token in enumerate(sent.split('\\n')):\\n        if (not token.startswith('#')) and token:\\n            my_file_ud.append(token.split('\\t')[1:6])\""
            ],
            "application/vnd.google.colaboratory.intrinsic+json": {
              "type": "string"
            }
          },
          "metadata": {},
          "execution_count": 31
        }
      ]
    },
    {
      "cell_type": "code",
      "source": [
        "#my_file_ud[12]"
      ],
      "metadata": {
        "collapsed": true,
        "id": "Y31pnQsnXYQ8"
      },
      "execution_count": 32,
      "outputs": []
    }
  ]
}