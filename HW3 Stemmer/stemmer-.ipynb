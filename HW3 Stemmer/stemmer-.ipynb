{
 "cells": [
  {
   "cell_type": "code",
   "execution_count": 20,
   "metadata": {},
   "outputs": [
    {
     "name": "stdout",
     "output_type": "stream",
     "text": [
      "Enden ---> Ende\n",
      "Herzens ---> Herz\n",
      "Dörfer ---> Dörf\n",
      "Tage ---> Tag\n",
      "Autos ---> Auto\n",
      "Parks ---> Park\n",
      "Tischlein ---> Tisch\n"
     ]
    }
   ],
   "source": [
    "from nltk.stem import RegexpStemmer\n",
    "regexp = RegexpStemmer('n$|ens$|lein$|en$|s$|er$|e$|in$|ung$|es$', min=4)\n",
    "words = ['Enden', 'Herzens','Dörfer','Tage','Autos','Parks', 'Tischlein', 'Verkäuferin', 'Festung', 'Kindes']\n",
    "for word in words:\n",
    "    print(word,\"--->\",regexp.stem(word))\n"
   ]
  },
  {
   "cell_type": "code",
   "execution_count": 21,
   "metadata": {},
   "outputs": [
    {
     "name": "stdout",
     "output_type": "stream",
     "text": [
      "end\n",
      "herz\n",
      "dorf\n",
      "tag\n",
      "autos\n",
      "park\n",
      "tischlein\n"
     ]
    }
   ],
   "source": [
    "from nltk.stem.snowball import SnowballStemmer\n",
    "stemmer = SnowballStemmer(\"german\")\n",
    "words = ['Enden', 'Herzens','Dörfer','Tage','Autos','Parks', 'Tischlein']\n",
    "for word in words:   \n",
    "    print(stemmer.stem(word))\n"
   ]
  },
  {
   "cell_type": "code",
   "execution_count": 22,
   "metadata": {},
   "outputs": [
    {
     "name": "stdout",
     "output_type": "stream",
     "text": [
      "Enden ---> end\n",
      "Herzens ---> herz\n",
      "Dörfer ---> dörfer\n",
      "Tage ---> tag\n",
      "Autos ---> auto\n",
      "Parks ---> park\n",
      "Tischlein ---> tischlein\n"
     ]
    }
   ],
   "source": [
    "from nltk.stem import LancasterStemmer\n",
    "lancaster = LancasterStemmer()\n",
    "words = ['Enden', 'Herzens','Dörfer','Tage','Autos','Parks','Tischlein']\n",
    "for word in words:\n",
    "\tprint(word,\"--->\",lancaster.stem(word))\n",
    " "
   ]
  },
  {
   "cell_type": "code",
   "execution_count": 23,
   "metadata": {},
   "outputs": [
    {
     "name": "stdout",
     "output_type": "stream",
     "text": [
      "Word                Snowball Stemmer    Lancaster Stemmer   Regexp Stemmer                \n",
      "Enden               end                 end                 End                           \n",
      "Herzens             herz                herz                Herz                          \n",
      "Dörfer              dorf                dörfer              Dörf                          \n",
      "Tage                tag                 tag                 Tag                           \n",
      "Autos               autos               auto                Auto                          \n",
      "Parks               park                park                Park                          \n",
      "Tischlein           tischlein           tischlein           Tisch                         \n",
      "Verkäuferin         verkauferin         verkäuferin         Verkäufer                     \n",
      "Festung             festung             festung             Fest                          \n",
      "Kindes              kind                kind                Kind                          \n"
     ]
    }
   ],
   "source": [
    "from nltk.stem import SnowballStemmer, LancasterStemmer, RegexpStemmer\n",
    "lancaster = LancasterStemmer()\n",
    "snowball = SnowballStemmer(language='german')\n",
    "regexp = RegexpStemmer('n$|ens$|lein$|en$|s$|er$|e$|in$|ung$|es$', min=4)\n",
    "word_list = ['Enden', 'Herzens','Dörfer','Tage','Autos','Parks', 'Tischlein', 'Verkäuferin', 'Festung', 'Kindes']\n",
    "print(\"{0:20}{1:20}{2:20}{3:30}\".format(\"Word\",\"Snowball Stemmer\",\"Lancaster Stemmer\",'Regexp Stemmer'))\n",
    "for word in word_list:\n",
    "    print(\"{0:20}{1:20}{2:20}{3:30}\".format(word,snowball.stem(word),lancaster.stem(word),regexp.stem(word)))\n"
   ]
  }
 ],
 "metadata": {
  "kernelspec": {
   "display_name": "Python 3",
   "language": "python",
   "name": "python3"
  },
  "language_info": {
   "codemirror_mode": {
    "name": "ipython",
    "version": 3
   },
   "file_extension": ".py",
   "mimetype": "text/x-python",
   "name": "python",
   "nbconvert_exporter": "python",
   "pygments_lexer": "ipython3",
   "version": "3.12.6"
  }
 },
 "nbformat": 4,
 "nbformat_minor": 2
}
