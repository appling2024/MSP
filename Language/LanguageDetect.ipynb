{
 "cells": [
  {
   "metadata": {},
   "cell_type": "markdown",
   "source": "TXT",
   "id": "a6a457a227aa019d"
  },
  {
   "metadata": {
    "ExecuteTime": {
     "end_time": "2024-09-19T19:23:57.718997Z",
     "start_time": "2024-09-19T19:23:57.715591Z"
    }
   },
   "cell_type": "code",
   "source": [
    "with open (\"TextFr.txt\",\"r\", encoding='utf-8') as f:\n",
    "    text_fr = f.read()"
   ],
   "id": "7c073f82004594b6",
   "outputs": [],
   "execution_count": 15
  },
  {
   "metadata": {
    "ExecuteTime": {
     "end_time": "2024-09-19T19:26:21.742143Z",
     "start_time": "2024-09-19T19:26:21.738269Z"
    }
   },
   "cell_type": "code",
   "source": [
    "with open (\"TextEn.txt\",\"r\", encoding='utf-8') as f:\n",
    "    text_en = f.read()"
   ],
   "id": "99cbf5badf564977",
   "outputs": [],
   "execution_count": 17
  },
  {
   "metadata": {},
   "cell_type": "markdown",
   "source": "LANGID",
   "id": "700f9970c1e8d5b1"
  },
  {
   "metadata": {
    "ExecuteTime": {
     "end_time": "2024-09-19T19:26:54.627805Z",
     "start_time": "2024-09-19T19:26:54.599883Z"
    }
   },
   "cell_type": "code",
   "source": [
    "import langid\n",
    "langid.classify(text_fr), langid.classify(text_en)"
   ],
   "id": "3f8801ca0bf599e0",
   "outputs": [
    {
     "data": {
      "text/plain": [
       "(('fr', -16929.329955101013), ('en', -9266.658577919006))"
      ]
     },
     "execution_count": 19,
     "metadata": {},
     "output_type": "execute_result"
    }
   ],
   "execution_count": 19
  },
  {
   "metadata": {},
   "cell_type": "markdown",
   "source": "LANGDETECT",
   "id": "30dedb0a386a384e"
  },
  {
   "metadata": {
    "ExecuteTime": {
     "end_time": "2024-09-19T19:29:43.701714Z",
     "start_time": "2024-09-19T19:29:43.560781Z"
    }
   },
   "cell_type": "code",
   "source": [
    "from langdetect import detect\n",
    "detect(text_fr), detect(text_en)"
   ],
   "id": "de6363934ace91b0",
   "outputs": [
    {
     "data": {
      "text/plain": [
       "('fr', 'en')"
      ]
     },
     "execution_count": 21,
     "metadata": {},
     "output_type": "execute_result"
    }
   ],
   "execution_count": 21
  }
 ],
 "metadata": {
  "kernelspec": {
   "display_name": "Python 3",
   "language": "python",
   "name": "python3"
  },
  "language_info": {
   "codemirror_mode": {
    "name": "ipython",
    "version": 2
   },
   "file_extension": ".py",
   "mimetype": "text/x-python",
   "name": "python",
   "nbconvert_exporter": "python",
   "pygments_lexer": "ipython2",
   "version": "2.7.6"
  }
 },
 "nbformat": 4,
 "nbformat_minor": 5
}
