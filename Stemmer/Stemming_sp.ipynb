{
 "cells": [
  {
   "cell_type": "code",
   "id": "initial_id",
   "metadata": {
    "collapsed": true,
    "ExecuteTime": {
     "end_time": "2024-09-27T09:07:44.402958Z",
     "start_time": "2024-09-27T09:07:44.396352Z"
    }
   },
   "source": [
    "from nltk.stem import RegexpStemmer\n",
    "regexp = RegexpStemmer('ita$|ito$|illo$|illa$|cito$|cillo$|uco$|uca$|dad$|ería$', min=4)\n",
    "words = ['casita', 'pajarito', 'bocadillo', 'bolilla', 'hombrecito', 'calzoncillo', 'ventanuca', 'liviandad', 'frutería']\n",
    "for word in words:\n",
    "    print(word,\"--->\",regexp.stem(word))"
   ],
   "outputs": [
    {
     "name": "stdout",
     "output_type": "stream",
     "text": [
      "casita ---> cas\n",
      "pajarito ---> pajar\n",
      "bocadillo ---> bocad\n",
      "bolilla ---> bol\n",
      "hombrecito ---> hombre\n",
      "calzoncillo ---> calzon\n",
      "ventanuca ---> ventan\n",
      "liviandad ---> livian\n",
      "frutería ---> frut\n"
     ]
    }
   ],
   "execution_count": 8
  },
  {
   "metadata": {},
   "cell_type": "code",
   "outputs": [],
   "execution_count": null,
   "source": "",
   "id": "27f7fe1e9d239697"
  }
 ],
 "metadata": {
  "kernelspec": {
   "display_name": "Python 3",
   "language": "python",
   "name": "python3"
  },
  "language_info": {
   "codemirror_mode": {
    "name": "ipython",
    "version": 2
   },
   "file_extension": ".py",
   "mimetype": "text/x-python",
   "name": "python",
   "nbconvert_exporter": "python",
   "pygments_lexer": "ipython2",
   "version": "2.7.6"
  }
 },
 "nbformat": 4,
 "nbformat_minor": 5
}
