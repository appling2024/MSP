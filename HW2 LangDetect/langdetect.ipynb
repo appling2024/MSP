{
 "cells": [
  {
   "cell_type": "code",
   "execution_count": 1,
   "metadata": {},
   "outputs": [
    {
     "name": "stdout",
     "output_type": "stream",
     "text": [
      "ru\n"
     ]
    }
   ],
   "source": [
    "import langdetect\n",
    "from langdetect import detect\n",
    "\n",
    "with open('статья.txt', 'r', encoding='utf-8') as f:\n",
    "    my_file = f.read()\n",
    "\n",
    "lang = detect(my_file)\n",
    "print(lang)"
   ]
  },
  {
   "cell_type": "code",
   "execution_count": 3,
   "metadata": {},
   "outputs": [
    {
     "name": "stdout",
     "output_type": "stream",
     "text": [
      "en\n"
     ]
    }
   ],
   "source": [
    "import langdetect\n",
    "from langdetect import detect\n",
    "\n",
    "with open('en.txt', 'r', encoding='utf-8') as f:\n",
    "    my_file = f.read()\n",
    "\n",
    "lang = detect(my_file)\n",
    "print(lang)"
   ]
  },
  {
   "cell_type": "code",
   "execution_count": 4,
   "metadata": {},
   "outputs": [
    {
     "name": "stdout",
     "output_type": "stream",
     "text": [
      "fr\n"
     ]
    }
   ],
   "source": [
    "import langdetect\n",
    "from langdetect import detect\n",
    "\n",
    "with open('fr.txt', 'r', encoding='utf-8') as f:\n",
    "    my_file = f.read()\n",
    "\n",
    "lang = detect(my_file)\n",
    "print(lang)"
   ]
  },
  {
   "cell_type": "code",
   "execution_count": 5,
   "metadata": {},
   "outputs": [
    {
     "name": "stdout",
     "output_type": "stream",
     "text": [
      "('ru', -176565.37470817566)\n"
     ]
    }
   ],
   "source": [
    "import langid\n",
    "\n",
    "with open('статья.txt', 'r', encoding='utf-8') as f:\n",
    "    my_file = f.read()\n",
    "\n",
    "lang = langid.classify(my_file)\n",
    "print(lang)\n"
   ]
  },
  {
   "cell_type": "code",
   "execution_count": 6,
   "metadata": {},
   "outputs": [
    {
     "name": "stdout",
     "output_type": "stream",
     "text": [
      "('en', -11302.599937438965)\n"
     ]
    }
   ],
   "source": [
    "import langid\n",
    "\n",
    "with open('en.txt', 'r', encoding='utf-8') as f:\n",
    "    my_file = f.read()\n",
    "\n",
    "lang = langid.classify(my_file)\n",
    "print(lang)"
   ]
  },
  {
   "cell_type": "code",
   "execution_count": 7,
   "metadata": {},
   "outputs": [
    {
     "name": "stdout",
     "output_type": "stream",
     "text": [
      "('fr', -16783.990083694458)\n"
     ]
    }
   ],
   "source": [
    "import langid\n",
    "\n",
    "with open('fr.txt', 'r', encoding='utf-8') as f:\n",
    "    my_file = f.read()\n",
    "\n",
    "lang = langid.classify(my_file)\n",
    "print(lang)\n"
   ]
  }
 ],
 "metadata": {
  "kernelspec": {
   "display_name": "Python 3",
   "language": "python",
   "name": "python3"
  },
  "language_info": {
   "codemirror_mode": {
    "name": "ipython",
    "version": 3
   },
   "file_extension": ".py",
   "mimetype": "text/x-python",
   "name": "python",
   "nbconvert_exporter": "python",
   "pygments_lexer": "ipython3",
   "version": "3.12.5"
  }
 },
 "nbformat": 4,
 "nbformat_minor": 2
}
