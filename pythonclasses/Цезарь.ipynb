{
 "cells": [
  {
   "cell_type": "code",
   "execution_count": 7,
   "metadata": {},
   "outputs": [
    {
     "name": "stdout",
     "output_type": "stream",
     "text": [
      "Обычный\n"
     ]
    }
   ],
   "source": [
    "# ДОДОЛНИТЕЛЬНАЯ ЗАДАЧКА!\n",
    "# Некоторые пассажиры считают билет счастливым, если сумма первых трех цифр\n",
    "# номера билета совпадает с суммой последних трех цифр.\n",
    "# Напишите программу, которая проверяет, счастливый ли билет.\n",
    "# Пользователя просят ввести номер билета.\n",
    "# Выводить надо только слово \"Счастливый\" или \"Обычный\".\n",
    "# Используйте срезы.\n",
    "num = int(input())\n",
    "\n",
    "digit6 = num % 10              \n",
    "digit5 = (num // 10) % 10        \n",
    "digit4 = (num // 100) % 10       \n",
    "digit3 = (num // 1000) % 10      \n",
    "digit2 = (num // 10000) % 10     \n",
    "digit1 = (num // 100000) % 10    \n",
    "\n",
    "if digit1+digit2+digit3 == digit4+digit5+digit6:\n",
    "    print('Счастливый')\n",
    "else:\n",
    "    print('Обычный')\n"
   ]
  },
  {
   "cell_type": "code",
   "execution_count": 20,
   "metadata": {},
   "outputs": [
    {
     "name": "stdout",
     "output_type": "stream",
     "text": [
      "Счастливый\n"
     ]
    }
   ],
   "source": [
    "ticket_number = input(\"Номер билета: \")\n",
    "\n",
    "if len(ticket_number) == 6:\n",
    "     \n",
    "    first_half = ticket_number[:3]\n",
    "    second_half = ticket_number[3:] \n",
    "    sum_first_half = int(first_half[0]) + int(first_half[1]) + int(first_half[2])\n",
    "    sum_second_half = int(second_half[0]) + int(second_half[1]) + int(second_half[2])\n",
    "    if sum_first_half == sum_second_half:\n",
    "        print(\"Счастливый\")\n",
    "    else:\n",
    "        print(\"Обычный\")\n",
    "else:\n",
    "     print(\"Ошибка\")\n"
   ]
  },
  {
   "cell_type": "code",
   "execution_count": 21,
   "metadata": {},
   "outputs": [
    {
     "name": "stdout",
     "output_type": "stream",
     "text": [
      "хфск\n"
     ]
    }
   ],
   "source": [
    "rus_alphabet = 'абвгдеёжзийклмнопрстуфхцчшщьыъэюя'\n",
    "shift = 6\n",
    "original = input('Что зашифровано: ')\n",
    "final = \"\"\n",
    "\n",
    "for letter in original:\n",
    "    if letter in rus_alphabet:\n",
    "        index = rus_alphabet.index(letter)\n",
    "        new_index = (index + shift) % len(rus_alphabet)\n",
    "        final = final + rus_alphabet[new_index]\n",
    "    else:\n",
    "        final = final + letter\n",
    "\n",
    "print(final)\n"
   ]
  },
  {
   "cell_type": "code",
   "execution_count": 2,
   "metadata": {},
   "outputs": [
    {
     "name": "stdout",
     "output_type": "stream",
     "text": [
      "ер\n"
     ]
    }
   ],
   "source": [
    "rus_alphabet = 'абвгдеёжзийклмнопрстуфхцчшщьыъэюя'\n",
    "original = input('Что зашифровано: ')\n",
    "\n",
    "shifted_alphabet = rus_alphabet[6:] + rus_alphabet[:6]\n",
    "final = \"\"\n",
    "\n",
    "for letter in original:\n",
    "    if letter in rus_alphabet:\n",
    "        index = rus_alphabet.index(letter)\n",
    "        final = final + shifted_alphabet[index]\n",
    "    else:\n",
    "        final = final + letter\n",
    "\n",
    "print(final)\n"
   ]
  }
 ],
 "metadata": {
  "kernelspec": {
   "display_name": "Python 3",
   "language": "python",
   "name": "python3"
  },
  "language_info": {
   "codemirror_mode": {
    "name": "ipython",
    "version": 3
   },
   "file_extension": ".py",
   "mimetype": "text/x-python",
   "name": "python",
   "nbconvert_exporter": "python",
   "pygments_lexer": "ipython3",
   "version": "3.12.5"
  }
 },
 "nbformat": 4,
 "nbformat_minor": 2
}
