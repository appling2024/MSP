{
 "cells": [
  {
   "cell_type": "code",
   "execution_count": 2,
   "metadata": {},
   "outputs": [
    {
     "name": "stdout",
     "output_type": "stream",
     "text": [
      "Adaline, Adelaide, Adele, Adolphine, Agnes, Alberta, Albertina, Alethea, Alexandrina, Alice, Amelia, Anne, Bathildis, Beatrice, Bertha, Edwina, Eleanor, Elisabeth, Elizabeth, Ernestine, Eugenie, Olga, Ophelia, Vera, Victoria\n"
     ]
    }
   ],
   "source": [
    "dads_setnames = {'Abigail', 'Adaline', 'Adelaide', 'Adele', 'Albertina', 'Alethea', 'Ophelia'}\n",
    "moms_setnames = {'Abigail', 'Alexandra', 'Augusta', 'Louise', 'Frederica', 'Sophie', 'Henrietta', 'Amelia Theresa'}\n",
    "grandpa_letters = {'A', 'O', 'E', 'V', 'B'}\n",
    "\n",
    "with open('princess.txt' , 'r' , encoding='utf-8') as f:\n",
    "  file_text = f.read()\n",
    "\n",
    "file_splitted = file_text.split()\n",
    "names = set(file_splitted)\n",
    "names.update(dads_setnames)\n",
    "names = names - moms_setnames\n",
    "final = [name for name in names\n",
    "         if name[0] in grandpa_letters]\n",
    "\n",
    "names_string = ', '.join(sorted(final))\n",
    "print(names_string)\n",
    "\n",
    "\n",
    "\n",
    "\n",
    "\n"
   ]
  },
  {
   "cell_type": "code",
   "execution_count": 30,
   "metadata": {},
   "outputs": [
    {
     "name": "stdout",
     "output_type": "stream",
     "text": [
      "Уникальные имена: {'Лена', 'Вася', 'Саша', 'Джон', 'Глеб', 'Таня', 'Илон', 'Петя'}\n",
      "Ягоды, собранные Васей: 234\n",
      "Ягоды, собранные Джоном: 254\n"
     ]
    }
   ],
   "source": [
    "with open('berries.txt', 'r') as f:\n",
    "    file_lines = f.readlines()\n",
    "\n",
    "data = [line.split() for line in file_lines]  \n",
    "\n",
    "names_set = set(name for name, _ in data)\n",
    "print(\"Уникальные имена:\", names_set)\n",
    "\n",
    "vasya_count = sum(int(amount) for name, amount in data if name == \"Вася\")\n",
    "john_count = sum(int(amount) for name, amount in data if name == \"Джон\")\n",
    "\n",
    "print(\"Ягоды, собранные Васей:\", vasya_count)\n",
    "print(\"Ягоды, собранные Джоном:\", john_count)\n"
   ]
  },
  {
   "cell_type": "code",
   "execution_count": 10,
   "metadata": {},
   "outputs": [
    {
     "name": "stdout",
     "output_type": "stream",
     "text": [
      "1473\n",
      "Ягоды, собранные Васей: 234 Приходил 50 раз\n",
      "Ягоды, собранные Джоном: 254 Приходил 51 раз\n"
     ]
    }
   ],
   "source": [
    "# with open('berries.txt') as f:\n",
    "#     for line in f:\n",
    "#         print(line, end='')\n",
    "names = set()\n",
    "total = 0\n",
    "vasya = 0\n",
    "vasya_times = 0\n",
    "john = 0\n",
    "john_times = 0\n",
    "\n",
    "with open('berries.txt') as f:\n",
    "     for line in f:\n",
    "        items = line.split()\n",
    "        weigth = int(items[1])\n",
    "\n",
    "        names.add(items[0])\n",
    "        total = total + weigth\n",
    "        if items[0] == 'Вася':\n",
    "            vasya += weigth\n",
    "            vasya_times += 1\n",
    "        if items[0] == 'Джон':\n",
    "            john += weigth\n",
    "            john_times += 1\n",
    "\n",
    "print(total)\n",
    "print(\"Ягоды, собранные Васей:\", vasya, 'Приходил', vasya_times, 'раз')\n",
    "print(\"Ягоды, собранные Джоном:\", john, 'Приходил', john_times, 'раз')"
   ]
  },
  {
   "cell_type": "code",
   "execution_count": 6,
   "metadata": {},
   "outputs": [
    {
     "name": "stdout",
     "output_type": "stream",
     "text": [
      "Всего 203\n",
      "{'Аня', 'Юля', 'Лена', 'Яна', 'Таня', 'Надя', 'Света'}\n",
      "Лена 102\n",
      "Надя 75\n",
      "Среднее 88.5\n",
      "Команды с Леной и Надей 5\n"
     ]
    }
   ],
   "source": [
    "names = set()\n",
    "total = 0\n",
    "lena = 0\n",
    "nadya = 0\n",
    "total_team_nadya = 0\n",
    "total_team_lena = 0\n",
    "both = 0\n",
    "with open('results.txt') as f:\n",
    "     for line in f:\n",
    "        items = line.split()\n",
    "        team_names = set(items[:-1])\n",
    "        names.update(team_names)\n",
    "        points = int(items[-1])\n",
    "        total = points + total\n",
    "        if 'Лена' in team_names:\n",
    "            lena += points\n",
    "        if 'Надя' in team_names:\n",
    "            nadya += points\n",
    "        if 'Лена' in team_names and 'Надя' in team_names:\n",
    "            both += 1\n",
    "average = (nadya+lena)/2\n",
    "print('Всего',total)\n",
    "print(names)\n",
    "print('Лена', lena)\n",
    "print('Надя', nadya)\n",
    "print('Среднее', average)\n",
    "print('Команды с Леной и Надей', both)\n"
   ]
  }
 ],
 "metadata": {
  "kernelspec": {
   "display_name": "Python 3",
   "language": "python",
   "name": "python3"
  },
  "language_info": {
   "codemirror_mode": {
    "name": "ipython",
    "version": 3
   },
   "file_extension": ".py",
   "mimetype": "text/x-python",
   "name": "python",
   "nbconvert_exporter": "python",
   "pygments_lexer": "ipython3",
   "version": "3.12.5"
  }
 },
 "nbformat": 4,
 "nbformat_minor": 2
}
