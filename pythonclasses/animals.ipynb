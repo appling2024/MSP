{
 "cells": [
  {
   "cell_type": "code",
   "execution_count": 105,
   "metadata": {},
   "outputs": [
    {
     "name": "stdout",
     "output_type": "stream",
     "text": [
      "Всего птиц: 27\n",
      "Всего животных: 8\n",
      "Общее количество: 40\n",
      "\n",
      "Полный список животных:\n",
      "коровы — 2\n",
      "козы — 4\n",
      "курицы — 14\n",
      "канарейки — 2\n",
      "перепелки — 15\n",
      "кошки — 4\n",
      "собаки — 2\n",
      "морские свинки — 2\n",
      "лошади — 1\n",
      "утки — 1\n",
      "страусы — 2\n",
      "шиншилла — 1\n",
      "Самое частое животное: перепелки , их —  15\n",
      "Обновленный список животных после добавления от соседки:\n",
      "коровы — 2\n",
      "козы — 4\n",
      "курицы — 14\n",
      "канарейки — 2\n",
      "перепелки — 15\n",
      "кошки — 4\n",
      "собаки — 2\n",
      "морские свинки — 2\n",
      "лошади — 1\n",
      "утки — 1\n",
      "страусы — 2\n",
      "шиншилла — 1\n"
     ]
    }
   ],
   "source": [
    "animals_dict = {'коровы': 2, 'козы': 4, 'курицы': 10, 'канарейки': 2,\n",
    "'перепелки': 15, 'кошки': 3, 'собаки': 2, 'морские свинки': 2}\n",
    "birds = ['курицы', 'утки', 'перепелки', 'канарейки']\n",
    "pets = ['кошки', 'морские свинки', 'канарейки']\n",
    "neighbor_animals = {'козы': 2, 'курицы': 4, 'утки': 1, 'страусы': 2, 'шиншилла': 1}\n",
    "animals_dict['лошади'] = 1\n",
    "animals_dict['кошки'] += 1\n",
    "animals_dict['козы'] -= 2 \n",
    "total_amount = 0\n",
    "total_birds = 0\n",
    "total_pets = 0\n",
    "max_num = 0\n",
    "max_name = \"\"\n",
    "\n",
    "for i, animal in animals_dict.items():\n",
    "        total_amount += animal\n",
    "        if i in birds:\n",
    "            total_birds += animal\n",
    "        if i in pets:\n",
    "            total_pets += animal\n",
    "        if animal > max_num:\n",
    "            max_num = animal\n",
    "            max_name = i\n",
    "\n",
    "for animal, count in neighbor_animals.items():\n",
    "    if animal in animals_dict:\n",
    "        animals_dict[animal] += count\n",
    "    else:\n",
    "        animals_dict[animal] = count\n",
    "\n",
    "print('Всего птиц:' , total_birds)\n",
    "print('Всего животных:' , total_pets)\n",
    "print('Общее количество:' , total_amount)\n",
    "print(\"\\nПолный список животных:\")\n",
    "for i, animal in animals_dict.items():\n",
    "    print(i, '—', animal)\n",
    "print(\"Самое частое животное:\", max_name, \", их — \", max_num)\n",
    "print(\"Обновленный список животных после добавления от соседки:\")\n",
    "for i, animal in animals_dict.items():\n",
    "    print(i, '—', animal)\n"
   ]
  }
 ],
 "metadata": {
  "kernelspec": {
   "display_name": "Python 3",
   "language": "python",
   "name": "python3"
  },
  "language_info": {
   "codemirror_mode": {
    "name": "ipython",
    "version": 3
   },
   "file_extension": ".py",
   "mimetype": "text/x-python",
   "name": "python",
   "nbconvert_exporter": "python",
   "pygments_lexer": "ipython3",
   "version": "3.12.5"
  }
 },
 "nbformat": 4,
 "nbformat_minor": 2
}
