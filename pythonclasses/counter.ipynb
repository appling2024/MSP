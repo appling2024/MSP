{
 "cells": [
  {
   "cell_type": "code",
   "execution_count": 20,
   "metadata": {},
   "outputs": [
    {
     "name": "stdout",
     "output_type": "stream",
     "text": [
      "[('q', 102), ('a', 5), ('b', 5), ('w', 4), ('qqq', 1)]\n"
     ]
    }
   ],
   "source": [
    "from collections import Counter\n",
    "my_list = ['a', 'b', 'b', 'w', 'w', 'w']\n",
    "c = Counter(my_list)\n",
    "c['q'] = 6\n",
    "c['q'] = 2\n",
    "c['q'] += 100\n",
    "c['qqq'] += 1\n",
    "c.update('a')\n",
    "c.update(['a', 'b', 'w'])\n",
    "c.update('abba') \n",
    "print(c.most_common())"
   ]
  },
  {
   "cell_type": "code",
   "execution_count": 23,
   "metadata": {},
   "outputs": [
    {
     "name": "stdout",
     "output_type": "stream",
     "text": [
      "Counter({'I': 2, 'do': 1, 'not': 1, 'believe': 1, 'in': 1, 'miracles,': 1, 'rely': 1, 'on': 1, 'them': 1})\n",
      "I do not believe in miracles, I rely on them. \n",
      "I do not believe in miracles, I rely on them. \n",
      "I do not believe in miracles, I rely on them. \n",
      "\n"
     ]
    }
   ],
   "source": [
    "c1 = Counter()\n",
    "s = 'I do not believe in miracles, I rely on them'\n",
    "c1.update(s.split())\n",
    "print(c1)\n",
    "d =  'I do not believe in miracles, I rely on them. \\n'\n",
    "print(d *3)\n"
   ]
  },
  {
   "cell_type": "code",
   "execution_count": 43,
   "metadata": {},
   "outputs": [
    {
     "name": "stdout",
     "output_type": "stream",
     "text": [
      "[('the', 1034), ('I', 601), ('of', 576), ('to', 554), ('and', 509), ('a', 499), ('in', 342), ('was', 332), ('that', 240), ('her', 205)]\n"
     ]
    }
   ],
   "source": [
    "from collections import Counter\n",
    "\n",
    "c1 = Counter()\n",
    "\n",
    "with open('salinger.txt', 'r') as f:\n",
    "    for line in f:\n",
    "        tokens = line.strip().split()\n",
    "        c1.update(tokens)\n",
    "\n",
    "print(c1.most_common(10))\n"
   ]
  },
  {
   "cell_type": "code",
   "execution_count": 66,
   "metadata": {},
   "outputs": [
    {
     "name": "stdout",
     "output_type": "stream",
     "text": [
      "Ягоды 676\n",
      "Грибы 732\n",
      "\n",
      "Собиратели ягод:\n",
      "Лена 123\n",
      "Джон 75\n",
      "Саша 89\n",
      "Таня 114\n",
      "Глеб 80\n",
      "Вася 89\n",
      "Петя 100\n",
      "Илон 6\n",
      "\n",
      "Собиратели грибов:\n",
      "Джон 137\n",
      "Лена 144\n",
      "Петя 51\n",
      "Вася 114\n",
      "Саша 65\n",
      "Глеб 95\n",
      "Таня 126\n"
     ]
    }
   ],
   "source": [
    "from collections import Counter\n",
    "\n",
    "mushroom = Counter()\n",
    "berries = Counter()\n",
    "\n",
    "with open('berries_and_mushrooms.txt', 'r') as f:\n",
    "    for line in f:\n",
    "        items = line.replace(':', '').split()\n",
    "        name = items[1]\n",
    "        product = items[0]\n",
    "        weight = int(items[2])\n",
    "        if product == \"Ягоды\":\n",
    "            berries[name] += weight\n",
    "        elif product == \"Грибы\":\n",
    "            mushroom[name] += weight\n",
    "berries_count = sum(berries.values())\n",
    "mushroom_count = sum(mushroom.values())\n",
    "\n",
    "\n",
    "print(\"Ягоды\", berries_count)\n",
    "print(\"Грибы\", mushroom_count)\n",
    "print(\"\\nСобиратели ягод:\")\n",
    "for name, count in berries.items():\n",
    "    print(name , count)\n",
    "print(\"\\nСобиратели грибов:\")\n",
    "for name, count in mushroom.items():\n",
    "    print(name , count)"
   ]
  }
 ],
 "metadata": {
  "kernelspec": {
   "display_name": "Python 3",
   "language": "python",
   "name": "python3"
  },
  "language_info": {
   "codemirror_mode": {
    "name": "ipython",
    "version": 3
   },
   "file_extension": ".py",
   "mimetype": "text/x-python",
   "name": "python",
   "nbconvert_exporter": "python",
   "pygments_lexer": "ipython3",
   "version": "3.12.5"
  }
 },
 "nbformat": 4,
 "nbformat_minor": 2
}
