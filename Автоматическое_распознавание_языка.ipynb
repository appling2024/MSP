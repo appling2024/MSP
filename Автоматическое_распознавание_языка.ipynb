{
  "nbformat": 4,
  "nbformat_minor": 0,
  "metadata": {
    "colab": {
      "provenance": []
    },
    "kernelspec": {
      "name": "python3",
      "display_name": "Python 3"
    },
    "language_info": {
      "name": "python"
    }
  },
  "cells": [
    {
      "cell_type": "markdown",
      "source": [
        "**Задание:**\n",
        "\n",
        "1) Взять несколько текстов на различных языках (которые мы знаем)\n",
        "\n",
        "2) Протестировать библиотеки langid и langdetect на правильность определения языка"
      ],
      "metadata": {
        "id": "X8IlJ-3966sp"
      }
    },
    {
      "cell_type": "markdown",
      "source": [
        "Тексты, которые будем проверять.\n",
        "\n",
        "1) **ФИНСКИЙ ЯЗЫК**\n",
        "\n",
        "Suomen kieli eli suomi on uralilaisten kielten itämerensuomalaiseen ryhmään kuuluva kieli, jota puhuvat pääosin suomalaiset. Suomessa suomen kieltä puhuu äidinkielenään 4,8 miljoonaa ja toisena kielenään 0,5 miljoonaa ihmistä. Suurimmat suomea puhuvat vähemmistöt ovat Ruotsissa, Norjassa ja Venäjällä.\n",
        "\n",
        "Suomen kieli on voimakkaasti taipuva, agglutinoiva kieli. Sanajärjestys on toissijainen, lauseenjäsenten perusjärjestys on subjekti–predikaatti–objekti ja määrite käy useimmiten pääsanansa edellä. Suomessa on kahdeksan vokaalia ja 13 konsonanttia, mikäli eräitä lainasanoissa esiintyviä äänteitä ei lueta mukaan.\n",
        "\n",
        "Suomen kielen kirjoittamiseen käytetään latinalaista kirjaimistoa, johon kuuluu yhteensä 29, joskus 31, kirjainta.[3]\n",
        "\n",
        "Suomen kieltä tutkiva kielitieteen ala on fennistiikka.\n",
        "\n",
        "2) **ФРАНЦУЗСКИЙ ЯЗЫК**\n",
        "\n",
        "Le finnois est une langue finno-ougrienne, de la branche fennique de la famille des langues ouraliennes, utilisant l'alphabet latin.\n",
        "\n",
        "Le finnois est parlé dans l'ensemble de la Finlande, à l'exclusion des îles Åland qui sont majoritairement suédophones. Il l'est également en Russie, dans la république autonome de Carélie, où il bénéficie d'un statut officiel. Le finnois compte au total 5 millions de locuteurs, il est la langue maternelle d'environ 91 % des Finlandais1 ; en Carélie russe, le nombre des locuteurs est d'environ 70 000.\n",
        "\n",
        "Dans un ensemble de communes finlandaises localisées dans le sud-ouest et l'ouest du pays, essentiellement sur le rivage de la mer Baltique, il est parlé en concurrence avec le suédois, souvent majoritaire dans ces zones.\n",
        "\n",
        "3) **АНГЛИЙСКИЙ ЯЗЫК**\n",
        "\n",
        "Finnish is a Finnic language of the Uralic language family, spoken by the majority of the population in Finland and by ethnic Finns outside of Finland. Finnish is one of the two official languages of Finland, alongside Swedish. In Sweden, both Finnish and Meänkieli (which has significant mutual intelligibility with Finnish[5]) are official minority languages. Kven, which like Meänkieli is mutually intelligible with Finnish, is spoken in the Norwegian counties of Troms and Finnmark by a minority of Finnish descent.\n",
        "\n",
        "Finnish is typologically agglutinative[6] and uses almost exclusively suffixal affixation. Nouns, adjectives, pronouns, numerals and verbs are inflected depending on their role in the sentence. Sentences are normally formed with subject–verb–object word order, although the extensive use of inflection allows them to be ordered differently. Word order variations are often reserved for differences in information structure.[7] Finnish orthography uses a Latin-script alphabet derived from the Swedish alphabet, and is phonemic to a great extent. Vowel length and consonant length are distinguished, and there are a range of diphthongs, although vowel harmony limits which diphthongs are possible.\n",
        "\n",
        "4) **РУССКИЙ ЯЗЫК**\n",
        "\n",
        "Фи́нский язы́к (самоназвание — suomi, suomen kieli) — язык финнов и государственный язык Финляндии, относящийся к прибалтийско-финской подгруппе финно-волжской группы финно-угорских языков уральской языковой семьи. Близок таким языкам, как например карельский, вепсский и эстонский. Письменность — на основе латиницы (см. финский алфавит).\n",
        "\n",
        "Делится на множество диалектов; письменный и разговорный языки также имеют существенные отличия. Является агглютинативным языком номинативного строя со значительными элементами флективности. В фонетике финскому языку, как и многим другим финно-угорским, свойственен сингармонизм; существенное значение несёт различение гласных и согласных звуков по долготе.\n",
        "\n",
        "На протяжении всей истории на финский язык влияло множестве соседних языков, что сильно отразилось, в частности, на его лексическом составе (в виде многочисленных заимствований).\n",
        "\n",
        "Большинство современных носителей проживает в Финляндии; в 2012 году финский язык насчитывал 5 413 380 носителей. Это один из 24 официальных языков Европейского союза.\n",
        "\n",
        "5) **ИСПАНСКИЙ ЯЗЫК**\n",
        "\n",
        "El finés, finlandés o idioma finés es, junto al sueco, el idioma oficial de Finlandia. Lo hablan unos 5,3 millones de personas y es la lengua materna del 91,9% de la población finlandesa (2004). Igualmente, lo hablan medio millón de personas en Suecia, Noruega, Estonia y Rusia, así como en Estados Unidos, Canadá y Australia, donde hay un grupo mayoritario de inmigrantes de origen finés.\n",
        "El finés es una lengua fino-úgrica, una rama de las lenguas urálicas. Está estrechamente emparentado con el estonio, con el que comparte muchas características y vocabulario. Los únicos otros idiomas relacionados, si bien mucho más lejanamente, son el húngaro, las lenguas sami (laponas), y las lenguas pérmicas (udmurto, komi, mari) y mordovas (erzya y moksha), habladas por pequeños grupos en Siberia y el sur de Rusia. Es una lengua altamente flexiva."
      ],
      "metadata": {
        "id": "spZltNRu8Lrr"
      }
    },
    {
      "cell_type": "markdown",
      "source": [
        "# **Библиотека langid**"
      ],
      "metadata": {
        "id": "lx9uEdEV9VHM"
      }
    },
    {
      "cell_type": "code",
      "execution_count": 1,
      "metadata": {
        "colab": {
          "base_uri": "https://localhost:8080/"
        },
        "collapsed": true,
        "id": "09vgDZnv60b8",
        "outputId": "7d24dae4-3f64-4134-fb56-7548b1675c13"
      },
      "outputs": [
        {
          "output_type": "stream",
          "name": "stdout",
          "text": [
            "Collecting langid\n",
            "  Downloading langid-1.1.6.tar.gz (1.9 MB)\n",
            "\u001b[2K     \u001b[90m━━━━━━━━━━━━━━━━━━━━━━━━━━━━━━━━━━━━━━━━\u001b[0m \u001b[32m1.9/1.9 MB\u001b[0m \u001b[31m12.9 MB/s\u001b[0m eta \u001b[36m0:00:00\u001b[0m\n",
            "\u001b[?25h  Preparing metadata (setup.py) ... \u001b[?25l\u001b[?25hdone\n",
            "Requirement already satisfied: numpy in /usr/local/lib/python3.10/dist-packages (from langid) (1.26.4)\n",
            "Building wheels for collected packages: langid\n",
            "  Building wheel for langid (setup.py) ... \u001b[?25l\u001b[?25hdone\n",
            "  Created wheel for langid: filename=langid-1.1.6-py3-none-any.whl size=1941171 sha256=7e08ca21ecd137a3b1c1be6bad584240cefd08c4702bab09e943e37c59e65f19\n",
            "  Stored in directory: /root/.cache/pip/wheels/23/c8/c6/eed80894918490a175677414d40bd7c851413bbe03d4856c3c\n",
            "Successfully built langid\n",
            "Installing collected packages: langid\n",
            "Successfully installed langid-1.1.6\n"
          ]
        }
      ],
      "source": [
        "pip install langid"
      ]
    },
    {
      "cell_type": "code",
      "source": [
        "import langid"
      ],
      "metadata": {
        "id": "R_O6f8apjsdG"
      },
      "execution_count": 3,
      "outputs": []
    },
    {
      "cell_type": "code",
      "source": [
        "L = ['''Suomen kieli eli suomi on uralilaisten kielten itämerensuomalaiseen ryhmään kuuluva kieli, jota puhuvat pääosin suomalaiset. Suomessa suomen kieltä puhuu äidinkielenään 4,8 miljoonaa ja toisena kielenään 0,5 miljoonaa ihmistä. Suurimmat suomea puhuvat vähemmistöt ovat Ruotsissa, Norjassa ja Venäjällä.\n",
        "\n",
        "Suomen kieli on voimakkaasti taipuva, agglutinoiva kieli. Sanajärjestys on toissijainen, lauseenjäsenten perusjärjestys on subjekti–predikaatti–objekti ja määrite käy useimmiten pääsanansa edellä. Suomessa on kahdeksan vokaalia ja 13 konsonanttia, mikäli eräitä lainasanoissa esiintyviä äänteitä ei lueta mukaan.\n",
        "\n",
        "Suomen kielen kirjoittamiseen käytetään latinalaista kirjaimistoa, johon kuuluu yhteensä 29, joskus 31, kirjainta.[3]\n",
        "\n",
        "Suomen kieltä tutkiva kielitieteen ala on fennistiikka.''']\n",
        "for i in L:\n",
        "    print(langid.classify(i))"
      ],
      "metadata": {
        "colab": {
          "base_uri": "https://localhost:8080/"
        },
        "id": "0YAop7FI9sib",
        "outputId": "1c9565b4-6c4e-414a-d245-a11e1f66aed4"
      },
      "execution_count": 4,
      "outputs": [
        {
          "output_type": "stream",
          "name": "stdout",
          "text": [
            "('fi', -2451.7684202194214)\n"
          ]
        }
      ]
    },
    {
      "cell_type": "code",
      "source": [
        "L1 = ['''Le finnois est une langue finno-ougrienne, de la branche fennique de la famille des langues ouraliennes, utilisant l'alphabet latin.\n",
        "\n",
        "Le finnois est parlé dans l'ensemble de la Finlande, à l'exclusion des îles Åland qui sont majoritairement suédophones. Il l'est également en Russie, dans la république autonome de Carélie, où il bénéficie d'un statut officiel. Le finnois compte au total 5 millions de locuteurs, il est la langue maternelle d'environ 91 % des Finlandais1 ; en Carélie russe, le nombre des locuteurs est d'environ 70 000.\n",
        "\n",
        "Dans un ensemble de communes finlandaises localisées dans le sud-ouest et l'ouest du pays, essentiellement sur le rivage de la mer Baltique, il est parlé en concurrence avec le suédois, souvent majoritaire dans ces zones.''']\n",
        "for i in L1:\n",
        "    print(langid.classify(i))"
      ],
      "metadata": {
        "id": "5gHonXjP-Koc",
        "colab": {
          "base_uri": "https://localhost:8080/"
        },
        "outputId": "774dddc2-6119-46b1-9465-127811ed21e4"
      },
      "execution_count": 5,
      "outputs": [
        {
          "output_type": "stream",
          "name": "stdout",
          "text": [
            "('fr', -2581.7608613967896)\n"
          ]
        }
      ]
    },
    {
      "cell_type": "code",
      "source": [
        "L2 = ['''Finnish is a Finnic language of the Uralic language family, spoken by the majority of the population in Finland and by ethnic Finns outside of Finland. Finnish is one of the two official languages of Finland, alongside Swedish. In Sweden, both Finnish and Meänkieli (which has significant mutual intelligibility with Finnish[5]) are official minority languages. Kven, which like Meänkieli is mutually intelligible with Finnish, is spoken in the Norwegian counties of Troms and Finnmark by a minority of Finnish descent.\n",
        "\n",
        "Finnish is typologically agglutinative[6] and uses almost exclusively suffixal affixation. Nouns, adjectives, pronouns, numerals and verbs are inflected depending on their role in the sentence. Sentences are normally formed with subject–verb–object word order, although the extensive use of inflection allows them to be ordered differently. Word order variations are often reserved for differences in information structure.[7] Finnish orthography uses a Latin-script alphabet derived from the Swedish alphabet, and is phonemic to a great extent. Vowel length and consonant length are distinguished, and there are a range of diphthongs, although vowel harmony limits which diphthongs are possible.''']\n",
        "for i in L2:\n",
        "    print(langid.classify(i))"
      ],
      "metadata": {
        "colab": {
          "base_uri": "https://localhost:8080/"
        },
        "id": "-InT40zRmMGC",
        "outputId": "eda8521c-5b64-4b28-cb1d-d0de51d6c170"
      },
      "execution_count": 6,
      "outputs": [
        {
          "output_type": "stream",
          "name": "stdout",
          "text": [
            "('en', -2856.208441257477)\n"
          ]
        }
      ]
    },
    {
      "cell_type": "code",
      "source": [
        "L3 = ['''Фи́нский язы́к (самоназвание — suomi, suomen kieli) — язык финнов и государственный язык Финляндии, относящийся к прибалтийско-финской подгруппе финно-волжской группы финно-угорских языков уральской языковой семьи. Близок таким языкам, как например карельский, вепсский и эстонский. Письменность — на основе латиницы (см. финский алфавит).\n",
        "\n",
        "Делится на множество диалектов; письменный и разговорный языки также имеют существенные отличия. Является агглютинативным языком номинативного строя со значительными элементами флективности. В фонетике финскому языку, как и многим другим финно-угорским, свойственен сингармонизм; существенное значение несёт различение гласных и согласных звуков по долготе.\n",
        "\n",
        "На протяжении всей истории на финский язык влияло множестве соседних языков, что сильно отразилось, в частности, на его лексическом составе (в виде многочисленных заимствований).\n",
        "\n",
        "Большинство современных носителей проживает в Финляндии; в 2012 году финский язык насчитывал 5 413 380 носителей. Это один из 24 официальных языков Европейского союза.''']\n",
        "for i in L3:\n",
        "    print(langid.classify(i))"
      ],
      "metadata": {
        "colab": {
          "base_uri": "https://localhost:8080/"
        },
        "id": "8QLuuBiZmUf-",
        "outputId": "d3b2c52a-d793-49de-e830-8ddf17b887ec"
      },
      "execution_count": 7,
      "outputs": [
        {
          "output_type": "stream",
          "name": "stdout",
          "text": [
            "('ru', -18442.187883853912)\n"
          ]
        }
      ]
    },
    {
      "cell_type": "code",
      "source": [
        "L4 = ['''El finés, finlandés o idioma finés es, junto al sueco, el idioma oficial de Finlandia. Lo hablan unos 5,3 millones de personas y es la lengua materna del 91,9% de la población finlandesa (2004). Igualmente, lo hablan medio millón de personas en Suecia, Noruega, Estonia y Rusia, así como en Estados Unidos, Canadá y Australia, donde hay un grupo mayoritario de inmigrantes de origen finés. El finés es una lengua fino-úgrica, una rama de las lenguas urálicas. Está estrechamente emparentado con el estonio, con el que comparte muchas características y vocabulario. Los únicos otros idiomas relacionados, si bien mucho más lejanamente, son el húngaro, las lenguas sami (laponas), y las lenguas pérmicas (udmurto, komi, mari) y mordovas (erzya y moksha), habladas por pequeños grupos en Siberia y el sur de Rusia. Es una lengua altamente flexiva.''']\n",
        "for i in L4:\n",
        "    print(langid.classify(i))"
      ],
      "metadata": {
        "colab": {
          "base_uri": "https://localhost:8080/"
        },
        "id": "An4PAV8kmd_u",
        "outputId": "189b4230-c142-4d5a-8ca5-28e4ed9fbf34"
      },
      "execution_count": 8,
      "outputs": [
        {
          "output_type": "stream",
          "name": "stdout",
          "text": [
            "('es', -3271.7732288837433)\n"
          ]
        }
      ]
    },
    {
      "cell_type": "markdown",
      "source": [
        "Все языки были правильно определены"
      ],
      "metadata": {
        "id": "AsS5Skmbmp2W"
      }
    },
    {
      "cell_type": "markdown",
      "source": [
        "# **Библиотека langdetect**"
      ],
      "metadata": {
        "id": "nFVwzykIms6k"
      }
    },
    {
      "cell_type": "code",
      "source": [
        "#! pip install langdetect"
      ],
      "metadata": {
        "colab": {
          "base_uri": "https://localhost:8080/"
        },
        "collapsed": true,
        "id": "oJ4vO3TgmxCR",
        "outputId": "ac5f902e-3ec8-425d-e909-c662d583ccb2"
      },
      "execution_count": 9,
      "outputs": [
        {
          "output_type": "stream",
          "name": "stdout",
          "text": [
            "Collecting langdetect\n",
            "  Downloading langdetect-1.0.9.tar.gz (981 kB)\n",
            "\u001b[?25l     \u001b[90m━━━━━━━━━━━━━━━━━━━━━━━━━━━━━━━━━━━━━━━━\u001b[0m \u001b[32m0.0/981.5 kB\u001b[0m \u001b[31m?\u001b[0m eta \u001b[36m-:--:--\u001b[0m\r\u001b[2K     \u001b[91m━━━━━━━━━━━━━━━━━━━━━━━━━━\u001b[0m\u001b[90m╺\u001b[0m\u001b[90m━━━━━━━━━━━━━\u001b[0m \u001b[32m645.1/981.5 kB\u001b[0m \u001b[31m19.4 MB/s\u001b[0m eta \u001b[36m0:00:01\u001b[0m\r\u001b[2K     \u001b[90m━━━━━━━━━━━━━━━━━━━━━━━━━━━━━━━━━━━━━━━━\u001b[0m \u001b[32m981.5/981.5 kB\u001b[0m \u001b[31m17.1 MB/s\u001b[0m eta \u001b[36m0:00:00\u001b[0m\n",
            "\u001b[?25h  Preparing metadata (setup.py) ... \u001b[?25l\u001b[?25hdone\n",
            "Requirement already satisfied: six in /usr/local/lib/python3.10/dist-packages (from langdetect) (1.16.0)\n",
            "Building wheels for collected packages: langdetect\n",
            "  Building wheel for langdetect (setup.py) ... \u001b[?25l\u001b[?25hdone\n",
            "  Created wheel for langdetect: filename=langdetect-1.0.9-py3-none-any.whl size=993221 sha256=a3380b54fd7897cc2b5fefd509530544f0159d9f23a2fc9658a9eec31fe8c975\n",
            "  Stored in directory: /root/.cache/pip/wheels/95/03/7d/59ea870c70ce4e5a370638b5462a7711ab78fba2f655d05106\n",
            "Successfully built langdetect\n",
            "Installing collected packages: langdetect\n",
            "Successfully installed langdetect-1.0.9\n"
          ]
        }
      ]
    },
    {
      "cell_type": "code",
      "source": [
        "from langdetect import detect_langs\n",
        "detect_langs('''Suomen kieli eli suomi on uralilaisten kielten itämerensuomalaiseen ryhmään kuuluva kieli, jota puhuvat pääosin suomalaiset. Suomessa suomen kieltä puhuu äidinkielenään 4,8 miljoonaa ja toisena kielenään 0,5 miljoonaa ihmistä. Suurimmat suomea puhuvat vähemmistöt ovat Ruotsissa, Norjassa ja Venäjällä.\n",
        "\n",
        "Suomen kieli on voimakkaasti taipuva, agglutinoiva kieli. Sanajärjestys on toissijainen, lauseenjäsenten perusjärjestys on subjekti–predikaatti–objekti ja määrite käy useimmiten pääsanansa edellä. Suomessa on kahdeksan vokaalia ja 13 konsonanttia, mikäli eräitä lainasanoissa esiintyviä äänteitä ei lueta mukaan.\n",
        "\n",
        "Suomen kielen kirjoittamiseen käytetään latinalaista kirjaimistoa, johon kuuluu yhteensä 29, joskus 31, kirjainta.[3]\n",
        "\n",
        "Suomen kieltä tutkiva kielitieteen ala on fennistiikka.''')"
      ],
      "metadata": {
        "colab": {
          "base_uri": "https://localhost:8080/"
        },
        "id": "GCOVUTa0n5ai",
        "outputId": "d956c34f-ebbb-46bc-c726-7fd3044f9fc4"
      },
      "execution_count": 11,
      "outputs": [
        {
          "output_type": "execute_result",
          "data": {
            "text/plain": [
              "[fi:0.999999234179834]"
            ]
          },
          "metadata": {},
          "execution_count": 11
        }
      ]
    },
    {
      "cell_type": "code",
      "source": [
        "from langdetect import detect_langs\n",
        "detect_langs('''Le finnois est une langue finno-ougrienne, de la branche fennique de la famille des langues ouraliennes, utilisant l'alphabet latin.\n",
        "\n",
        "Le finnois est parlé dans l'ensemble de la Finlande, à l'exclusion des îles Åland qui sont majoritairement suédophones. Il l'est également en Russie, dans la république autonome de Carélie, où il bénéficie d'un statut officiel. Le finnois compte au total 5 millions de locuteurs, il est la langue maternelle d'environ 91 % des Finlandais1 ; en Carélie russe, le nombre des locuteurs est d'environ 70 000.\n",
        "\n",
        "Dans un ensemble de communes finlandaises localisées dans le sud-ouest et l'ouest du pays, essentiellement sur le rivage de la mer Baltique, il est parlé en concurrence avec le suédois, souvent majoritaire dans ces zones.''')"
      ],
      "metadata": {
        "colab": {
          "base_uri": "https://localhost:8080/"
        },
        "id": "wzeetsy6oGKY",
        "outputId": "4668d429-4d77-49f1-a495-1a333b250253"
      },
      "execution_count": 12,
      "outputs": [
        {
          "output_type": "execute_result",
          "data": {
            "text/plain": [
              "[fr:0.9999986781393394]"
            ]
          },
          "metadata": {},
          "execution_count": 12
        }
      ]
    },
    {
      "cell_type": "code",
      "source": [
        "from langdetect import detect_langs\n",
        "detect_langs('''Finnish is a Finnic language of the Uralic language family, spoken by the majority of the population in Finland and by ethnic Finns outside of Finland. Finnish is one of the two official languages of Finland, alongside Swedish. In Sweden, both Finnish and Meänkieli (which has significant mutual intelligibility with Finnish[5]) are official minority languages. Kven, which like Meänkieli is mutually intelligible with Finnish, is spoken in the Norwegian counties of Troms and Finnmark by a minority of Finnish descent.\n",
        "\n",
        "Finnish is typologically agglutinative[6] and uses almost exclusively suffixal affixation. Nouns, adjectives, pronouns, numerals and verbs are inflected depending on their role in the sentence. Sentences are normally formed with subject–verb–object word order, although the extensive use of inflection allows them to be ordered differently. Word order variations are often reserved for differences in information structure.[7] Finnish orthography uses a Latin-script alphabet derived from the Swedish alphabet, and is phonemic to a great extent. Vowel length and consonant length are distinguished, and there are a range of diphthongs, although vowel harmony limits which diphthongs are possible.''')"
      ],
      "metadata": {
        "colab": {
          "base_uri": "https://localhost:8080/"
        },
        "id": "Cxm8hjVFoOfL",
        "outputId": "67fb8de8-e560-41fd-f70e-eee34dd005f0"
      },
      "execution_count": 13,
      "outputs": [
        {
          "output_type": "execute_result",
          "data": {
            "text/plain": [
              "[en:0.9999963851578708]"
            ]
          },
          "metadata": {},
          "execution_count": 13
        }
      ]
    },
    {
      "cell_type": "code",
      "source": [
        "from langdetect import detect_langs\n",
        "detect_langs('''Фи́нский язы́к (самоназвание — suomi, suomen kieli) — язык финнов и государственный язык Финляндии, относящийся к прибалтийско-финской подгруппе финно-волжской группы финно-угорских языков уральской языковой семьи. Близок таким языкам, как например карельский, вепсский и эстонский. Письменность — на основе латиницы (см. финский алфавит).\n",
        "\n",
        "Делится на множество диалектов; письменный и разговорный языки также имеют существенные отличия. Является агглютинативным языком номинативного строя со значительными элементами флективности. В фонетике финскому языку, как и многим другим финно-угорским, свойственен сингармонизм; существенное значение несёт различение гласных и согласных звуков по долготе.\n",
        "\n",
        "На протяжении всей истории на финский язык влияло множестве соседних языков, что сильно отразилось, в частности, на его лексическом составе (в виде многочисленных заимствований).\n",
        "\n",
        "Большинство современных носителей проживает в Финляндии; в 2012 году финский язык насчитывал 5 413 380 носителей. Это один из 24 официальных языков Европейского союза.''')"
      ],
      "metadata": {
        "colab": {
          "base_uri": "https://localhost:8080/"
        },
        "id": "SRvzEgqKoU1P",
        "outputId": "a77d5ad3-d748-4487-be68-3cd5e87871e0"
      },
      "execution_count": 15,
      "outputs": [
        {
          "output_type": "execute_result",
          "data": {
            "text/plain": [
              "[ru:0.9999979607126097]"
            ]
          },
          "metadata": {},
          "execution_count": 15
        }
      ]
    },
    {
      "cell_type": "code",
      "source": [
        "from langdetect import detect_langs\n",
        "detect_langs('''El finés, finlandés o idioma finés es, junto al sueco, el idioma oficial de Finlandia. Lo hablan unos 5,3 millones de personas y es la lengua materna del 91,9% de la población finlandesa (2004). Igualmente, lo hablan medio millón de personas en Suecia, Noruega, Estonia y Rusia, así como en Estados Unidos, Canadá y Australia, donde hay un grupo mayoritario de inmigrantes de origen finés. El finés es una lengua fino-úgrica, una rama de las lenguas urálicas. Está estrechamente emparentado con el estonio, con el que comparte muchas características y vocabulario. Los únicos otros idiomas relacionados, si bien mucho más lejanamente, son el húngaro, las lenguas sami (laponas), y las lenguas pérmicas (udmurto, komi, mari) y mordovas (erzya y moksha), habladas por pequeños grupos en Siberia y el sur de Rusia. Es una lengua altamente flexiva.''')"
      ],
      "metadata": {
        "colab": {
          "base_uri": "https://localhost:8080/"
        },
        "id": "aHoCi8snoc8z",
        "outputId": "bdbfa476-32f8-44cc-d6f5-7a03d138b804"
      },
      "execution_count": 16,
      "outputs": [
        {
          "output_type": "execute_result",
          "data": {
            "text/plain": [
              "[es:0.9999967762003287]"
            ]
          },
          "metadata": {},
          "execution_count": 16
        }
      ]
    },
    {
      "cell_type": "markdown",
      "source": [
        "Все языки определены верно"
      ],
      "metadata": {
        "id": "CHgoBe-mokxO"
      }
    }
  ]
}