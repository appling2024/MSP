{
  "nbformat": 4,
  "nbformat_minor": 0,
  "metadata": {
    "colab": {
      "provenance": [],
      "authorship_tag": "ABX9TyPPYwFKICXV87/hpzZD+w5y",
      "include_colab_link": true
    },
    "kernelspec": {
      "name": "python3",
      "display_name": "Python 3"
    },
    "language_info": {
      "name": "python"
    }
  },
  "cells": [
    {
      "cell_type": "markdown",
      "metadata": {
        "id": "view-in-github",
        "colab_type": "text"
      },
      "source": [
        "<a href=\"https://colab.research.google.com/github/appling2024/MSP/blob/Maksim/lang_detect.ipynb\" target=\"_parent\"><img src=\"https://colab.research.google.com/assets/colab-badge.svg\" alt=\"Open In Colab\"/></a>"
      ]
    },
    {
      "cell_type": "code",
      "execution_count": 1,
      "metadata": {
        "colab": {
          "base_uri": "https://localhost:8080/"
        },
        "id": "yax7xqF944N3",
        "outputId": "1c810588-ac17-472e-a9d3-f4f9a4808044"
      },
      "outputs": [
        {
          "output_type": "stream",
          "name": "stdout",
          "text": [
            "привет\n"
          ]
        }
      ],
      "source": [
        "print('привет')"
      ]
    },
    {
      "cell_type": "code",
      "source": [
        "#langdetect"
      ],
      "metadata": {
        "id": "jyu7PL3Mg26X"
      },
      "execution_count": null,
      "outputs": []
    },
    {
      "cell_type": "code",
      "source": [
        "!pip install langdetect"
      ],
      "metadata": {
        "colab": {
          "base_uri": "https://localhost:8080/"
        },
        "id": "3T8AxRKH5Rwl",
        "outputId": "1c992461-649a-4287-e176-5f8873dbf269"
      },
      "execution_count": 1,
      "outputs": [
        {
          "output_type": "stream",
          "name": "stdout",
          "text": [
            "Collecting langdetect\n",
            "  Downloading langdetect-1.0.9.tar.gz (981 kB)\n",
            "\u001b[?25l     \u001b[90m━━━━━━━━━━━━━━━━━━━━━━━━━━━━━━━━━━━━━━━━\u001b[0m \u001b[32m0.0/981.5 kB\u001b[0m \u001b[31m?\u001b[0m eta \u001b[36m-:--:--\u001b[0m\r\u001b[2K     \u001b[91m━━━━━━━━━━━━━━━━━━━━━━━━━━━\u001b[0m\u001b[91m╸\u001b[0m\u001b[90m━━━━━━━━━━━━\u001b[0m \u001b[32m686.1/981.5 kB\u001b[0m \u001b[31m20.4 MB/s\u001b[0m eta \u001b[36m0:00:01\u001b[0m\r\u001b[2K     \u001b[90m━━━━━━━━━━━━━━━━━━━━━━━━━━━━━━━━━━━━━━━━\u001b[0m \u001b[32m981.5/981.5 kB\u001b[0m \u001b[31m18.4 MB/s\u001b[0m eta \u001b[36m0:00:00\u001b[0m\n",
            "\u001b[?25h  Preparing metadata (setup.py) ... \u001b[?25l\u001b[?25hdone\n",
            "Requirement already satisfied: six in /usr/local/lib/python3.10/dist-packages (from langdetect) (1.16.0)\n",
            "Building wheels for collected packages: langdetect\n",
            "  Building wheel for langdetect (setup.py) ... \u001b[?25l\u001b[?25hdone\n",
            "  Created wheel for langdetect: filename=langdetect-1.0.9-py3-none-any.whl size=993221 sha256=fc078c8a32aae4a3789ff98d6b8f2dc4a75ecbd27712f10bc31c5ed12ef4bead\n",
            "  Stored in directory: /root/.cache/pip/wheels/95/03/7d/59ea870c70ce4e5a370638b5462a7711ab78fba2f655d05106\n",
            "Successfully built langdetect\n",
            "Installing collected packages: langdetect\n",
            "Successfully installed langdetect-1.0.9\n"
          ]
        }
      ]
    },
    {
      "cell_type": "code",
      "source": [
        "from langdetect import detect"
      ],
      "metadata": {
        "id": "NImHYLa5I951"
      },
      "execution_count": 3,
      "outputs": []
    },
    {
      "cell_type": "code",
      "source": [
        "f = open('Gouvernement.fr.txt', 'r')\n",
        "print(f)"
      ],
      "metadata": {
        "colab": {
          "base_uri": "https://localhost:8080/"
        },
        "id": "nniOspNo5cMI",
        "outputId": "2a2cdf95-5f0a-423d-9b90-6ca33ab1d398"
      },
      "execution_count": 4,
      "outputs": [
        {
          "output_type": "stream",
          "name": "stdout",
          "text": [
            "<_io.TextIOWrapper name='Gouvernement.fr.txt' mode='r' encoding='UTF-8'>\n"
          ]
        }
      ]
    },
    {
      "cell_type": "code",
      "source": [
        "f = open('Gouvernement.fr.txt', 'r')\n",
        "\n",
        "detect('f')"
      ],
      "metadata": {
        "colab": {
          "base_uri": "https://localhost:8080/",
          "height": 35
        },
        "id": "HWs7fq8u7PK6",
        "outputId": "9314d4bf-c220-4efa-e16d-dfe2979077e4"
      },
      "execution_count": 29,
      "outputs": [
        {
          "output_type": "execute_result",
          "data": {
            "text/plain": [
              "'da'"
            ],
            "application/vnd.google.colaboratory.intrinsic+json": {
              "type": "string"
            }
          },
          "metadata": {},
          "execution_count": 29
        }
      ]
    },
    {
      "cell_type": "code",
      "source": [
        "detect('Gouvernement.fr.txt')"
      ],
      "metadata": {
        "colab": {
          "base_uri": "https://localhost:8080/",
          "height": 35
        },
        "id": "RcpCIuTkDWXx",
        "outputId": "4b9faad7-bbe8-4d2a-8545-44697647ed3e"
      },
      "execution_count": 6,
      "outputs": [
        {
          "output_type": "execute_result",
          "data": {
            "text/plain": [
              "'fr'"
            ],
            "application/vnd.google.colaboratory.intrinsic+json": {
              "type": "string"
            }
          },
          "metadata": {},
          "execution_count": 6
        }
      ]
    },
    {
      "cell_type": "code",
      "source": [
        "f = open('new.times.txt', 'r', encoding = 'windows-1251')\n",
        "for line in f:\n",
        "  print(line)\n",
        "\n",
        "f.close()"
      ],
      "metadata": {
        "colab": {
          "base_uri": "https://localhost:8080/"
        },
        "id": "73jnz1ssJEvN",
        "outputId": "9720459a-275f-4d8c-b862-3741e81f0fe4"
      },
      "execution_count": 8,
      "outputs": [
        {
          "output_type": "stream",
          "name": "stdout",
          "text": [
            "OpenAI Executives Exit as C.E.O. Works to Make the Company For-Profit\n",
            "\n",
            "Mira Murati, the chief technology officer, and two others are leaving as leaders including Sam Altman work to transform the start-up.\n",
            "\n",
            "Mira Murati, the chief technology officer at OpenAI, the influential artificial intelligence start-up, said on Wednesday that she would leave the company after working there for more than six years.\n",
            "\n",
            "In a memo she sent to employees and later shared on X, Ms. Murati said she was stepping away to “create the time and space to do my own exploration,” though she did not elaborate on what those next steps would be. “For now, my primary focus is doing everything in my power to ensure a smooth transition, maintaining the momentum we’ve built,” she said.\n",
            "\n",
            "Hours later, OpenAI’s chief research officer, Bob McGrew, and a vice president of research, Barret Zoph, announced their plans to leave as well. Mr. Zoph said in a post on X that he was “exploring new opportunities,” while Mr. McGrew said in a separate post that it was “time for me to take a break.”\n",
            "\n",
            "The OpenAI executives are exiting the start-up as its chief executive, Sam Altman, and others are working to transform it into a traditional for-profit company, according to two people familiar with the talks. OpenAI is now controlled by the board of a nonprofit organization that Mr. Altman and his co-founders created in late 2015 to oversee the start-up’s technologies.\n",
            "\n",
            "While becoming a for-profit company is not expected to happen until next year, OpenAI is in talks for a new round of investment that could value the company at as much as $150 billion, a huge leap from its last round at $80 billion. The United Arab Emirates’ technology investment firm, MGX, is among the potential investors, which also include Microsoft, Nvidia, Apple and Tiger Global, three people familiar with the conversations said.\n",
            "\n",
            "OpenAI is seeking cash because its costs far outpace its revenue, the three people said. It annually collects more than $3 billion in sales while spending about $7 billion.\n",
            "\n",
            "After years of public conflict between management and some of its top researchers, OpenAI is trying to look more like a more traditional tech company that can be a leader in the industry’s drive toward artificial intelligence.\n",
            "\n",
            "But Wednesday’s executive departures followed months of similar exits by other OpenAI leaders. And they bookend a turbulent year for the company, which included the surprise ouster of Mr. Altman as chief executive and his reinstatement five days later.\n",
            "\n",
            "Ms. Murati, who had joined OpenAI in 2018, was appointed to lead the company after Mr. Altman’s removal, but rejected the role just two days later. She has remained one of the public faces of the start-up, making frequent public appearances to discuss its technology.\n",
            "\n",
            "A spokeswoman for OpenAI declined to comment beyond what the executives posted online.\n",
            "\n",
            "In a reply to Ms. Murati on X, Mr. Altman thanked her for her years at the company and said he would provide more information on the leadership transition in the coming days.\n",
            "\n",
            "“It’s hard to overstate how much Mira has meant to OpenAI, our mission, and to us all personally,” he wrote.\n",
            "\n",
            "Late Wednesday, Mr. Altman said on social media that the departures of Mr. McGrew and Mr. Zoph were unrelated to the resignation of Ms. Murati but that “it made sense to now do this all at once, so that we can work together for a smooth handover to the next generation of leadership.”\n",
            "\n",
            "(The New York Times sued OpenAI and Microsoft in December for copyright infringement of news content related to A.I. systems.)\n",
            "\n",
            "In recent months, OpenAI has added a number of seasoned executives, including new heads of product, a new chief financial officer and a head of global policy to handle relationships in Washington and across the world. Over the past nine months, OpenAI has more than doubled in size, with over 1,700 employees, while publicly stressing that it was focused on making its technology safe for widespread use.\n",
            "\n",
            "But as new executives have come in, a number of longtime OpenAI managers and researchers have headed out the door. Of the 13 people who helped found OpenAI in 2015 with a mission to create artificial general intelligence, or A.G.I. — a machine that can do anything the human brain can do — only three remain.\n",
            "\n",
            "One of the remaining founders, Greg Brockman, the company’s president, has taken a leave of absence through the end of the year, citing the need for time off after nearly a decade of work.\n",
            "\n",
            "The two executives who announced their departures after Ms. Murati’s resignation were among those who formed the core of OpenAI’s research team over the past several months.\n",
            "\n",
            "While Mr. Zoph was a key hands-on researcher, Mr. McGrew was more of a project manager who helped map out strategy and oversaw other employees. He was closely aligned with Ms. Murati.\n",
            "\n",
            "Mr. Zoph was closely aligned with John Schulman, a founder who left OpenAI this summer.\n",
            "\n",
            "The company has also added key researchers, most notably Noam Brown, a former Meta researcher who specializes in the “reasoning” techniques that help drive OpenAI’s latest technology, called OpenAI o1.\n",
            "\n",
            "Designed to reason through tasks involving math, science and computer programming, the new technology can in some cases reduce the mistakes and “hallucinations,” or made-up information, produced by the company’s ChatGPT chatbot.\n",
            "\n",
            "\n",
            "\n"
          ]
        }
      ]
    },
    {
      "cell_type": "code",
      "source": [
        "detect('new.times.txt')"
      ],
      "metadata": {
        "colab": {
          "base_uri": "https://localhost:8080/",
          "height": 35
        },
        "id": "Yp14AldhDmtJ",
        "outputId": "177fa05c-defc-4765-da26-c4bf701243f0"
      },
      "execution_count": 9,
      "outputs": [
        {
          "output_type": "execute_result",
          "data": {
            "text/plain": [
              "'en'"
            ],
            "application/vnd.google.colaboratory.intrinsic+json": {
              "type": "string"
            }
          },
          "metadata": {},
          "execution_count": 9
        }
      ]
    },
    {
      "cell_type": "code",
      "source": [
        "f = open('forbes1.txt', 'r')\n",
        "\n",
        "detect('f')"
      ],
      "metadata": {
        "colab": {
          "base_uri": "https://localhost:8080/",
          "height": 35
        },
        "id": "Yl0Bn061LNUF",
        "outputId": "14be5ee7-5321-4ad3-84f7-c44e64c086ca"
      },
      "execution_count": 31,
      "outputs": [
        {
          "output_type": "execute_result",
          "data": {
            "text/plain": [
              "'da'"
            ],
            "application/vnd.google.colaboratory.intrinsic+json": {
              "type": "string"
            }
          },
          "metadata": {},
          "execution_count": 31
        }
      ]
    },
    {
      "cell_type": "code",
      "source": [
        "detect('forbes1.txt')"
      ],
      "metadata": {
        "colab": {
          "base_uri": "https://localhost:8080/",
          "height": 35
        },
        "id": "9A2nimDdLmDZ",
        "outputId": "4bb92b37-fca9-4fdb-e263-48c6d9e72e8a"
      },
      "execution_count": 11,
      "outputs": [
        {
          "output_type": "execute_result",
          "data": {
            "text/plain": [
              "'da'"
            ],
            "application/vnd.google.colaboratory.intrinsic+json": {
              "type": "string"
            }
          },
          "metadata": {},
          "execution_count": 11
        }
      ]
    },
    {
      "cell_type": "code",
      "source": [
        "#langid"
      ],
      "metadata": {
        "id": "h1ZGv5OChZB9"
      },
      "execution_count": null,
      "outputs": []
    },
    {
      "cell_type": "code",
      "source": [
        "!pip install langid"
      ],
      "metadata": {
        "colab": {
          "base_uri": "https://localhost:8080/"
        },
        "id": "xBVSKUIHhbcT",
        "outputId": "ccc64112-0363-4b44-ec42-1cdada151379"
      },
      "execution_count": 12,
      "outputs": [
        {
          "output_type": "stream",
          "name": "stdout",
          "text": [
            "Collecting langid\n",
            "  Downloading langid-1.1.6.tar.gz (1.9 MB)\n",
            "\u001b[?25l     \u001b[90m━━━━━━━━━━━━━━━━━━━━━━━━━━━━━━━━━━━━━━━━\u001b[0m \u001b[32m0.0/1.9 MB\u001b[0m \u001b[31m?\u001b[0m eta \u001b[36m-:--:--\u001b[0m\r\u001b[2K     \u001b[91m━━━━━━━━━━━━━━\u001b[0m\u001b[90m╺\u001b[0m\u001b[90m━━━━━━━━━━━━━━━━━━━━━━━━━\u001b[0m \u001b[32m0.7/1.9 MB\u001b[0m \u001b[31m20.2 MB/s\u001b[0m eta \u001b[36m0:00:01\u001b[0m\r\u001b[2K     \u001b[90m━━━━━━━━━━━━━━━━━━━━━━━━━━━━━━━━━━━━━━━━\u001b[0m \u001b[32m1.9/1.9 MB\u001b[0m \u001b[31m28.1 MB/s\u001b[0m eta \u001b[36m0:00:00\u001b[0m\n",
            "\u001b[?25h  Preparing metadata (setup.py) ... \u001b[?25l\u001b[?25hdone\n",
            "Requirement already satisfied: numpy in /usr/local/lib/python3.10/dist-packages (from langid) (1.26.4)\n",
            "Building wheels for collected packages: langid\n",
            "  Building wheel for langid (setup.py) ... \u001b[?25l\u001b[?25hdone\n",
            "  Created wheel for langid: filename=langid-1.1.6-py3-none-any.whl size=1941171 sha256=c1d1bbd8fea9e639348d86326095d9d368aff8ab9190e1a3a99c83a96e6f3b9d\n",
            "  Stored in directory: /root/.cache/pip/wheels/23/c8/c6/eed80894918490a175677414d40bd7c851413bbe03d4856c3c\n",
            "Successfully built langid\n",
            "Installing collected packages: langid\n",
            "Successfully installed langid-1.1.6\n"
          ]
        }
      ]
    },
    {
      "cell_type": "code",
      "source": [
        "import langid"
      ],
      "metadata": {
        "id": "ErV5j5aXiNqn"
      },
      "execution_count": 15,
      "outputs": []
    },
    {
      "cell_type": "code",
      "source": [
        "langid.classify('Gouvernement.fr.txt')"
      ],
      "metadata": {
        "colab": {
          "base_uri": "https://localhost:8080/"
        },
        "id": "JTg9ptFli8-c",
        "outputId": "6765f11b-95a7-4e58-8b2f-a74f39df3f48"
      },
      "execution_count": 16,
      "outputs": [
        {
          "output_type": "execute_result",
          "data": {
            "text/plain": [
              "('fr', -33.57415819168091)"
            ]
          },
          "metadata": {},
          "execution_count": 16
        }
      ]
    },
    {
      "cell_type": "code",
      "source": [
        "langid.classify('new.times.txt')"
      ],
      "metadata": {
        "colab": {
          "base_uri": "https://localhost:8080/"
        },
        "id": "Ehya0QqmjLOQ",
        "outputId": "226fa68c-8d5e-445c-bd4a-0624de9ee502"
      },
      "execution_count": 17,
      "outputs": [
        {
          "output_type": "execute_result",
          "data": {
            "text/plain": [
              "('en', 9.061840057373047)"
            ]
          },
          "metadata": {},
          "execution_count": 17
        }
      ]
    },
    {
      "cell_type": "code",
      "source": [
        "f = open('forbes1.txt', 'r', encoding = 'windows-1251')\n",
        "for line in f:\n",
        "  print(line)\n",
        "\n",
        "f.close()"
      ],
      "metadata": {
        "colab": {
          "base_uri": "https://localhost:8080/"
        },
        "id": "FJ6koXuMl-cc",
        "outputId": "10f115d5-4c49-4aeb-d77c-50f15af0d031"
      },
      "execution_count": 20,
      "outputs": [
        {
          "output_type": "stream",
          "name": "stdout",
          "text": [
            "Почему собранные ретейлерами на переработку вещи оказываются на свалках Африки\n",
            "\n",
            "\n",
            "\n",
            "Несмотря на глобальные экологические тенденции и попытки модной индустрии за ними следовать, в мире перерабатывается менее 1% текстильных отходов. По данным исследований, ежегодно выбрасывается 7,5 т одежды, из которой более 65% сжигается или оказывается на свалках\n",
            "\n",
            "Издание Spiegel со ссылкой на исследование экспертов международной консалтинговой компании McKinsey сообщает о масштабах текстильных отходов, которые создает «быстрая мода». Среднестатистический житель Европы выбрасывает более 15 кг одежды ежегодно. К 2030 году этот показатель превысит 20 кг на человека. Авторы исследования также сообщают, что 85% текстильных отходов приходится не на компании, а на частные домохозяйства. В общей сумме выбрасывается 7,5 т одежды, из которой более 65% сжигается или оказывается на свалках.\n",
            "\n",
            "Многие компании выступают с зелеными инициативами. Uniqlo планирует сократить выбросы опасных химических веществ и уменьшить использование пластика, Mango — использовать экологичные волокна, Zara — перейти к использованию экологичных ресурсов и повысить «экологическую эффективность» своих офисов. Первым крупным ретейлером, запустившим программу сбора ненужных вещей в своих магазинах, стал H&M. Компания предлагает за сданную одежду ваучеры со скидкой в 15% на следующую покупку в одном из магазинов сети. В H&M заявили, что акция направлена на снижение негативного воздействия текстильной промышленности на окружающую среду и не преследует цели увеличить прибыль за счет продажи старой одежды.\n",
            "\n",
            "С момента запуска программы в 2013 году H&M удалось собрать более 140 000 т одежды по всему миру. Перерабатывается только 10%. Остальное отправляется в развивающиеся страны, где в конечном итоге вещи оказываются на свалках.\n",
            "\n",
            "Критики идеи H&M полагают, что эта история не только про экологическую ответственность, но и инструмент маркетинга. Директор отраслевого объединения FairWertung Андреас Фогет считает, что акции по приему старых вещей направлены на привлечение клиентов и увеличение сбыта новой продукции. Прием старых вещей также может быть источником дохода. Дитер Шюц, пресс-секретарь немецкого Красного Креста, сообщает, что в Германии ежегодно накапливается порядка миллиона тонн ненужной одежды, а одна тонна текстиля стоит около €250. \n",
            "\n",
            "В 2020-м вокруг H&M разгорелся скандал из-за перепродажи вещей. Официально ритейлер должен был собрать ненужную одежду у покупателей и передать ее другой компании, которая занимается сортировкой и отправкой текстиля на немецкие заводы SEOX. В марте экоблогер Елена Володина опубликовала видео «Где я нашла вещи, которые люди сдают в H&M». В нем девушка утверждает, что нашла одежду в фирменных пакетах на Avito, где ее перепродавали оптом. Володина позвонила по объявлению, приехала на склад в Подмосковье и купила пакеты, в которых увидела маркировку I:Collect — той самой компании, которая занимается сортировкой и отправкой вещей в Германию. После этого экоблогер сдала одежду в H&M с GPS-маячками, по которым отследила, что все вещи направляются в тот склад, откуда она ранее купила одежду.   \n",
            "\n",
            "Bloomberg сообщает, что модная индустрия перерабатывает всего один процент от всей произведенной продукции. Так, в Аккре, столице Ганы, ежегодно скапливается более 15 млн предметов одежды, 40% из которых отправляются на свалки. Это объясняется в том числе крайне низким качеством текстиля. \n",
            "\n",
            "Гана — один из крупнейших импортеров подержанной одежды в мире. Поток отгружаемой одежды из-за рубежа на местном языке Чви называется obroni wawy, или «одежда мертвых белых людей». Соломон Ной, глава отдела управления отходами Аккры, считает, что 40% поступаемой одежды сразу отправляется на свалки без попытки ее переработать или перепродать. Сам Ной объясняет это отсутствием денег и инфраструктуры у правительства Ганы, «чтобы заботиться об отходах белого человека». \n",
            "\n",
            "По данным британской некоммерческой организации Ellen MacArthur Foundation, менее 1% старых изделий переделано в новые предметы гардероба. Одежда, сдаваемая в контейнеры на переработку, присоединятся к общему большому потоку ненужных вещей. Этот поток ложится на индустрию брокеров и переработчиков, чей бизнес зависит от экспорта одежды в развивающиеся страны.\n",
            "\n",
            "Выброшенная одежда покупается, сортируется, превращается в товар и перепродается по всему миру. Одежда, которую все еще можно носить, имеет самую высокую ценность. Такие вещи поступают из корзин для пожертвований или контейнеров для переработки. Также нередко приходит новая одежда с бирками. Часть отходов, непригодная для повторной носки, измельчается и превращается в сырье самого разного применения: от тряпок до изоляции в автомобилях. Одежда из чистого хлопка или шерсти может быть измельчена и превращена в качественную пряжу. \n",
            "\n",
            "Генеральный директор Textile Recycling International утверждает, что весь текстиль, будь он новым или переработанным, в конечном итоге окажется на свалке. По его мнению, главное — «держать одежду в использовании как можно дольше».   \n",
            "\n",
            "Вред экологии приносит не только выброшенная одежда, но и ее переработка: необходимо удалить красители и «разъединить» смешанные ткани. Компании, занимающиеся переработкой текстиля, используют растворители для распада волокон, но разные волокна требуют разных химических веществ. Переработка потребляет больше ресурсов и производит больше отходов, чем повторное использование одежды. \n",
            "\n",
            "Тем не менее, по мнению эксперта McKinsey Карла-Хендрика Магнуса, на переработке текстиля по всей Европе можно создать 15 000 новых рабочих мест с экономикой замкнутого цикла. Объем продажи переработанного продукта может достигать €8 млрд. Однако процесс значительно замедляет сортировка. Со старой одежды необходимо снять пуговицы и молнии, а также разделить отходы по качеству волокна и его составу. Смешанные волокна все еще остаются нерешенной проблемой для переработки.   \n",
            "\n",
            "Эксперт Greenpeace (Генпрокуратура РФ признала нежелательной в России деятельность фонда) Кристин Бродде в комментарии Deutsche Welle заявила: «Мы должны покупать меньше одежды и дольше ее носить, а не относить каждые несколько месяцев тюки с поношенными вещами к контейнерам — в надежде, что они еще послужат кому-то на другом конце земного шара». Главная проблема заключается в слишком быстром и слишком большом потреблении. По мнению Бродде, предприятия должны повысить уровень экологичности производства, что автоматически увеличит его стоимость и цену выпускаемых товаров.\n",
            "\n",
            "\n",
            "\n",
            "От «Энеиды» до «Лавины»: любимые книги миллиардеров\n",
            "\n",
            "Чтение — источник вдохновения и способ получения новой информации. Бизнесмены, помимо книг об инвестициях и построении бизнеса, также читают художественную литературу. О любимых произведениях — в материале Forbes\n",
            "\n",
            "\n",
            "\n",
            "Илон Маск — «Властелин колец» Джона Толкина\n",
            "\n",
            "Состояние Маска: $180 млрд (здесь и далее по данным рейтинга Forbes богатейших людей мира)\n",
            "\n",
            "Одно из самых популярных, читаемых и культовых произведений XX века. Толкин — родоначальник современного фэнтези. В середине 1950-х годов вышли три книги «Властелина колец», повествующие о Средиземье — мире, населенном представителями волшебной расы со сложной культурой, историей и мифологией.\n",
            "\n",
            "«Герои книг «Властелин колец» и «Основание» всегда чувствовали, что должны спасти мир», — говорил генеральный директор SpaceX Илон Маск в интервью The New Yorker, подчеркивая важность этого произведения для себя.\n",
            "\n",
            "\n",
            "\n",
            "Джефф Безос — «Остаток дня» Кадзуо Исигуро\n",
            "\n",
            "Состояние: $114 млрд\n",
            "\n",
            "Произведение рассказывает о дворецком Стивене, который почти всю жизнь служил лорду Дарлингтону. Теперь он выполняет ту же самую работу в том же самом доме, но у другого хозяина. Главный герой вспоминает прошлое, рассказывает, как у него развивалось чувство долга и умение ставить нужных людей на нужное место. В 1989-м Исигуро получил Букеровскую премию за «Остаток дня». В 1993 вышла одноименная экранизация Джеймса Айвори с Энтони Хопкинсом в главной роли.\n",
            "\n",
            "«Если вы читаете «Остаток дня», вы не можете не думать. Я провел 10 часов, живя другой жизнью, и узнал кое-что новое о жизни и о сожалении», — рассказал основатель Amazon Джефф Безос в интервью Newsweek.\n",
            "\n",
            "\n",
            "\n",
            "Ларри Эллисон — «Источник» Айн Рэнд\n",
            "\n",
            "Состояние: $107 млрд\n",
            "\n",
            "Роман проповедует идею о том, что творческие люди — основной двигатель прогресса. Главный герой Говард Рок, талантливый архитектор, отказывается идти на компромиссы, отступать от собственных жизненных и профессиональных стандартов.\n",
            "\n",
            "В 1949 году по роману был снят одноименный фильм Кинга Видора с Гэри Купером в главной роли. Сценарий написала сама Айн Рэнд.\n",
            "\n",
            "«В детстве я хотел быть архитектором. Это до того, как я прочитал «Источник». Я имею в виду, что трудно найти профессию, в которой платят хуже, чем в архитектуре», — отметил сооснователь компании Oracle Ларри Эллисон в интервью для Смитсоновского института устных и видеоисторий.\n",
            "\n",
            "\n",
            "\n",
            "Билл Гейтс — «Над пропастью во ржи» Джерома Сэлинджера\n",
            "\n",
            "Состояние: $104 млрд\n",
            "\n",
            "Главный герой произведения — 16-летний Холден Колфилд, который находится на лечении в клинике. Он рассказывает об истории, случившейся с ним прошлой зимой, перед его болезнью. Книга про подростка, несколько дней его жизни и  неприятие канонов и морали современного общества.\n",
            "\n",
            "«Я прочел «Над пропастью во ржи», когда мне было 13, и с тех пор это одна из моих самых любимых книг. Она очень мудрая. Роман показывает, что молодые люди могут выглядеть сбитыми с толку, но быть мудрыми и видеть вещи, которые взрослые на самом деле не замечают», — говорил основатель Microsoft Билл Гейтс в интервью с представителями образовательной организации Academy of Achievement.\n",
            "\n",
            "\n",
            "\n",
            "Майкл Блумберг — «Достопочтенный школяр» Джона ле Карре\n",
            "\n",
            "Майкл Блумберг, бывший мэр Нью-Йорка и владелец информационного агентства Bloomberg — «Достопочтенный школяр» Джона ле Карре\n",
            "\n",
            "Состояние: $94,5 млрд\n",
            "\n",
            "Шпионский роман о Джордже Смайле, который отправляется в Гонконг и пытается восстановить британскую разведку после разоблачения предателя. Герой должен провести шпионскую операцию, чтобы спасти секретную службу от нападок правительства.\n",
            "\n",
            "«Это 600 страниц, большая часть которых — описание и никакого действия. Но как захватывающе!» — поделился основатель медиаимперии Майкл Блумберг в интервью The New York Times.\n",
            "\n",
            "\n",
            "\n",
            "Карлос Слим — «Пророк» Халиля Джебрана\n",
            "\n",
            "Состояние: $93 млрд\n",
            "\n",
            "Книга ливанско-американского поэта состоит из 26 стихотворений в прозе и разделена на главы, касающиеся различных тем.\n",
            "\n",
            "«Пророк» Альмустафа, прожив 12 лет в чужом для него городе, собирается сесть на корабль, который доставит его домой. Его останавливает группа местных жителей, которые задают вопросы на различные темы: любви, брака, детей, радости и печали, добра и зла, разума и страсти, боли, самопознания, учения, дружбы. Главный герой обещает вернуться в этот город, но в облике другого, еще не рожденного человека, и отплывает на корабле.\n",
            "\n",
            "«Если вы хотите поговорить о стихах, вот интересное», — описывал книгу президент Carso Grupo Карлос Слим в интервью Latin American Voices.\n",
            "\n",
            "\n",
            "\n",
            "Сергей Брин — «Лавина» Нила Стивенсона\n",
            "\n",
            "Состояние: $76 млрд\n",
            "\n",
            "Научно-фантастический роман рассказывает читателю о приключениях группы героев, которые впутались в масштабный заговор по управлению сознанием людей с помощью компьютерного и одновременно биологического вируса «Лавина».\n",
            "\n",
            "Антиутопия была номинирована на премию Британской ассоциации научной фантастики в 1993 году и на премию Артура Кларка в 1994-м. «Книга на десять лет опередила свое время. Автор предвидел будущее, и я думаю, что это действительно интересно», — говорил сооснователь Google Сергей Брин в интервью Academy of Achievement.\n",
            "\n",
            "\n",
            "\n",
            "Марк Цукерберг — «Энеида» Вергилия\n",
            "\n",
            "Состояние: $64,4 млрд\n",
            "\n",
            "Поэма посвящена истории легендарного троянского героя Энея, который с остатками своего народа переселился в Италию после падения Трои. Произведение указывает на божественное происхождение Рима, прославляет Энея и приводит легенды, дающие обоснование вечной вражды между Римом и Карфагеном.\n",
            "\n",
            "Согласно профилю New Yorker, основатель компании Meta (признана в России экстремистской организацией, ее деятельность запрещена) Марк Цукерберг однажды назвал классический греческий роман «Энеида» одной из своих любимых книг. Марк заявил, что впервые прочитал произведение, когда изучал латынь в средней школе, и что он был очарован поисками Энея и его желанием построить город, который «не знает границ во времени и величии».\n",
            "\n",
            "\n",
            "\n",
            "Чарльз Кох — «Костры амбиций» Тома Вулфа\n",
            "\n",
            "Состояние: $59 млрд\n",
            "\n",
            "Роман — драма об амбициях, расизме, политике, жадности в Нью-Йорке 1980-х. История сосредоточена на трех героях: торговце облигациями Шермане Маккое, еврейском окружном прокуроре Ларри Крамере и британском журналисте Питере Фэллоу.\n",
            "\n",
            "Название произведения отсылает к костру тщеславия во Флоренции 1497 года. Религиозный реформатор Джироламо Савонарола приказал сжечь предметы, которые церковь считала греховными: светские книги, музыкальные инструменты, игральные карты и кости, богатые наряды и зеркала.\n",
            "\n",
            "«Это те книги, где я узнал, как устроен мир», — говорится на сайте совладельца Koch Industries Чарльза Коха.\n",
            "\n",
            "\n",
            "\n"
          ]
        }
      ]
    },
    {
      "cell_type": "code",
      "source": [
        "langid.classify('forbes1.txt')"
      ],
      "metadata": {
        "colab": {
          "base_uri": "https://localhost:8080/"
        },
        "id": "Yf0h9zIPlxY0",
        "outputId": "eff1b0e6-d571-44e2-d38d-6ef994623c6f"
      },
      "execution_count": 21,
      "outputs": [
        {
          "output_type": "execute_result",
          "data": {
            "text/plain": [
              "('da', -6.4198713302612305)"
            ]
          },
          "metadata": {},
          "execution_count": 21
        }
      ]
    },
    {
      "cell_type": "code",
      "source": [
        "langid.classify('9tezis.txt')"
      ],
      "metadata": {
        "colab": {
          "base_uri": "https://localhost:8080/"
        },
        "id": "C156yKdQovJ_",
        "outputId": "9b3767f1-7f05-4e0c-b2a9-daba988d16a7"
      },
      "execution_count": 22,
      "outputs": [
        {
          "output_type": "execute_result",
          "data": {
            "text/plain": [
              "('en', 9.061840057373047)"
            ]
          },
          "metadata": {},
          "execution_count": 22
        }
      ]
    }
  ]
}